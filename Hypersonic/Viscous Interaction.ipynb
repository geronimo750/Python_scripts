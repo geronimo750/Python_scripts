{
 "cells": [
  {
   "cell_type": "code",
   "execution_count": 3,
   "id": "82aa5605",
   "metadata": {},
   "outputs": [],
   "source": [
    "import numpy as np\n",
    "import matplotlib.pyplot as plt\n",
    "import sympy as sp\n",
    "from Thermo import *"
   ]
  },
  {
   "cell_type": "markdown",
   "id": "a0fd85f0",
   "metadata": {},
   "source": [
    "Free stream values --> $M_\\infty=11$ and Altitude=24 Km"
   ]
  },
  {
   "cell_type": "code",
   "execution_count": 45,
   "id": "ae310aa6",
   "metadata": {},
   "outputs": [],
   "source": [
    "Tinf= 220.6\n",
    "muinf=14.43E-6\n",
    "ainf=297.7\n",
    "pinf=2.97E+03 \n",
    "rhoinf=4.69E-02 \n",
    "Minf=11\n",
    "gm=1.33\n",
    "delta=(gm-1)/2"
   ]
  },
  {
   "cell_type": "markdown",
   "id": "325077b4",
   "metadata": {},
   "source": [
    "Type of condition at the wall\n",
    "\n",
    "Adiabatic $\\Rightarrow T_{aw}=0.88*(1+\\frac{\\gamma -1}{2}M^2$)\n",
    "\n",
    "Cold  $T_w=const$"
   ]
  },
  {
   "cell_type": "code",
   "execution_count": 46,
   "id": "87b97098",
   "metadata": {},
   "outputs": [],
   "source": [
    "taw=0.88*Tinf*(1+delta*Minf**2)\n",
    "Twall=taw"
   ]
  },
  {
   "cell_type": "code",
   "execution_count": 47,
   "id": "a35166f1",
   "metadata": {},
   "outputs": [
    {
     "name": "stdout",
     "output_type": "stream",
     "text": [
      "Mu wall= 9.055768621076221e-05\n"
     ]
    }
   ],
   "source": [
    "muwall=mus(Twall)\n",
    "print(\"Mu wall=\",muwall)"
   ]
  },
  {
   "cell_type": "code",
   "execution_count": 48,
   "id": "6a9cd76e",
   "metadata": {},
   "outputs": [
    {
     "name": "stdout",
     "output_type": "stream",
     "text": [
      "C= 2.9398051909188605\n"
     ]
    }
   ],
   "source": [
    "C=Twall*muinf/(Tinf*muwall)\n",
    "print(\"C=\",C)"
   ]
  },
  {
   "cell_type": "code",
   "execution_count": 49,
   "id": "2e132de3",
   "metadata": {},
   "outputs": [
    {
     "name": "stdout",
     "output_type": "stream",
     "text": [
      "Rex1= 10643342.342342341\n"
     ]
    }
   ],
   "source": [
    "X=sp.symbols('X')\n",
    "\n",
    "Rex=rhoinf*Minf*ainf*X/muinf\n",
    "\n",
    "print (\"Rex1=\", rhoinf*Minf*ainf/muinf)\n",
    "Cibar=Minf**3*sp.sqrt(C)/sp.sqrt(Rex)"
   ]
  },
  {
   "cell_type": "code",
   "execution_count": 50,
   "id": "59b9b987",
   "metadata": {},
   "outputs": [
    {
     "name": "stdout",
     "output_type": "stream",
     "text": [
      "xmin= 0.009986206719106041\n",
      "xmed= 0.05436934769291067\n"
     ]
    }
   ],
   "source": [
    "xmin=(sp.solve(Cibar-7,X))\n",
    "xmed=(sp.solve(Cibar-3,X))\n",
    "xmax=4\n",
    "xm=float(xmin[0])\n",
    "xe=float(xmed[0])\n",
    "print(\"xmin=\",xm)\n",
    "print(\"xmed=\",xe)"
   ]
  },
  {
   "cell_type": "markdown",
   "id": "1fac058e",
   "metadata": {},
   "source": [
    "# Adiabatic case\n",
    "\n",
    "## Strong Interaction\n",
    "\n",
    "$\\dfrac{p_s}{p_{\\infty}}=0.514*\\chi+0.759$\n",
    "\n",
    "\n",
    "## weak interaction\n",
    "$\\dfrac{p_w}{p_{\\infty}}=1+0.31\\chi+0.05\\chi^2$\n"
   ]
  },
  {
   "cell_type": "code",
   "execution_count": 51,
   "id": "52e64d03",
   "metadata": {},
   "outputs": [],
   "source": [
    "# adiabatic\n",
    "ps=0.514*Cibar+0.759\n",
    "pw=1+0.31*Cibar+0.05*Cibar**2"
   ]
  },
  {
   "cell_type": "code",
   "execution_count": 37,
   "id": "2f858c43",
   "metadata": {},
   "outputs": [
    {
     "data": {
      "image/png": "[encoded data removed]",
      "text/plain": [
       "<Figure size 640x480 with 1 Axes>"
      ]
     },
     "metadata": {},
     "output_type": "display_data"
    },
    {
     "data": {
      "text/plain": [
       "<sympy.plotting.plot.Plot at 0x7feb1cd43ca0>"
      ]
     },
     "execution_count": 37,
     "metadata": {},
     "output_type": "execute_result"
    }
   ],
   "source": [
    "f=sp.Piecewise((ps, X>xe),(ps,X>xm))\n",
    "sp.plot(ps,(X,xm,xe))"
   ]
  },
  {
   "cell_type": "code",
   "execution_count": 52,
   "id": "ecb75aaa",
   "metadata": {},
   "outputs": [
    {
     "data": {
      "text/plain": [
       "4069.8935200000005"
      ]
     },
     "execution_count": 52,
     "metadata": {},
     "output_type": "execute_result"
    }
   ],
   "source": [
    "taw"
   ]
  },
  {
   "cell_type": "code",
   "execution_count": 39,
   "id": "d6f5455d",
   "metadata": {},
   "outputs": [
    {
     "data": {
      "text/plain": [
       "4.821450819846715e-06"
      ]
     },
     "execution_count": 39,
     "metadata": {},
     "output_type": "execute_result"
    }
   ],
   "source": [
    "11**3*np.sqrt(3.54)/49/10.6e6"
   ]
  },
  {
   "cell_type": "code",
   "execution_count": 41,
   "id": "f57e5bf8",
   "metadata": {},
   "outputs": [
    {
     "data": {
      "text/latex": [
       "$\\displaystyle 2506.20032791526$"
      ],
      "text/plain": [
       "2506.20032791526"
      ]
     },
     "execution_count": 41,
     "metadata": {},
     "output_type": "execute_result"
    }
   ],
   "source": [
    "Minf**3*sp.sqrt(C)"
   ]
  },
  {
   "cell_type": "code",
   "execution_count": 44,
   "id": "22dca014",
   "metadata": {},
   "outputs": [
    {
     "data": {
      "text/plain": [
       "0.06573716918238995"
      ]
     },
     "execution_count": 44,
     "metadata": {},
     "output_type": "execute_result"
    }
   ],
   "source": [
    "11**6*3.54/9/10.6e6"
   ]
  },
  {
   "cell_type": "code",
   "execution_count": null,
   "id": "00135a3d",
   "metadata": {},
   "outputs": [],
   "source": []
  }
 ],
 "metadata": {
  "kernelspec": {
   "display_name": "Python 3 (ipykernel)",
   "language": "python",
   "name": "python3"
  },
  "language_info": {
   "codemirror_mode": {
    "name": "ipython",
    "version": 3
   },
   "file_extension": ".py",
   "mimetype": "text/x-python",
   "name": "python",
   "nbconvert_exporter": "python",
   "pygments_lexer": "ipython3",
   "version": "3.9.10"
  }
 },
 "nbformat": 4,
 "nbformat_minor": 5
}
