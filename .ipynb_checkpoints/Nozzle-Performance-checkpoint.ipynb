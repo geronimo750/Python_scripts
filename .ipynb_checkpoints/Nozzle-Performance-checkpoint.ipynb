{
 "cells": [
  {
   "cell_type": "markdown",
   "id": "cc64c339-96ae-4b75-8fa0-79b4be0da97c",
   "metadata": {
    "tags": []
   },
   "source": [
    "# Nozzle performance evaluations"
   ]
  },
  {
   "cell_type": "markdown",
   "id": "dc748713-ca03-436a-8b90-2e4477f2a6b6",
   "metadata": {},
   "source": [
    "In this notebook we will try to evaluate the performance parameter of the nozzle using a python script"
   ]
  },
  {
   "cell_type": "code",
   "execution_count": 14,
   "id": "1cd64172-33cc-454c-82ec-1aa0e9c7dc86",
   "metadata": {},
   "outputs": [],
   "source": [
    "import numpy as np\n",
    "import scipy as sp\n",
    "import matplotlib.pyplot as plt"
   ]
  },
  {
   "cell_type": "markdown",
   "id": "1bf54808-2aec-491c-9210-def36fb09a64",
   "metadata": {},
   "source": [
    "## Variables "
   ]
  },
  {
   "cell_type": "code",
   "execution_count": 15,
   "id": "16181a8a-1bdc-48ba-b1da-9fad9b2f414a",
   "metadata": {},
   "outputs": [],
   "source": [
    "gm=1.4\n",
    "de=(gm-1)/2\n",
    "ex1=gm/(gm-1)\n",
    "ex2=(gm+1)/(2*(gm-1))\n",
    "R=287.05"
   ]
  },
  {
   "cell_type": "markdown",
   "id": "12356162-1d9c-4e33-a642-5f0622446369",
   "metadata": {},
   "source": [
    "## Formula\n",
    "\n",
    "In the below formual isentropic relationships are utilised to link the ratio between the area and the critical area with the ratio of $P_t / P=NPR$\n",
    "\n",
    "$\\large{\\frac{A^{\\ast}}{A}=\\left(\\frac{\\gamma+1}{2}\\right)^{\\frac{\\gamma+1}{2\\left(\\gamma-1\\right)}}\\cdot \\left(\\frac{2}{\\gamma-1}\\right)^{\\frac{1}{2}}\\cdot\\left({NPR}\\right)^{-\\frac{1}{\\gamma}}\\cdot\\sqrt{1-\\left({NPR}\\right)^{-\\left(\\frac{\\gamma-1}{\\gamma}\\right)}}}$"
   ]
  },
  {
   "cell_type": "code",
   "execution_count": 62,
   "id": "0dee51b8-7edc-473c-8730-c305340a910e",
   "metadata": {},
   "outputs": [
    {
     "name": "stdout",
     "output_type": "stream",
     "text": [
      "3.8639254651196366\n"
     ]
    }
   ],
   "source": [
    "c1=((gm+1)/2)**ex2*(1/de)**0.5;print(c1)"
   ]
  },
  {
   "cell_type": "markdown",
   "id": "9cc7f3d1-ecc3-4c2f-ac6d-3938c22f4c51",
   "metadata": {},
   "source": [
    "$\\Large\\dfrac{\\dot{m}}{A}=M\\cdot\\left(1+\\delta M^2\\right)^{-\\frac{\\gamma+1}{2(\\gamma-1)}}\\cdot\\left(\\dfrac{\\gamma}{R}\\right)^{1/2}\\dfrac{P_t}{\\sqrt{T_t}}$\n",
    "\n",
    "in critical conditions\n",
    "\n",
    "$\\Large\\dfrac{\\dot{m}}{A^*}=\\left(1+\\delta\\right)^{-\\frac{\\gamma+1}{2(\\gamma-1)}}\\cdot\\left(\\dfrac{\\gamma}{R}\\right)^{1/2}\\dfrac{P_t}{\\sqrt{T_t}}$\n",
    "\n",
    "moltiplying LHS and RAS per $A^*/A_e$\n",
    "\n",
    "$\\Large\\dot{m_i}=\\left(1+\\delta\\right)^{-\\frac{\\gamma+1}{2(\\gamma-1)}}\\cdot\\left(\\frac{\\gamma}{R}\\right)^{1/2}\\cdot\\left(\\frac{A^{\\ast}}{A_{e\\ }}\\right)\\cdot A_e\\cdot\\frac{P_t}{\\sqrt{T_t}}$\n"
   ]
  },
  {
   "cell_type": "code",
   "execution_count": 61,
   "id": "88f371fc-dc45-4909-b019-21480469c253",
   "metadata": {},
   "outputs": [
    {
     "name": "stdout",
     "output_type": "stream",
     "text": [
      "0.04041841989407281\n"
     ]
    }
   ],
   "source": [
    "c2=(1+de)**(-ex2)*(gm/R)**0.5 ;print(c2)"
   ]
  },
  {
   "cell_type": "markdown",
   "id": "4ca675b7-12bb-4669-8a0a-b956360f9b62",
   "metadata": {},
   "source": [
    "## Nozzle Properties\n",
    "\n",
    "A = exit section;\n",
    "NPR = Nozzle pressure ratio $P_t / P$;\n",
    "$P_t$ = Total Pressure;\n",
    "$T_t$ =Total temperature;"
   ]
  },
  {
   "cell_type": "code",
   "execution_count": 48,
   "id": "663e2690-c7e5-4fc1-b5cd-588c8d43502c",
   "metadata": {},
   "outputs": [],
   "source": [
    "Ae=0.0209568613\n",
    "NPR=1.4\n",
    "Pamb=98181.34\n",
    "Pt=NPR*Pamb\n",
    "Tt=288.15"
   ]
  },
  {
   "cell_type": "code",
   "execution_count": 63,
   "id": "abeb0664-dcae-42c5-8c6c-00b778f6e18b",
   "metadata": {},
   "outputs": [
    {
     "name": "stdout",
     "output_type": "stream",
     "text": [
      "0.9198945866148722\n"
     ]
    }
   ],
   "source": [
    "AAstar=c1*(NPR)**(-1/gm)*np.sqrt(1-(NPR)**(-1/ex1)); print(AAstar)"
   ]
  },
  {
   "cell_type": "code",
   "execution_count": 57,
   "id": "09ff7807-0588-4894-84d5-e06e5e860ec9",
   "metadata": {},
   "outputs": [],
   "source": [
    "mi=c2*Ae*AAstar*Pt/np.sqrt(Tt)"
   ]
  },
  {
   "cell_type": "code",
   "execution_count": 58,
   "id": "0be92a5e-8d6b-4a75-9270-4215cc3f25c6",
   "metadata": {},
   "outputs": [
    {
     "name": "stdout",
     "output_type": "stream",
     "text": [
      "6.309447230008241\n"
     ]
    }
   ],
   "source": [
    "print (mi)"
   ]
  },
  {
   "cell_type": "code",
   "execution_count": null,
   "id": "1c4952d0-a500-459c-9b44-a4c8b7196a51",
   "metadata": {},
   "outputs": [],
   "source": []
  }
 ],
 "metadata": {
  "kernelspec": {
   "display_name": "Python 3 (ipykernel)",
   "language": "python",
   "name": "python3"
  },
  "language_info": {
   "codemirror_mode": {
    "name": "ipython",
    "version": 3
   },
   "file_extension": ".py",
   "mimetype": "text/x-python",
   "name": "python",
   "nbconvert_exporter": "python",
   "pygments_lexer": "ipython3",
   "version": "3.9.10"
  }
 },
 "nbformat": 4,
 "nbformat_minor": 5
}
