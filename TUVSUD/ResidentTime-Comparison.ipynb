{
 "cells": [
  {
   "cell_type": "markdown",
   "id": "899af277-254b-41ff-9f3c-4f662b4b329d",
   "metadata": {},
   "source": [
    "# Evaluation of resident time #"
   ]
  },
  {
   "cell_type": "markdown",
   "id": "b8417ad4-1a45-4b52-841e-c0bee36fc0ec",
   "metadata": {},
   "source": [
    "Formula to evaluate ideal resident time for 1 reactor\n",
    "$$ E(t)=\\dfrac{1}{\\tau}e^{-t/\\tau} $$ \n",
    "\n",
    "Where $ \\tau=\\dfrac{Q}{V} $ where $Q$ is the volumetric flow rate and $V$ is the Volume.\n",
    "\n",
    "Formula to evaluate ideal comulative time\n",
    "$$ F(t) = 1-e^{-t/\\tau} $$"
   ]
  },
  {
   "cell_type": "code",
   "execution_count": 1,
   "id": "04f4024c-68c7-4ac2-8ad4-0ebe794273c6",
   "metadata": {},
   "outputs": [],
   "source": [
    "import os\n",
    "import numpy as np\n",
    "import pandas as pd\n",
    "import scipy as sp\n",
    "import glob\n",
    "import matplotlib.pyplot as plt "
   ]
  },
  {
   "cell_type": "code",
   "execution_count": 2,
   "id": "216e98ce-0cd5-49ff-bc23-809f2dfa4123",
   "metadata": {},
   "outputs": [],
   "source": [
    "plt.rcParams.update({'font.size' : 22})"
   ]
  },
  {
   "cell_type": "markdown",
   "id": "4afc204f-9b22-4944-aed2-b8dbc5b4aed4",
   "metadata": {},
   "source": [
    "### Diameter impact ###\n",
    "Reading Numerical simualtions files"
   ]
  },
  {
   "cell_type": "code",
   "execution_count": 3,
   "id": "2bc32322-8949-497b-b4a1-537838e9a2af",
   "metadata": {
    "editable": true,
    "slideshow": {
     "slide_type": ""
    },
    "tags": []
   },
   "outputs": [],
   "source": [
    "WorkingDir=r'C:\\Users\\geron-ma\\OneDrive - TUV SUD\\Projects-Files\\A4I-R10-025_I-Phyc\\04_FLUENT'\n",
    "#WorkingDir=r'C:\\Users\\geron-ma\\OneDrive - TUV SUD\\Projects-Files\\A4I-R10-025_I-Phyc\\04_FLUENT\\Baseline_Geometry'\n",
    "scenario='Rotated_Diffuser'\n",
    "baseline='Baseline_Geometry\\Baseline'\n",
    "file_path=os.path.join(WorkingDir,scenario,'*.his')\n",
    "files=glob.glob(file_path)\n",
    "Base_file=os.path.join(WorkingDir,baseline,'RTD-baseline.his')\n",
    "files.append(Base_file)\n",
    "Base_file_avg=os.path.join(WorkingDir,baseline,'RTD-baseline-100.his')\n",
    "files.append(Base_file_avg)"
   ]
  },
  {
   "cell_type": "code",
   "execution_count": 4,
   "id": "a7ea1923-44c3-4782-a9ca-426039707673",
   "metadata": {},
   "outputs": [
    {
     "data": {
      "text/plain": [
       "['C:\\\\Users\\\\geron-ma\\\\OneDrive - TUV SUD\\\\Projects-Files\\\\A4I-R10-025_I-Phyc\\\\04_FLUENT\\\\Rotated_Diffuser\\\\RTD-Rotated_diffuser-baseline-100.his',\n",
       " 'C:\\\\Users\\\\geron-ma\\\\OneDrive - TUV SUD\\\\Projects-Files\\\\A4I-R10-025_I-Phyc\\\\04_FLUENT\\\\Rotated_Diffuser\\\\RTD-Rotated_diffuser-baseline.his',\n",
       " 'C:\\\\Users\\\\geron-ma\\\\OneDrive - TUV SUD\\\\Projects-Files\\\\A4I-R10-025_I-Phyc\\\\04_FLUENT\\\\Baseline_Geometry\\\\Baseline\\\\RTD-baseline.his',\n",
       " 'C:\\\\Users\\\\geron-ma\\\\OneDrive - TUV SUD\\\\Projects-Files\\\\A4I-R10-025_I-Phyc\\\\04_FLUENT\\\\Baseline_Geometry\\\\Baseline\\\\RTD-baseline-100.his']"
      ]
     },
     "execution_count": 4,
     "metadata": {},
     "output_type": "execute_result"
    }
   ],
   "source": [
    "files"
   ]
  },
  {
   "cell_type": "code",
   "execution_count": 5,
   "id": "0dd7aa0e-0961-4f74-96af-e3fb28902d18",
   "metadata": {},
   "outputs": [],
   "source": [
    "data_frames={}  #create dictionary"
   ]
  },
  {
   "cell_type": "code",
   "execution_count": 6,
   "id": "716b3fbe-96d0-4ee6-afb9-1ce806d880a6",
   "metadata": {},
   "outputs": [],
   "source": [
    "time_array={}\n",
    "RTD_array={}\n",
    "N_particles={}"
   ]
  },
  {
   "cell_type": "code",
   "execution_count": 7,
   "id": "07d94b74-62f3-450b-b509-ac592b4ec23c",
   "metadata": {},
   "outputs": [],
   "source": [
    "cases = ['Rotated-100','Rotated','baseline','baseline-100']"
   ]
  },
  {
   "cell_type": "code",
   "execution_count": 8,
   "id": "866e2695-2882-4a03-bde0-4f140a2eaf6c",
   "metadata": {
    "editable": true,
    "slideshow": {
     "slide_type": ""
    },
    "tags": []
   },
   "outputs": [
    {
     "name": "stdout",
     "output_type": "stream",
     "text": [
      "3916.0\n",
      "3916.0\n",
      "3970.0\n",
      "3970.0\n"
     ]
    }
   ],
   "source": [
    "for file, dim in zip (files, cases):\n",
    "    #cases.append(dim)\n",
    "    data_frames[dim]=pd.read_csv(file, sep=' ', skiprows=11 , names=['t_num','E_num'])\n",
    "    data_frames[dim]=data_frames[dim].iloc[:-1,:]\n",
    "    N_particles[dim]=data_frames[dim]['E_num'].sum()\n",
    "    print(N_particles[dim])\n",
    "    time_array[dim]=data_frames[dim]['t_num'].to_numpy(dtype='float64')\n",
    "    RTD_array[dim]=data_frames[dim]['E_num'].to_numpy(dtype='float64')/ N_particles[dim]"
   ]
  },
  {
   "cell_type": "code",
   "execution_count": 10,
   "id": "07af7d44-73da-42ac-8149-27f22297a7b9",
   "metadata": {},
   "outputs": [
    {
     "data": {
      "text/plain": [
       "['Rotated-100', 'Rotated', 'baseline', 'baseline-100']"
      ]
     },
     "execution_count": 10,
     "metadata": {},
     "output_type": "execute_result"
    }
   ],
   "source": [
    "RTD_array\n",
    "cases"
   ]
  },
  {
   "cell_type": "markdown",
   "id": "af709e33-3ce0-49e8-91c1-363e14319487",
   "metadata": {},
   "source": [
    "## Characteristic of the reactor ##"
   ]
  },
  {
   "cell_type": "code",
   "execution_count": 11,
   "id": "93b150a4-3c2e-447b-9860-e78ddbb89237",
   "metadata": {
    "editable": true,
    "slideshow": {
     "slide_type": ""
    },
    "tags": []
   },
   "outputs": [
    {
     "name": "stdout",
     "output_type": "stream",
     "text": [
      "10368.83116883117\n"
     ]
    }
   ],
   "source": [
    "#Q= 0.000347/1020   # m^3/s\n",
    "Q= 2.31/998\n",
    "V=3.2*2.5*3.0 # be carefull with units \n",
    "tau=V/Q\n",
    "print(tau)"
   ]
  },
  {
   "cell_type": "code",
   "execution_count": 12,
   "id": "c359d870-1b9a-47ed-bd73-36dd2288e49b",
   "metadata": {
    "editable": true,
    "slideshow": {
     "slide_type": ""
    },
    "tags": []
   },
   "outputs": [],
   "source": [
    "t=np.linspace (0, 65000,100)"
   ]
  },
  {
   "cell_type": "code",
   "execution_count": 13,
   "id": "41aa9978-1b13-4db3-af4f-43a280d741fc",
   "metadata": {
    "editable": true,
    "slideshow": {
     "slide_type": ""
    },
    "tags": []
   },
   "outputs": [],
   "source": [
    "E_t=(1/tau)*np.exp(-t/tau)"
   ]
  },
  {
   "cell_type": "code",
   "execution_count": 14,
   "id": "0ba728ec-fd8b-464b-ba07-12f9bde8af2d",
   "metadata": {},
   "outputs": [],
   "source": [
    "F_t=1-np.exp(-t/tau)"
   ]
  },
  {
   "cell_type": "code",
   "execution_count": 15,
   "id": "e0c7051b-0a23-4f54-92af-4a1da9e9e824",
   "metadata": {
    "editable": true,
    "slideshow": {
     "slide_type": ""
    },
    "tags": []
   },
   "outputs": [],
   "source": [
    "teta=t/tau\n",
    "E_teta=np.exp(-teta)\n",
    "E_teta_2=teta*np.exp(-teta)"
   ]
  },
  {
   "cell_type": "code",
   "execution_count": 16,
   "id": "ef38236a-4fc1-4631-90cc-d43308d46d33",
   "metadata": {},
   "outputs": [],
   "source": [
    "I0={}\n",
    "I1={}\n",
    "tau_num={}"
   ]
  },
  {
   "cell_type": "code",
   "execution_count": 17,
   "id": "ea926827-b19a-436f-8d9f-8183b9d7a35f",
   "metadata": {},
   "outputs": [
    {
     "data": {
      "text/plain": [
       "array([0.00536261, 0.01659857, 0.01838611, 0.02349336, 0.0314096 ,\n",
       "       0.02477017, 0.03370787, 0.03472932, 0.0354954 , 0.03089888,\n",
       "       0.03192033, 0.03370787, 0.03089888, 0.02860061, 0.03166496,\n",
       "       0.02451481, 0.02834525, 0.03166496, 0.0191522 , 0.0252809 ,\n",
       "       0.02451481, 0.02374872, 0.02170582, 0.02042901, 0.01838611,\n",
       "       0.01966292, 0.02145046, 0.01659857, 0.01404494, 0.01251277,\n",
       "       0.01046987, 0.01225741, 0.01225741, 0.01123596, 0.01149132,\n",
       "       0.01149132, 0.00791624, 0.00638407, 0.0102145 , 0.0102145 ,\n",
       "       0.00919305, 0.0081716 , 0.00715015, 0.00868233, 0.00944842,\n",
       "       0.00842697, 0.00561798, 0.00663943, 0.00383044, 0.00434116,\n",
       "       0.0061287 , 0.00357508, 0.00306435, 0.0061287 , 0.00663943,\n",
       "       0.00536261, 0.00331971, 0.00255363, 0.0020429 , 0.00331971,\n",
       "       0.00178754, 0.00357508, 0.00357508, 0.00331971, 0.00178754,\n",
       "       0.00255363, 0.00076609, 0.00102145, 0.00127681, 0.00178754,\n",
       "       0.00255363, 0.0020429 , 0.00076609, 0.0020429 , 0.00127681,\n",
       "       0.00127681, 0.00127681, 0.00153218, 0.00102145, 0.00076609,\n",
       "       0.00102145, 0.00076609, 0.00051073, 0.00051073, 0.00051073,\n",
       "       0.00076609, 0.00051073, 0.00051073, 0.00076609, 0.00051073,\n",
       "       0.00102145, 0.00127681, 0.00127681, 0.00051073, 0.00076609,\n",
       "       0.00025536, 0.00025536, 0.00025536, 0.00025536, 0.00051073])"
      ]
     },
     "execution_count": 17,
     "metadata": {},
     "output_type": "execute_result"
    }
   ],
   "source": [
    "RTD_array[cases[0]]"
   ]
  },
  {
   "cell_type": "code",
   "execution_count": 18,
   "id": "a6bbf385-cb2d-40ab-801f-f8d8295be05a",
   "metadata": {
    "editable": true,
    "slideshow": {
     "slide_type": ""
    },
    "tags": []
   },
   "outputs": [],
   "source": [
    "for case in cases:\n",
    "    I0[case]=sp.integrate.simpson(RTD_array[case],time_array[case],axis=0)\n",
    "    I1[case]=sp.integrate.simpson(RTD_array[case]*time_array[case],time_array[case],axis=0)\n",
    "    tau_num[case]=I1[case]/I0[case]\n",
    "    RTD_array[case]=RTD_array[case]/I0[case]"
   ]
  },
  {
   "cell_type": "code",
   "execution_count": 19,
   "id": "3e324377-fcc3-4b93-9a35-efb7c889d652",
   "metadata": {},
   "outputs": [
    {
     "data": {
      "text/plain": [
       "{'Rotated-100': 15936.238602313706,\n",
       " 'Rotated': 15937.293306664526,\n",
       " 'baseline': 11496.34190233382,\n",
       " 'baseline-100': 11425.448137154528}"
      ]
     },
     "execution_count": 19,
     "metadata": {},
     "output_type": "execute_result"
    }
   ],
   "source": [
    "tau_num"
   ]
  },
  {
   "cell_type": "code",
   "execution_count": 20,
   "id": "0e9b5ba2-a83b-4eae-bbf5-fb2de98e0c61",
   "metadata": {},
   "outputs": [
    {
     "data": {
      "text/plain": [
       "{'Rotated-100': 669.6694907367173,\n",
       " 'Rotated': 1655.736236163602,\n",
       " 'baseline': 1436.3131831465134,\n",
       " 'baseline-100': 586.4545685906916}"
      ]
     },
     "execution_count": 20,
     "metadata": {},
     "output_type": "execute_result"
    }
   ],
   "source": [
    "I0"
   ]
  },
  {
   "cell_type": "markdown",
   "id": "255afcf3-dd63-498f-bfa0-19e7f34e97b8",
   "metadata": {
    "editable": true,
    "slideshow": {
     "slide_type": ""
    },
    "tags": []
   },
   "source": [
    "## Figure template ##"
   ]
  },
  {
   "cell_type": "markdown",
   "id": "65520870-866c-4532-bdc1-18e67e9ba7e8",
   "metadata": {},
   "source": [
    "Define a dictionari for the color and a dictionary for the line stile to be used"
   ]
  },
  {
   "cell_type": "code",
   "execution_count": 21,
   "id": "d0e87cb1-8f0d-42b7-83f6-43998c0dccc5",
   "metadata": {},
   "outputs": [],
   "source": [
    "col={\n",
    "    cases[0]:'b',\n",
    "    cases[1]:'c',\n",
    "    cases[2]:'g',\n",
    "    cases[3]:'m',\n",
    "    #cases[4]:'r'\n",
    "}\n",
    "stile={\n",
    "    cases[0]:'o',\n",
    "    cases[1]:'s',\n",
    "    cases[2]:'*',\n",
    "    cases[3]:'v',\n",
    "    #cases[4]:'>'\n",
    "}"
   ]
  },
  {
   "cell_type": "code",
   "execution_count": 22,
   "id": "e665f29f-5f51-4035-b5b9-74a112071e89",
   "metadata": {
    "editable": true,
    "slideshow": {
     "slide_type": ""
    },
    "tags": []
   },
   "outputs": [
    {
     "data": {
      "image/png": "[encoded data removed]",
      "text/plain": [
       "<Figure size 640x480 with 1 Axes>"
      ]
     },
     "metadata": {},
     "output_type": "display_data"
    }
   ],
   "source": [
    "fig, ax = plt.subplots()"
   ]
  },
  {
   "cell_type": "code",
   "execution_count": 23,
   "id": "7dbd0064-5179-4a89-82bb-a42b077dcecd",
   "metadata": {
    "editable": true,
    "slideshow": {
     "slide_type": ""
    },
    "tags": []
   },
   "outputs": [
    {
     "data": {
      "text/plain": [
       "<contextlib.ExitStack at 0x20021d1f650>"
      ]
     },
     "execution_count": 23,
     "metadata": {},
     "output_type": "execute_result"
    }
   ],
   "source": [
    "plt.ioff()"
   ]
  },
  {
   "cell_type": "code",
   "execution_count": 24,
   "id": "b7cc46a5-173d-4f87-ad60-9ebc96d61985",
   "metadata": {
    "editable": true,
    "slideshow": {
     "slide_type": ""
    },
    "tags": []
   },
   "outputs": [],
   "source": [
    "fig, ax3 = plt.subplots()"
   ]
  },
  {
   "cell_type": "code",
   "execution_count": 25,
   "id": "a8f5bfe9-1110-4aee-9dc1-4677f7a9740b",
   "metadata": {},
   "outputs": [],
   "source": [
    "ax3.plot(teta, E_t*tau,label='Ideal')\n",
    "ax3.plot(teta,E_teta_2, label='Ideal-N=2')\n",
    "for case in ('Rotated','baseline'):\n",
    "    #ax3.plot(time_array[case]/tau_num[case],RTD_array[case]*tau_num[case],label=case,marker=stile[case],linestyle='--',color=col[case])\n",
    "    ax3.plot(time_array[case]/tau,RTD_array[case]*tau,label=case,marker=stile[case],linestyle='--',color=col[case])"
   ]
  },
  {
   "cell_type": "code",
   "execution_count": 26,
   "id": "0a265a3e-ae10-4770-829e-770e6b18d2e0",
   "metadata": {},
   "outputs": [],
   "source": [
    "ax3.legend()\n",
    "ax3.set_xlabel(r'$ \\theta $')\n",
    "ax3.set_ylabel(r'E( $ \\theta $ )')\n",
    "ax3.title.set_text('RTD')"
   ]
  },
  {
   "cell_type": "code",
   "execution_count": 27,
   "id": "193cca3e-09d1-4e55-98d6-e9d9d005b65e",
   "metadata": {
    "editable": true,
    "slideshow": {
     "slide_type": ""
    },
    "tags": []
   },
   "outputs": [
    {
     "data": {
      "image/png": "[encoded data removed]",
      "text/plain": [
       "<Figure size 640x480 with 1 Axes>"
      ]
     },
     "metadata": {},
     "output_type": "display_data"
    }
   ],
   "source": [
    "plt.show()"
   ]
  },
  {
   "cell_type": "code",
   "execution_count": 28,
   "id": "3f04c355-2109-4a90-95ac-ab4cc85f0c96",
   "metadata": {
    "editable": true,
    "slideshow": {
     "slide_type": ""
    },
    "tags": []
   },
   "outputs": [
    {
     "data": {
      "text/plain": [
       "{'Rotated-100': 15936.238602313706,\n",
       " 'Rotated': 15937.293306664526,\n",
       " 'baseline': 11496.34190233382,\n",
       " 'baseline-100': 11425.448137154528}"
      ]
     },
     "execution_count": 28,
     "metadata": {},
     "output_type": "execute_result"
    }
   ],
   "source": [
    "tau_num"
   ]
  },
  {
   "cell_type": "markdown",
   "id": "419e0aa9-4fb4-40ab-99cf-8b54ae1c7764",
   "metadata": {},
   "source": [
    "## Data Fitting ##"
   ]
  },
  {
   "cell_type": "code",
   "execution_count": 29,
   "id": "39be4f27-1985-4b53-8e79-18c7ab998148",
   "metadata": {},
   "outputs": [],
   "source": [
    "def weib(x, c, scale):\n",
    "    return (c /scale)* (x/scale) **(c - 1) * np.exp(-(x/scale)**c)"
   ]
  },
  {
   "cell_type": "code",
   "execution_count": 30,
   "id": "0a25abfc-9428-42aa-b1c9-2ea75b28e9d8",
   "metadata": {},
   "outputs": [],
   "source": [
    "cases_100=[cases[0]]\n",
    "cases_100.append(cases[3])"
   ]
  },
  {
   "cell_type": "code",
   "execution_count": 31,
   "id": "5a472a37-3b26-4c22-808c-ba55b59acda5",
   "metadata": {},
   "outputs": [],
   "source": [
    "p , d =sp.optimize.curve_fit(weib,time_array[cases_100[0]]/tau,RTD_array[cases_100[0]]*tau)"
   ]
  },
  {
   "cell_type": "code",
   "execution_count": 32,
   "id": "32cb0fca-26e3-42b4-82e5-024ba267485f",
   "metadata": {},
   "outputs": [],
   "source": [
    "pb, d =sp.optimize.curve_fit(weib,time_array[cases_100[1]]/tau,RTD_array[cases_100[1]]*tau)"
   ]
  },
  {
   "cell_type": "code",
   "execution_count": 33,
   "id": "b71bd256-4e75-4f39-b066-e13f03b4ce3d",
   "metadata": {},
   "outputs": [
    {
     "name": "stdout",
     "output_type": "stream",
     "text": [
      "Shape (p): [1.44743584 1.54058817]\n",
      "Scale (pb): [1.42339463 1.11514174]\n"
     ]
    }
   ],
   "source": [
    "print(\"Shape (p):\", p)\n",
    "print(\"Scale (pb):\", pb)"
   ]
  },
  {
   "cell_type": "code",
   "execution_count": 34,
   "id": "7e427457-7d18-48f9-9190-d57afb608b15",
   "metadata": {},
   "outputs": [],
   "source": [
    "tetap=np.linspace(0,5,1000)"
   ]
  },
  {
   "cell_type": "code",
   "execution_count": 35,
   "id": "7c936983-a40f-409b-9e0d-d5648d413cd6",
   "metadata": {},
   "outputs": [],
   "source": [
    "fig, ax = plt.subplots()"
   ]
  },
  {
   "cell_type": "code",
   "execution_count": 36,
   "id": "ba31073f-31c1-498b-b5c3-aa85c2d6c889",
   "metadata": {},
   "outputs": [
    {
     "data": {
      "text/plain": [
       "[<matplotlib.lines.Line2D at 0x200240ebd90>]"
      ]
     },
     "execution_count": 36,
     "metadata": {},
     "output_type": "execute_result"
    }
   ],
   "source": [
    "case=cases[1]\n",
    "ax.plot(time_array[case]/tau,RTD_array[case]*tau,label=case,marker=stile[case],linestyle='--',color=col[case])"
   ]
  },
  {
   "cell_type": "code",
   "execution_count": 37,
   "id": "73437bfe-6d66-4a46-9b69-61a773e42571",
   "metadata": {},
   "outputs": [
    {
     "data": {
      "text/plain": [
       "[<matplotlib.lines.Line2D at 0x20024126a50>]"
      ]
     },
     "execution_count": 37,
     "metadata": {},
     "output_type": "execute_result"
    }
   ],
   "source": [
    "case=cases[2]\n",
    "ax.plot(time_array[case]/tau,RTD_array[case]*tau,label=case,marker=stile[case],linestyle='--',color=col[case])"
   ]
  },
  {
   "cell_type": "code",
   "execution_count": 38,
   "id": "b9cc83db-2c7b-42e9-a298-3a7c6efc7d26",
   "metadata": {},
   "outputs": [
    {
     "data": {
      "text/plain": [
       "[<matplotlib.lines.Line2D at 0x20025f92450>]"
      ]
     },
     "execution_count": 38,
     "metadata": {},
     "output_type": "execute_result"
    }
   ],
   "source": [
    "#ax.plot(time_array['baseline']/tau, weib(time_array['baseline']/tau,p1[0]))\n",
    "ax.plot(tetap, sp.stats.weibull_min.pdf(tetap,p[0],scale=p[1],loc=0),label='Data-fit-Rotated',color='c')\n",
    "ax.plot(tetap, sp.stats.weibull_min.pdf(tetap,pb[0],scale=pb[1],loc=0),label='Data-fit-Baseline',color='g')"
   ]
  },
  {
   "cell_type": "code",
   "execution_count": 39,
   "id": "4d09815a-99e4-4d2f-a44c-7ec363b70d3d",
   "metadata": {},
   "outputs": [
    {
     "data": {
      "text/plain": [
       "[<matplotlib.lines.Line2D at 0x20025fadf90>]"
      ]
     },
     "execution_count": 39,
     "metadata": {},
     "output_type": "execute_result"
    }
   ],
   "source": [
    "#ax.plot(tetap, sp.stats.weibull_min.pdf(tetap,1.54,scale=0.87,loc=0))\n",
    "#ax.plot(tetap, sp.stats.weibull_min.pdf(tetap,1.6161544,scale=1.6161544,loc=0))\n",
    "#case=cases[3]\n",
    "#ax.plot(time_array['baseline']/tau, RTD_array['baseline']*tau, label=case,marker=stile[case],linestyle='--',color=col[case])\n",
    "ax.plot(teta,E_teta_2, label='Ideal-N=2',color='tab:orange')"
   ]
  },
  {
   "cell_type": "code",
   "execution_count": 40,
   "id": "2329e463-843b-4ea7-8a15-d0f33cc84ae3",
   "metadata": {},
   "outputs": [],
   "source": [
    "ax.legend()\n",
    "ax.set_xlabel(r'$ \\theta $')\n",
    "ax.set_ylabel(r'E( $ \\theta $ )')\n",
    "ax.title.set_text('RTD')"
   ]
  },
  {
   "cell_type": "code",
   "execution_count": 41,
   "id": "bf69b76c-ed87-4356-b351-67b2502dac4a",
   "metadata": {},
   "outputs": [
    {
     "data": {
      "image/png": "[encoded data removed]",
      "text/plain": [
       "<Figure size 640x480 with 1 Axes>"
      ]
     },
     "metadata": {},
     "output_type": "display_data"
    }
   ],
   "source": [
    "plt.show()"
   ]
  },
  {
   "cell_type": "code",
   "execution_count": 42,
   "id": "8310d420-397a-4c5d-80f0-f619b9b5231a",
   "metadata": {},
   "outputs": [],
   "source": [
    "f1=sp.stats.weibull_min.pdf(tetap,p[0],scale=p[1],loc=0)"
   ]
  },
  {
   "cell_type": "code",
   "execution_count": 43,
   "id": "a66becb8-d5a8-4808-9a5e-0648b841fd91",
   "metadata": {},
   "outputs": [],
   "source": [
    "f2=sp.stats.weibull_min.pdf(tetap,pb[0],scale=pb[1],loc=0)"
   ]
  },
  {
   "cell_type": "code",
   "execution_count": 44,
   "id": "54a344a4-e0c0-4fcf-9d91-1e2e5ad71ede",
   "metadata": {},
   "outputs": [],
   "source": [
    "E_teta_2=tetap*np.exp(-tetap)"
   ]
  },
  {
   "cell_type": "code",
   "execution_count": 45,
   "id": "1cf5f14a-6d5c-4141-a23e-96475e089ea1",
   "metadata": {},
   "outputs": [],
   "source": [
    "def f(t):\n",
    "    return (sp.stats.weibull_min.pdf(t,p[0],scale=p[1],loc=0)-t*np.exp(-t))\n",
    "    "
   ]
  },
  {
   "cell_type": "code",
   "execution_count": 46,
   "id": "a80ce62f-aa87-4fb7-aa8b-d5aa8a264a20",
   "metadata": {},
   "outputs": [],
   "source": [
    "int=sp.optimize.fsolve(f, 1.0)"
   ]
  },
  {
   "cell_type": "code",
   "execution_count": 47,
   "id": "77ebb9cb-3bd0-4fd2-830d-b388b7a5fc5c",
   "metadata": {},
   "outputs": [],
   "source": [
    "def fb(t):\n",
    "    return (sp.stats.weibull_min.pdf(t,pb[0],scale=pb[1],loc=0)-t*np.exp(-t))"
   ]
  },
  {
   "cell_type": "code",
   "execution_count": 48,
   "id": "aae430ae-6e69-462f-934e-69b1017cf469",
   "metadata": {},
   "outputs": [],
   "source": [
    "int_b=sp.optimize.fsolve(fb, 1.0)"
   ]
  },
  {
   "cell_type": "code",
   "execution_count": 49,
   "id": "b6bc5843-9eb7-4b5a-ba97-3b3426875cdd",
   "metadata": {},
   "outputs": [
    {
     "name": "stdout",
     "output_type": "stream",
     "text": [
      "baseline inter 1.43 , modified 1.69\n"
     ]
    }
   ],
   "source": [
    "print ('baseline inter %2.2f , modified %2.2f' %(int_b,int))"
   ]
  },
  {
   "cell_type": "code",
   "execution_count": 50,
   "id": "aafc325f-5de9-4106-b813-fe03103631b0",
   "metadata": {},
   "outputs": [
    {
     "data": {
      "text/plain": [
       "(array([0.3426782]), None)"
      ]
     },
     "execution_count": 50,
     "metadata": {},
     "output_type": "execute_result"
    }
   ],
   "source": [
    "sp.integrate.fixed_quad(fb,0,int_b)"
   ]
  },
  {
   "cell_type": "code",
   "execution_count": 51,
   "id": "75275029-d464-4f6b-b1f4-58fcedc0d752",
   "metadata": {},
   "outputs": [
    {
     "data": {
      "text/plain": [
       "(array([0.17891001]), None)"
      ]
     },
     "execution_count": 51,
     "metadata": {},
     "output_type": "execute_result"
    }
   ],
   "source": [
    "sp.integrate.fixed_quad(f,0,int)"
   ]
  },
  {
   "cell_type": "code",
   "execution_count": 52,
   "id": "1dcfbc33-5795-4e9f-9f82-9fce735793e2",
   "metadata": {},
   "outputs": [],
   "source": [
    "def f1(t):\n",
    "    return (sp.stats.weibull_min.pdf(t,p[0],scale=p[1],loc=0))"
   ]
  },
  {
   "cell_type": "code",
   "execution_count": 53,
   "id": "85dce20d-38ff-40b0-a959-2a6fe95c7e54",
   "metadata": {},
   "outputs": [
    {
     "data": {
      "text/plain": [
       "(array([0.68351539]), None)"
      ]
     },
     "execution_count": 53,
     "metadata": {},
     "output_type": "execute_result"
    }
   ],
   "source": [
    "sp.integrate.fixed_quad(f1,0,int)"
   ]
  },
  {
   "cell_type": "code",
   "execution_count": 54,
   "id": "6ab5d5f9-45cd-4fcf-bc27-1e90db5a8c83",
   "metadata": {},
   "outputs": [],
   "source": [
    "def f2(t): \n",
    "    return (sp.stats.weibull_min.pdf(t,pb[0],scale=pb[1],loc=0))"
   ]
  },
  {
   "cell_type": "code",
   "execution_count": 55,
   "id": "a17fee91-017a-4e82-ac4b-02497b3ee3a8",
   "metadata": {},
   "outputs": [
    {
     "data": {
      "text/plain": [
       "(array([0.75988383]), None)"
      ]
     },
     "execution_count": 55,
     "metadata": {},
     "output_type": "execute_result"
    }
   ],
   "source": [
    "sp.integrate.fixed_quad(f2,0,int_b)"
   ]
  },
  {
   "cell_type": "code",
   "execution_count": null,
   "id": "529ccf29-2fc0-4090-8a01-328b10f3adbe",
   "metadata": {},
   "outputs": [],
   "source": []
  }
 ],
 "metadata": {
  "kernelspec": {
   "display_name": "Python 3 (ipykernel)",
   "language": "python",
   "name": "python3"
  },
  "language_info": {
   "codemirror_mode": {
    "name": "ipython",
    "version": 3
   },
   "file_extension": ".py",
   "mimetype": "text/x-python",
   "name": "python",
   "nbconvert_exporter": "python",
   "pygments_lexer": "ipython3",
   "version": "3.11.7"
  }
 },
 "nbformat": 4,
 "nbformat_minor": 5
}
