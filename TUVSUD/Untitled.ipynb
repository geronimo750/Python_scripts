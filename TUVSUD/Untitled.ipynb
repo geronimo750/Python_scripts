{
 "cells": [
  {
   "cell_type": "markdown",
   "id": "1faa50a5",
   "metadata": {},
   "source": [
    "## Script to ananlyse and plot otput files from fluent ##"
   ]
  },
  {
   "cell_type": "code",
   "execution_count": 7,
   "id": "90a993ab",
   "metadata": {},
   "outputs": [],
   "source": [
    "import pandas as pd\n",
    "import matplotlib.pyplot as plt"
   ]
  },
  {
   "cell_type": "code",
   "execution_count": 17,
   "id": "22c9305d",
   "metadata": {},
   "outputs": [],
   "source": [
    "data=pd.read_csv(\"mass-flow.out\",sep=' ', skiprows=3, names=['iter','mdot'])"
   ]
  },
  {
   "cell_type": "code",
   "execution_count": 21,
   "id": "85853b55",
   "metadata": {},
   "outputs": [
    {
     "data": {
      "text/plain": [
       "0        18.077869\n",
       "1        19.764144\n",
       "2        18.338782\n",
       "3        17.966528\n",
       "4        17.720016\n",
       "           ...    \n",
       "12923    14.870000\n",
       "12924    14.870000\n",
       "12925    14.870000\n",
       "12926    14.870000\n",
       "12927    14.870000\n",
       "Name: mdot, Length: 12928, dtype: float64"
      ]
     },
     "execution_count": 21,
     "metadata": {},
     "output_type": "execute_result"
    }
   ],
   "source": [
    "data['mdot']"
   ]
  },
  {
   "cell_type": "code",
   "execution_count": 23,
   "id": "8e4b8efa",
   "metadata": {},
   "outputs": [
    {
     "ename": "SyntaxError",
     "evalue": "invalid syntax (3718477919.py, line 1)",
     "output_type": "error",
     "traceback": [
      "\u001b[1;36m  Cell \u001b[1;32mIn[23], line 1\u001b[1;36m\u001b[0m\n\u001b[1;33m    data['mdot'].mean(5000:;)\u001b[0m\n\u001b[1;37m                          ^\u001b[0m\n\u001b[1;31mSyntaxError\u001b[0m\u001b[1;31m:\u001b[0m invalid syntax\n"
     ]
    }
   ],
   "source": [
    "data['mdot'].mean(5000:;)"
   ]
  },
  {
   "cell_type": "code",
   "execution_count": null,
   "id": "409d4db9",
   "metadata": {},
   "outputs": [],
   "source": []
  }
 ],
 "metadata": {
  "kernelspec": {
   "display_name": "Python 3 (ipykernel)",
   "language": "python",
   "name": "python3"
  },
  "language_info": {
   "codemirror_mode": {
    "name": "ipython",
    "version": 3
   },
   "file_extension": ".py",
   "mimetype": "text/x-python",
   "name": "python",
   "nbconvert_exporter": "python",
   "pygments_lexer": "ipython3",
   "version": "3.10.9"
  }
 },
 "nbformat": 4,
 "nbformat_minor": 5
}
