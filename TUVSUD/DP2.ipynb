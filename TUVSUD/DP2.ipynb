{
 "cells": [
  {
   "cell_type": "code",
   "execution_count": 1,
   "id": "584fc4f8",
   "metadata": {},
   "outputs": [],
   "source": [
    "import numpy as np\n",
    "import scipy as sc"
   ]
  },
  {
   "cell_type": "markdown",
   "id": "03cc4ebc",
   "metadata": {},
   "source": [
    "# Project XXXXX # "
   ]
  },
  {
   "cell_type": "markdown",
   "id": "81ca5914",
   "metadata": {},
   "source": [
    "## Geometric Characteristics ##\n"
   ]
  },
  {
   "cell_type": "markdown",
   "id": "d44eee5e",
   "metadata": {},
   "source": [
    "Area $[m^2]$"
   ]
  },
  {
   "cell_type": "code",
   "execution_count": 2,
   "id": "03cb24fd",
   "metadata": {},
   "outputs": [],
   "source": [
    "A=0.01215 #[m2]"
   ]
  },
  {
   "cell_type": "markdown",
   "id": "e7135878",
   "metadata": {},
   "source": [
    "### Input Parameters ###"
   ]
  },
  {
   "cell_type": "markdown",
   "id": "943cb394",
   "metadata": {},
   "source": [
    "Mass flow"
   ]
  },
  {
   "cell_type": "code",
   "execution_count": 1,
   "id": "3d128107",
   "metadata": {},
   "outputs": [],
   "source": [
    "mdg=11.373\n",
    "mdc=0.0\n",
    "mdAq=6.068"
   ]
  },
  {
   "cell_type": "markdown",
   "id": "7bf26227",
   "metadata": {},
   "source": [
    "Particle size"
   ]
  },
  {
   "cell_type": "code",
   "execution_count": 2,
   "id": "73ded90b",
   "metadata": {},
   "outputs": [],
   "source": [
    "dc=1e-3;daq=1e-3;"
   ]
  },
  {
   "cell_type": "markdown",
   "id": "388817ea",
   "metadata": {},
   "source": [
    "Density"
   ]
  },
  {
   "cell_type": "code",
   "execution_count": 3,
   "id": "35b30dda",
   "metadata": {},
   "outputs": [],
   "source": [
    "rhog=54.49\n",
    "rhoc=747.7\n",
    "rhoAq=997.6\n"
   ]
  },
  {
   "cell_type": "markdown",
   "id": "792d7e50",
   "metadata": {},
   "source": [
    "Viscosity"
   ]
  },
  {
   "cell_type": "code",
   "execution_count": 4,
   "id": "a685799f",
   "metadata": {},
   "outputs": [],
   "source": [
    "mug=0.013e-3\n",
    "muc=1.54e-3\n",
    "muaq=0.744e-3"
   ]
  },
  {
   "cell_type": "markdown",
   "id": "80d6f421",
   "metadata": {},
   "source": [
    "Volumetric flow rate  $[m^3 \\cdot h ]$"
   ]
  },
  {
   "cell_type": "code",
   "execution_count": 5,
   "id": "2778998c",
   "metadata": {},
   "outputs": [],
   "source": [
    "Qg=mdg/rhog*3600\n",
    "Qc=mdc/rhoc*3600\n",
    "QAq=mdAq/rhoAq*3600"
   ]
  },
  {
   "cell_type": "code",
   "execution_count": 6,
   "id": "dfa8bf73",
   "metadata": {},
   "outputs": [
    {
     "name": "stdout",
     "output_type": "stream",
     "text": [
      "751.3819049366856 0.0 21.897353648757015\n"
     ]
    }
   ],
   "source": [
    "print(Qg,Qc,QAq)\n"
   ]
  },
  {
   "cell_type": "code",
   "execution_count": 7,
   "id": "a03fa5e2",
   "metadata": {},
   "outputs": [],
   "source": [
    "Qtot=Qg+Qc+QAq"
   ]
  },
  {
   "cell_type": "markdown",
   "id": "28e24fd5",
   "metadata": {},
   "source": [
    "### Pressure   $(P_{ref})$ ###"
   ]
  },
  {
   "cell_type": "code",
   "execution_count": 24,
   "id": "e11dbf44",
   "metadata": {},
   "outputs": [
    {
     "name": "stdout",
     "output_type": "stream",
     "text": [
      "6437675.0 6334075.0\n"
     ]
    }
   ],
   "source": [
    "Pref=65.39*1e5-101325\n",
    "Pexit=64.354*1e5-101325\n",
    "print(Pref, Pexit)"
   ]
  },
  {
   "cell_type": "markdown",
   "id": "67819e31",
   "metadata": {},
   "source": [
    "## Some Dimensionaless number calculations ##"
   ]
  },
  {
   "cell_type": "markdown",
   "id": "fc647621",
   "metadata": {},
   "source": [
    "### Stokes Number ###"
   ]
  },
  {
   "cell_type": "markdown",
   "id": "900dbf32",
   "metadata": {},
   "source": [
    "__Particle Response Time__ \n",
    "$$ \\tau_p=\\dfrac{\\rho_pd^2_p}{18\\mu_g} $$"
   ]
  },
  {
   "cell_type": "code",
   "execution_count": 8,
   "id": "58ec109f",
   "metadata": {},
   "outputs": [],
   "source": [
    "tauc=rhoc*(1e-3)**2/(18*mug)"
   ]
  },
  {
   "cell_type": "markdown",
   "id": "2c6856c5",
   "metadata": {},
   "source": [
    "__Flow Response time__ \n",
    "$$ \\tau_g=\\dfrac{D_{dom}}{V_{dom}}$$"
   ]
  },
  {
   "cell_type": "code",
   "execution_count": 9,
   "id": "da624038",
   "metadata": {},
   "outputs": [],
   "source": [
    "Dd=77.1156e-3; \n",
    "Vd=150;\n",
    "taug=Dd/Vd"
   ]
  },
  {
   "cell_type": "markdown",
   "id": "8170fd8f",
   "metadata": {},
   "source": [
    "__Stokes Number__"
   ]
  },
  {
   "cell_type": "code",
   "execution_count": 10,
   "id": "f0a60928",
   "metadata": {},
   "outputs": [
    {
     "name": "stdout",
     "output_type": "stream",
     "text": [
      "Stokes number=     62154\n"
     ]
    }
   ],
   "source": [
    "print('Stokes number= % 8.f4' % (tauc/taug) )"
   ]
  },
  {
   "cell_type": "code",
   "execution_count": 36,
   "id": "ee0f9bed",
   "metadata": {},
   "outputs": [
    {
     "data": {
      "text/plain": [
       "3.1923504273504273"
      ]
     },
     "execution_count": 36,
     "metadata": {},
     "output_type": "execute_result"
    }
   ],
   "source": [
    "tauc"
   ]
  },
  {
   "cell_type": "code",
   "execution_count": 37,
   "id": "c858b3f5",
   "metadata": {},
   "outputs": [
    {
     "data": {
      "text/plain": [
       "0.000514104"
      ]
     },
     "execution_count": 37,
     "metadata": {},
     "output_type": "execute_result"
    }
   ],
   "source": [
    "taug"
   ]
  },
  {
   "cell_type": "code",
   "execution_count": 12,
   "id": "c70e85fb",
   "metadata": {},
   "outputs": [],
   "source": [
    "VFc=Qc/Qtot\n",
    "VFAq=QAq/Qtot"
   ]
  },
  {
   "cell_type": "code",
   "execution_count": null,
   "id": "4ead1596",
   "metadata": {},
   "outputs": [],
   "source": []
  },
  {
   "cell_type": "code",
   "execution_count": 13,
   "id": "43dd333a",
   "metadata": {},
   "outputs": [
    {
     "name": "stdout",
     "output_type": "stream",
     "text": [
      "0.0 0.028317523592723513\n"
     ]
    }
   ],
   "source": [
    "print(VFc,VFAq)"
   ]
  },
  {
   "cell_type": "code",
   "execution_count": 14,
   "id": "0cd1bf07",
   "metadata": {},
   "outputs": [
    {
     "data": {
      "text/plain": [
       "6274775.0"
      ]
     },
     "execution_count": 14,
     "metadata": {},
     "output_type": "execute_result"
    }
   ],
   "source": [
    "63.761*1e5-101325"
   ]
  },
  {
   "cell_type": "markdown",
   "id": "ae5c0eb3",
   "metadata": {},
   "source": [
    "## Differential pressure results ##"
   ]
  },
  {
   "cell_type": "code",
   "execution_count": 14,
   "id": "cabce32a",
   "metadata": {},
   "outputs": [],
   "source": [
    "p1=6436374\n",
    "p2=6331776.9\n",
    "p3=6430753.7\n",
    "p4=6435706.3\n",
    "p5=6340919.7"
   ]
  },
  {
   "cell_type": "code",
   "execution_count": 15,
   "id": "736088da",
   "metadata": {},
   "outputs": [],
   "source": [
    "DPv=(p1-p2)/100\n",
    "DPt=(p1-p3)/100\n",
    "DPw=(p4-p5)/100"
   ]
  },
  {
   "cell_type": "code",
   "execution_count": 1,
   "id": "b0a28656",
   "metadata": {},
   "outputs": [],
   "source": [
    "DPv=494\n",
    "DPt=64\n",
    "DPw=664"
   ]
  },
  {
   "cell_type": "code",
   "execution_count": 2,
   "id": "0b3f31cc",
   "metadata": {},
   "outputs": [
    {
     "name": "stdout",
     "output_type": "stream",
     "text": [
      " 494.000   64.000  664.000\n"
     ]
    }
   ],
   "source": [
    "print('% 8.3f' % DPv,'% 8.3f' % DPt, '% 8.3f' %DPw)"
   ]
  },
  {
   "cell_type": "code",
   "execution_count": 3,
   "id": "77195fb9",
   "metadata": {},
   "outputs": [],
   "source": [
    "DPvex=769.50\n",
    "DPtex=553.32\n",
    "DPwex=874.38"
   ]
  },
  {
   "cell_type": "code",
   "execution_count": 4,
   "id": "f9cfae3d",
   "metadata": {},
   "outputs": [],
   "source": [
    "errv=abs(DPv-DPvex)/DPvex*100\n",
    "errt=abs(DPt-DPtex)/DPtex*100\n",
    "errw=abs(DPw-DPwex)/DPwex*100"
   ]
  },
  {
   "cell_type": "code",
   "execution_count": 5,
   "id": "42ba30f0",
   "metadata": {},
   "outputs": [
    {
     "name": "stdout",
     "output_type": "stream",
     "text": [
      "Percentage eerror   35.802   88.433   24.060 \n"
     ]
    }
   ],
   "source": [
    "print('Percentage eerror % 8.3f' % (errv), '% 8.3f' % errt, '% 8.3f ' % errw)"
   ]
  },
  {
   "cell_type": "code",
   "execution_count": 2,
   "id": "f7296230",
   "metadata": {},
   "outputs": [
    {
     "data": {
      "text/plain": [
       "3.034"
      ]
     },
     "execution_count": 2,
     "metadata": {},
     "output_type": "execute_result"
    }
   ],
   "source": [
    "6.068/2"
   ]
  },
  {
   "cell_type": "code",
   "execution_count": null,
   "id": "41fb678f",
   "metadata": {},
   "outputs": [],
   "source": []
  }
 ],
 "metadata": {
  "kernelspec": {
   "display_name": "Python 3 (ipykernel)",
   "language": "python",
   "name": "python3"
  },
  "language_info": {
   "codemirror_mode": {
    "name": "ipython",
    "version": 3
   },
   "file_extension": ".py",
   "mimetype": "text/x-python",
   "name": "python",
   "nbconvert_exporter": "python",
   "pygments_lexer": "ipython3",
   "version": "3.10.9"
  }
 },
 "nbformat": 4,
 "nbformat_minor": 5
}
