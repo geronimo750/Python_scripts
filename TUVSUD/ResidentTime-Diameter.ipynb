{
 "cells": [
  {
   "cell_type": "markdown",
   "id": "899af277-254b-41ff-9f3c-4f662b4b329d",
   "metadata": {
    "editable": true,
    "slideshow": {
     "slide_type": ""
    },
    "tags": []
   },
   "source": [
    "# Evaluation of resident time #"
   ]
  },
  {
   "cell_type": "markdown",
   "id": "b8417ad4-1a45-4b52-841e-c0bee36fc0ec",
   "metadata": {},
   "source": [
    "Formula to evaluate ideal resident time for 1 reactor\n",
    "$$ E(t)=\\dfrac{1}{\\tau}e^{-t/\\tau} $$ \n",
    "\n",
    "Where $ \\tau=\\dfrac{Q}{V} $ where $Q$ is the volumetric flow rate and $V$ is the Volume.\n",
    "\n",
    "Formula to evaluate ideal comulative time\n",
    "$$ F(t) = 1-e^{-t/\\tau} $$"
   ]
  },
  {
   "cell_type": "code",
   "execution_count": 1,
   "id": "04f4024c-68c7-4ac2-8ad4-0ebe794273c6",
   "metadata": {},
   "outputs": [],
   "source": [
    "import os\n",
    "import numpy as np\n",
    "import pandas as pd\n",
    "import scipy as sp\n",
    "import glob\n",
    "import matplotlib.pyplot as plt "
   ]
  },
  {
   "cell_type": "markdown",
   "id": "4afc204f-9b22-4944-aed2-b8dbc5b4aed4",
   "metadata": {},
   "source": [
    "### Diameter impact ###\n",
    "Reading Numerical simualtions files"
   ]
  },
  {
   "cell_type": "code",
   "execution_count": 2,
   "id": "2bc32322-8949-497b-b4a1-537838e9a2af",
   "metadata": {
    "editable": true,
    "slideshow": {
     "slide_type": ""
    },
    "tags": []
   },
   "outputs": [
    {
     "data": {
      "text/plain": [
       "['C:\\\\Users\\\\geron-ma\\\\OneDrive - TUV SUD\\\\Projects-Files\\\\A4I-R10-025_I-Phyc\\\\04_FLUENT\\\\Baseline_Geometry\\\\Particle_size\\\\RTD-outlet-D_05mu_m.his',\n",
       " 'C:\\\\Users\\\\geron-ma\\\\OneDrive - TUV SUD\\\\Projects-Files\\\\A4I-R10-025_I-Phyc\\\\04_FLUENT\\\\Baseline_Geometry\\\\Particle_size\\\\RTD-outlet-D_10mu_m.his',\n",
       " 'C:\\\\Users\\\\geron-ma\\\\OneDrive - TUV SUD\\\\Projects-Files\\\\A4I-R10-025_I-Phyc\\\\04_FLUENT\\\\Baseline_Geometry\\\\Particle_size\\\\RTD-outlet-D_20mu_m.his',\n",
       " 'C:\\\\Users\\\\geron-ma\\\\OneDrive - TUV SUD\\\\Projects-Files\\\\A4I-R10-025_I-Phyc\\\\04_FLUENT\\\\Baseline_Geometry\\\\Particle_size\\\\RTD-outlet-D_40mu_m.his']"
      ]
     },
     "execution_count": 2,
     "metadata": {},
     "output_type": "execute_result"
    }
   ],
   "source": [
    "WorkingDir=r'C:\\Users\\geron-ma\\OneDrive - TUV SUD\\Projects-Files\\A4I-R10-025_I-Phyc\\04_FLUENT'\n",
    "WorkingDir=r'C:\\Users\\geron-ma\\OneDrive - TUV SUD\\Projects-Files\\A4I-R10-025_I-Phyc\\04_FLUENT\\Baseline_Geometry'\n",
    "scenario='Particle_size'\n",
    "file_path=os.path.join(WorkingDir,scenario,'*.his')\n",
    "files=glob.glob(file_path)\n",
    "files"
   ]
  },
  {
   "cell_type": "code",
   "execution_count": 3,
   "id": "0dd7aa0e-0961-4f74-96af-e3fb28902d18",
   "metadata": {},
   "outputs": [],
   "source": [
    "data_frames={}  #create dictionary"
   ]
  },
  {
   "cell_type": "code",
   "execution_count": 4,
   "id": "716b3fbe-96d0-4ee6-afb9-1ce806d880a6",
   "metadata": {},
   "outputs": [],
   "source": [
    "time_array={}\n",
    "RTD_array={}\n",
    "N_particles={}"
   ]
  },
  {
   "cell_type": "code",
   "execution_count": 5,
   "id": "07d94b74-62f3-450b-b509-ac592b4ec23c",
   "metadata": {},
   "outputs": [],
   "source": [
    "cases = []"
   ]
  },
  {
   "cell_type": "code",
   "execution_count": 6,
   "id": "866e2695-2882-4a03-bde0-4f140a2eaf6c",
   "metadata": {
    "editable": true,
    "slideshow": {
     "slide_type": ""
    },
    "tags": []
   },
   "outputs": [
    {
     "name": "stdout",
     "output_type": "stream",
     "text": [
      "3970.0\n",
      "3970.0\n",
      "3967.0\n",
      "3966.0\n"
     ]
    }
   ],
   "source": [
    "for file in files:\n",
    "    start=file.find('D_**mu')\n",
    "    dim=file[124:124+6]\n",
    "    cases.append(dim)\n",
    "    data_frames[dim]=pd.read_csv(file, sep=' ', skiprows=11 , names=['t_num','E_num'])\n",
    "    data_frames[dim]=data_frames[dim].iloc[:-1,:]\n",
    "    N_particles[dim]=data_frames[dim]['E_num'].sum()\n",
    "    print(N_particles[dim])\n",
    "    time_array[dim]=data_frames[dim]['t_num'].to_numpy(dtype='float64')\n",
    "    RTD_array[dim]=data_frames[dim]['E_num'].to_numpy(dtype='float64')/ N_particles[dim]"
   ]
  },
  {
   "cell_type": "code",
   "execution_count": 7,
   "id": "f50b88aa-56d2-4c1c-87bc-387337563edf",
   "metadata": {},
   "outputs": [
    {
     "data": {
      "text/plain": [
       "{'D_05mu': 3970.0, 'D_10mu': 3970.0, 'D_20mu': 3967.0, 'D_40mu': 3966.0}"
      ]
     },
     "execution_count": 7,
     "metadata": {},
     "output_type": "execute_result"
    }
   ],
   "source": [
    "N_particles"
   ]
  },
  {
   "cell_type": "code",
   "execution_count": 8,
   "id": "07af7d44-73da-42ac-8149-27f22297a7b9",
   "metadata": {},
   "outputs": [
    {
     "data": {
      "text/plain": [
       "['D_05mu', 'D_10mu', 'D_20mu', 'D_40mu']"
      ]
     },
     "execution_count": 8,
     "metadata": {},
     "output_type": "execute_result"
    }
   ],
   "source": [
    "RTD_array\n",
    "cases"
   ]
  },
  {
   "cell_type": "markdown",
   "id": "af709e33-3ce0-49e8-91c1-363e14319487",
   "metadata": {},
   "source": [
    "## Characteristic of the reactor ##"
   ]
  },
  {
   "cell_type": "code",
   "execution_count": 9,
   "id": "93b150a4-3c2e-447b-9860-e78ddbb89237",
   "metadata": {},
   "outputs": [
    {
     "name": "stdout",
     "output_type": "stream",
     "text": [
      "10368.83116883117\n"
     ]
    }
   ],
   "source": [
    "#Q= 0.000347/1020   # m^3/s\n",
    "Q= 2.31/998\n",
    "V=3.2*2.5*3.0 # be carefull with units \n",
    "tau=V/Q\n",
    "print(tau)"
   ]
  },
  {
   "cell_type": "code",
   "execution_count": 10,
   "id": "c359d870-1b9a-47ed-bd73-36dd2288e49b",
   "metadata": {},
   "outputs": [],
   "source": [
    "t=np.linspace (0, 65000,100)"
   ]
  },
  {
   "cell_type": "code",
   "execution_count": 11,
   "id": "41aa9978-1b13-4db3-af4f-43a280d741fc",
   "metadata": {},
   "outputs": [],
   "source": [
    "E_t=(1/tau)*np.exp(-t/tau)"
   ]
  },
  {
   "cell_type": "code",
   "execution_count": 12,
   "id": "0ba728ec-fd8b-464b-ba07-12f9bde8af2d",
   "metadata": {},
   "outputs": [],
   "source": [
    "F_t=1-np.exp(-t/tau)"
   ]
  },
  {
   "cell_type": "code",
   "execution_count": 13,
   "id": "e0c7051b-0a23-4f54-92af-4a1da9e9e824",
   "metadata": {},
   "outputs": [],
   "source": [
    "teta=t/tau\n",
    "E_teta=np.exp(-teta)\n",
    "E_teta_2=teta*np.exp(-teta)"
   ]
  },
  {
   "cell_type": "code",
   "execution_count": 14,
   "id": "ef38236a-4fc1-4631-90cc-d43308d46d33",
   "metadata": {},
   "outputs": [],
   "source": [
    "I0={}\n",
    "I1={}\n",
    "tau_num={}"
   ]
  },
  {
   "cell_type": "code",
   "execution_count": 15,
   "id": "a6bbf385-cb2d-40ab-801f-f8d8295be05a",
   "metadata": {},
   "outputs": [],
   "source": [
    "for case in cases:\n",
    "    I0[case]=sp.integrate.simpson(RTD_array[case],time_array[case],axis=0)\n",
    "    I1[case]=sp.integrate.simpson(RTD_array[case]*time_array[case],time_array[case],axis=0)\n",
    "    tau_num[case]=I1[case]/I0[case]\n",
    "    RTD_array[case]=RTD_array[case]/I0[case]"
   ]
  },
  {
   "cell_type": "code",
   "execution_count": 16,
   "id": "3e324377-fcc3-4b93-9a35-efb7c889d652",
   "metadata": {},
   "outputs": [
    {
     "data": {
      "text/plain": [
       "{'D_05mu': 11606.59470696866,\n",
       " 'D_10mu': 11496.34190233382,\n",
       " 'D_20mu': 11361.47881155254,\n",
       " 'D_40mu': 11487.85478212509}"
      ]
     },
     "execution_count": 16,
     "metadata": {},
     "output_type": "execute_result"
    }
   ],
   "source": [
    "tau_num"
   ]
  },
  {
   "cell_type": "code",
   "execution_count": 17,
   "id": "0e9b5ba2-a83b-4eae-bbf5-fb2de98e0c61",
   "metadata": {},
   "outputs": [
    {
     "data": {
      "text/plain": [
       "{'D_05mu': 16885953.651826948,\n",
       " 'D_10mu': 16512347.432281733,\n",
       " 'D_20mu': 15247941.374934917,\n",
       " 'D_40mu': 15399409.101887459}"
      ]
     },
     "execution_count": 17,
     "metadata": {},
     "output_type": "execute_result"
    }
   ],
   "source": [
    "I1"
   ]
  },
  {
   "cell_type": "markdown",
   "id": "255afcf3-dd63-498f-bfa0-19e7f34e97b8",
   "metadata": {},
   "source": [
    "## Figure template ##"
   ]
  },
  {
   "cell_type": "markdown",
   "id": "65520870-866c-4532-bdc1-18e67e9ba7e8",
   "metadata": {},
   "source": [
    "Define a dictionari for the color and a dictionary for the line stile to be used"
   ]
  },
  {
   "cell_type": "code",
   "execution_count": 18,
   "id": "d0e87cb1-8f0d-42b7-83f6-43998c0dccc5",
   "metadata": {},
   "outputs": [],
   "source": [
    "col={\n",
    "    cases[0]:'b',\n",
    "    cases[1]:'m',\n",
    "    cases[2]:'c',\n",
    "    cases[3]:'g'\n",
    "}\n",
    "stile={\n",
    "    cases[0]:'o',\n",
    "    cases[1]:'v',\n",
    "    cases[2]:'s',\n",
    "    cases[3]:'*'\n",
    "}"
   ]
  },
  {
   "cell_type": "code",
   "execution_count": 19,
   "id": "e665f29f-5f51-4035-b5b9-74a112071e89",
   "metadata": {},
   "outputs": [
    {
     "data": {
      "image/png": "[encoded data removed]",
      "text/plain": [
       "<Figure size 640x480 with 1 Axes>"
      ]
     },
     "metadata": {},
     "output_type": "display_data"
    }
   ],
   "source": [
    "fig, ax = plt.subplots()"
   ]
  },
  {
   "cell_type": "code",
   "execution_count": 20,
   "id": "7dbd0064-5179-4a89-82bb-a42b077dcecd",
   "metadata": {},
   "outputs": [
    {
     "data": {
      "text/plain": [
       "<contextlib.ExitStack at 0x2a66f649c50>"
      ]
     },
     "execution_count": 20,
     "metadata": {},
     "output_type": "execute_result"
    }
   ],
   "source": [
    "plt.ioff()"
   ]
  },
  {
   "cell_type": "code",
   "execution_count": 21,
   "id": "b7cc46a5-173d-4f87-ad60-9ebc96d61985",
   "metadata": {},
   "outputs": [],
   "source": [
    "fig, ax3 = plt.subplots()"
   ]
  },
  {
   "cell_type": "code",
   "execution_count": 22,
   "id": "a8f5bfe9-1110-4aee-9dc1-4677f7a9740b",
   "metadata": {},
   "outputs": [],
   "source": [
    "ax3.plot(teta, E_t*tau,label='Ideal')\n",
    "ax3.plot(teta,E_teta_2, label='Ideal-N=2')\n",
    "for case in cases:\n",
    "    #ax3.plot(time_array[case]/tau_num[case],RTD_array[case]*tau_num[case],label=case,marker=stile[case],linestyle='--',color=col[case])\n",
    "    ax3.plot(time_array[case]/tau,RTD_array[case]*tau,label=case,marker=stile[case],linestyle='--',color=col[case])"
   ]
  },
  {
   "cell_type": "code",
   "execution_count": 23,
   "id": "0a265a3e-ae10-4770-829e-770e6b18d2e0",
   "metadata": {},
   "outputs": [],
   "source": [
    "ax3.legend()\n",
    "ax3.set_xlabel(r'$ \\theta $')\n",
    "ax3.set_ylabel(r'E( $ \\theta $ )')\n",
    "ax3.title.set_text('RTD')"
   ]
  },
  {
   "cell_type": "code",
   "execution_count": 24,
   "id": "193cca3e-09d1-4e55-98d6-e9d9d005b65e",
   "metadata": {
    "editable": true,
    "slideshow": {
     "slide_type": ""
    },
    "tags": []
   },
   "outputs": [
    {
     "data": {
      "image/png": "[encoded data removed]",
      "text/plain": [
       "<Figure size 640x480 with 1 Axes>"
      ]
     },
     "metadata": {},
     "output_type": "display_data"
    }
   ],
   "source": [
    "plt.show()"
   ]
  },
  {
   "cell_type": "code",
   "execution_count": 25,
   "id": "3f04c355-2109-4a90-95ac-ab4cc85f0c96",
   "metadata": {
    "editable": true,
    "slideshow": {
     "slide_type": ""
    },
    "tags": []
   },
   "outputs": [
    {
     "data": {
      "text/plain": [
       "{'D_05mu': 11606.59470696866,\n",
       " 'D_10mu': 11496.34190233382,\n",
       " 'D_20mu': 11361.47881155254,\n",
       " 'D_40mu': 11487.85478212509}"
      ]
     },
     "execution_count": 25,
     "metadata": {},
     "output_type": "execute_result"
    }
   ],
   "source": [
    "tau_num"
   ]
  }
 ],
 "metadata": {
  "kernelspec": {
   "display_name": "Python 3 (ipykernel)",
   "language": "python",
   "name": "python3"
  },
  "language_info": {
   "codemirror_mode": {
    "name": "ipython",
    "version": 3
   },
   "file_extension": ".py",
   "mimetype": "text/x-python",
   "name": "python",
   "nbconvert_exporter": "python",
   "pygments_lexer": "ipython3",
   "version": "3.11.7"
  }
 },
 "nbformat": 4,
 "nbformat_minor": 5
}
