{
 "cells": [
  {
   "cell_type": "code",
   "execution_count": 1,
   "id": "584fc4f8",
   "metadata": {},
   "outputs": [],
   "source": [
    "import numpy as np\n",
    "import scipy as sc"
   ]
  },
  {
   "cell_type": "markdown",
   "id": "03cc4ebc",
   "metadata": {},
   "source": [
    "# Project XXXXX # "
   ]
  },
  {
   "cell_type": "markdown",
   "id": "81ca5914",
   "metadata": {},
   "source": [
    "## Geometric Characteristics ##\n"
   ]
  },
  {
   "cell_type": "markdown",
   "id": "d44eee5e",
   "metadata": {},
   "source": [
    "Area $[m^2]$"
   ]
  },
  {
   "cell_type": "code",
   "execution_count": 2,
   "id": "03cb24fd",
   "metadata": {},
   "outputs": [],
   "source": [
    "A=0.01215 #[m2]"
   ]
  },
  {
   "cell_type": "markdown",
   "id": "e7135878",
   "metadata": {},
   "source": [
    "### Input Parameters ###"
   ]
  },
  {
   "cell_type": "markdown",
   "id": "943cb394",
   "metadata": {},
   "source": [
    "Mass flow"
   ]
  },
  {
   "cell_type": "code",
   "execution_count": 3,
   "id": "3d128107",
   "metadata": {},
   "outputs": [],
   "source": [
    "mdg=20.28\n",
    "#mdc=0.730\n",
    "#mdAq=3.889"
   ]
  },
  {
   "cell_type": "markdown",
   "id": "7bf26227",
   "metadata": {},
   "source": [
    "Particle size"
   ]
  },
  {
   "cell_type": "code",
   "execution_count": 4,
   "id": "73ded90b",
   "metadata": {},
   "outputs": [],
   "source": [
    "dc=1e-3;daq=1e-3;"
   ]
  },
  {
   "cell_type": "markdown",
   "id": "388817ea",
   "metadata": {},
   "source": [
    "Density"
   ]
  },
  {
   "cell_type": "code",
   "execution_count": 5,
   "id": "35b30dda",
   "metadata": {},
   "outputs": [],
   "source": [
    "rhog=55.441\n",
    "rhoc=747.01\n",
    "rhoAq=997.85\n"
   ]
  },
  {
   "cell_type": "markdown",
   "id": "792d7e50",
   "metadata": {},
   "source": [
    "Viscosity"
   ]
  },
  {
   "cell_type": "code",
   "execution_count": 6,
   "id": "a685799f",
   "metadata": {},
   "outputs": [],
   "source": [
    "mug=0.013e-3\n",
    "muc=1.54e-3\n",
    "muaq=0.744e-3"
   ]
  },
  {
   "cell_type": "markdown",
   "id": "80d6f421",
   "metadata": {},
   "source": [
    "Volumetric flow rate  $[m^3 \\cdot h ]$"
   ]
  },
  {
   "cell_type": "code",
   "execution_count": 7,
   "id": "2778998c",
   "metadata": {},
   "outputs": [
    {
     "ename": "NameError",
     "evalue": "name 'mdc' is not defined",
     "output_type": "error",
     "traceback": [
      "\u001b[1;31m---------------------------------------------------------------------------\u001b[0m",
      "\u001b[1;31mNameError\u001b[0m                                 Traceback (most recent call last)",
      "Cell \u001b[1;32mIn[7], line 2\u001b[0m\n\u001b[0;32m      1\u001b[0m Qg\u001b[38;5;241m=\u001b[39mmdg\u001b[38;5;241m/\u001b[39mrhog\u001b[38;5;241m*\u001b[39m\u001b[38;5;241m3600\u001b[39m\n\u001b[1;32m----> 2\u001b[0m Qc\u001b[38;5;241m=\u001b[39m\u001b[43mmdc\u001b[49m\u001b[38;5;241m/\u001b[39mrhoc\u001b[38;5;241m*\u001b[39m\u001b[38;5;241m3600\u001b[39m\n\u001b[0;32m      3\u001b[0m QAq\u001b[38;5;241m=\u001b[39mmdAq\u001b[38;5;241m/\u001b[39mrhoAq\u001b[38;5;241m*\u001b[39m\u001b[38;5;241m3600\u001b[39m\n",
      "\u001b[1;31mNameError\u001b[0m: name 'mdc' is not defined"
     ]
    }
   ],
   "source": [
    "Qg=mdg/rhog*3600\n",
    "Qc=mdc/rhoc*3600\n",
    "QAq=mdAq/rhoAq*3600"
   ]
  },
  {
   "cell_type": "code",
   "execution_count": null,
   "id": "dfa8bf73",
   "metadata": {},
   "outputs": [],
   "source": [
    "print(Qg,Qc,QAq)\n"
   ]
  },
  {
   "cell_type": "code",
   "execution_count": null,
   "id": "a03fa5e2",
   "metadata": {},
   "outputs": [],
   "source": [
    "Qtot=Qg+Qc+QAq"
   ]
  },
  {
   "cell_type": "markdown",
   "id": "acbf43bb",
   "metadata": {},
   "source": [
    "__Outlet pressure__ \n",
    "\n",
    "evaluated as P5-Patm\n"
   ]
  },
  {
   "cell_type": "code",
   "execution_count": 8,
   "id": "3ce6912b",
   "metadata": {},
   "outputs": [
    {
     "data": {
      "text/plain": [
       "6311475.0"
      ]
     },
     "execution_count": 8,
     "metadata": {},
     "output_type": "execute_result"
    }
   ],
   "source": [
    "64.128*1e5-101325"
   ]
  },
  {
   "cell_type": "markdown",
   "id": "67819e31",
   "metadata": {},
   "source": [
    "## Some Dimensionaless number calculations ##"
   ]
  },
  {
   "cell_type": "markdown",
   "id": "fc647621",
   "metadata": {},
   "source": [
    "### Stokes Number ###"
   ]
  },
  {
   "cell_type": "markdown",
   "id": "900dbf32",
   "metadata": {},
   "source": [
    "__Particle Response Time__"
   ]
  },
  {
   "cell_type": "code",
   "execution_count": 9,
   "id": "58ec109f",
   "metadata": {},
   "outputs": [],
   "source": [
    "tau_c=rhoc"
   ]
  },
  {
   "cell_type": "code",
   "execution_count": 10,
   "id": "c70e85fb",
   "metadata": {},
   "outputs": [
    {
     "ename": "NameError",
     "evalue": "name 'Qc' is not defined",
     "output_type": "error",
     "traceback": [
      "\u001b[1;31m---------------------------------------------------------------------------\u001b[0m",
      "\u001b[1;31mNameError\u001b[0m                                 Traceback (most recent call last)",
      "Cell \u001b[1;32mIn[10], line 1\u001b[0m\n\u001b[1;32m----> 1\u001b[0m VFc\u001b[38;5;241m=\u001b[39m\u001b[43mQc\u001b[49m\u001b[38;5;241m/\u001b[39mQtot\n\u001b[0;32m      2\u001b[0m VFAq\u001b[38;5;241m=\u001b[39mQAq\u001b[38;5;241m/\u001b[39mQtot\n",
      "\u001b[1;31mNameError\u001b[0m: name 'Qc' is not defined"
     ]
    }
   ],
   "source": [
    "VFc=Qc/Qtot\n",
    "VFAq=QAq/Qtot"
   ]
  },
  {
   "cell_type": "code",
   "execution_count": null,
   "id": "4ead1596",
   "metadata": {},
   "outputs": [],
   "source": []
  },
  {
   "cell_type": "code",
   "execution_count": 11,
   "id": "43dd333a",
   "metadata": {},
   "outputs": [
    {
     "ename": "NameError",
     "evalue": "name 'VFc' is not defined",
     "output_type": "error",
     "traceback": [
      "\u001b[1;31m---------------------------------------------------------------------------\u001b[0m",
      "\u001b[1;31mNameError\u001b[0m                                 Traceback (most recent call last)",
      "Cell \u001b[1;32mIn[11], line 1\u001b[0m\n\u001b[1;32m----> 1\u001b[0m \u001b[38;5;28mprint\u001b[39m(\u001b[43mVFc\u001b[49m,VFAq)\n",
      "\u001b[1;31mNameError\u001b[0m: name 'VFc' is not defined"
     ]
    }
   ],
   "source": [
    "print(VFc,VFAq)"
   ]
  },
  {
   "cell_type": "code",
   "execution_count": 12,
   "id": "0cd1bf07",
   "metadata": {},
   "outputs": [
    {
     "data": {
      "text/plain": [
       "6274775.0"
      ]
     },
     "execution_count": 12,
     "metadata": {},
     "output_type": "execute_result"
    }
   ],
   "source": [
    "63.761*1e5-101325"
   ]
  },
  {
   "cell_type": "markdown",
   "id": "ae5c0eb3",
   "metadata": {},
   "source": [
    "## Differential pressure results ##"
   ]
  },
  {
   "cell_type": "markdown",
   "id": "1d7ca4b6",
   "metadata": {},
   "source": [
    "3rd order"
   ]
  },
  {
   "cell_type": "code",
   "execution_count": 13,
   "id": "cabce32a",
   "metadata": {},
   "outputs": [],
   "source": [
    "p1=6482638.9\n",
    "p2=6347221.2\n",
    "p3=6477159.5\n",
    "p4=6482006.2\n",
    "p5=6366785.3"
   ]
  },
  {
   "cell_type": "markdown",
   "id": "af8c9efd",
   "metadata": {},
   "source": [
    "$k-\\varepsilon$"
   ]
  },
  {
   "cell_type": "code",
   "execution_count": 14,
   "id": "e7e6e570",
   "metadata": {},
   "outputs": [],
   "source": [
    "p1=6479976.9\n",
    "p2=6353120.2\n",
    "p3=6487558.5\n",
    "p4=6490096.2\n",
    "p5=6360681.3"
   ]
  },
  {
   "cell_type": "code",
   "execution_count": 15,
   "id": "34b26677",
   "metadata": {},
   "outputs": [],
   "source": [
    "p1=6483739.7\n",
    "p2=6343446.9\n",
    "p3=6489297.6\n",
    "p4=6484585.1\n",
    "p5=6369152.0"
   ]
  },
  {
   "cell_type": "code",
   "execution_count": 16,
   "id": "736088da",
   "metadata": {},
   "outputs": [],
   "source": [
    "DPv=(p1-p2)/100\n",
    "DPt=(p1-p3)/100\n",
    "DPw=(p4-p5)/100"
   ]
  },
  {
   "cell_type": "code",
   "execution_count": 17,
   "id": "077b163f",
   "metadata": {},
   "outputs": [],
   "source": [
    "DPv=1720\n",
    "DPt=455\n",
    "DPw=1400"
   ]
  },
  {
   "cell_type": "code",
   "execution_count": 18,
   "id": "0b3f31cc",
   "metadata": {},
   "outputs": [
    {
     "name": "stdout",
     "output_type": "stream",
     "text": [
      " 1720.000  455.000  1400.000\n"
     ]
    }
   ],
   "source": [
    "print('% 8.3f' % DPv,'% 8.3f' % DPt, '% 8.3f' %DPw)"
   ]
  },
  {
   "cell_type": "code",
   "execution_count": 19,
   "id": "77195fb9",
   "metadata": {},
   "outputs": [],
   "source": [
    "DPvex=1505.41\n",
    "DPtex=268.90\n",
    "DPwex=1323.06"
   ]
  },
  {
   "cell_type": "code",
   "execution_count": 20,
   "id": "f9cfae3d",
   "metadata": {},
   "outputs": [],
   "source": [
    "errv=abs(DPv-DPvex)/DPvex*100\n",
    "errt=abs(DPt-DPtex)/DPtex*100\n",
    "errw=abs(DPw-DPwex)/DPwex*100"
   ]
  },
  {
   "cell_type": "code",
   "execution_count": 21,
   "id": "42ba30f0",
   "metadata": {},
   "outputs": [
    {
     "name": "stdout",
     "output_type": "stream",
     "text": [
      "Percentage eerror   14.255   69.208    5.815 \n"
     ]
    }
   ],
   "source": [
    "print('Percentage eerror % 8.3f' % (errv), '% 8.3f' % errt, '% 8.3f ' % errw)"
   ]
  },
  {
   "cell_type": "code",
   "execution_count": null,
   "id": "f7296230",
   "metadata": {},
   "outputs": [],
   "source": []
  }
 ],
 "metadata": {
  "kernelspec": {
   "display_name": "Python 3 (ipykernel)",
   "language": "python",
   "name": "python3"
  },
  "language_info": {
   "codemirror_mode": {
    "name": "ipython",
    "version": 3
   },
   "file_extension": ".py",
   "mimetype": "text/x-python",
   "name": "python",
   "nbconvert_exporter": "python",
   "pygments_lexer": "ipython3",
   "version": "3.10.9"
  }
 },
 "nbformat": 4,
 "nbformat_minor": 5
}
