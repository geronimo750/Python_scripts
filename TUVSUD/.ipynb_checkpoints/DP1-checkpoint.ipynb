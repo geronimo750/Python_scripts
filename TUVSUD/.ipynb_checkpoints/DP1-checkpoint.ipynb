{
 "cells": [
  {
   "cell_type": "code",
   "execution_count": 1,
   "id": "584fc4f8",
   "metadata": {},
   "outputs": [],
   "source": [
    "import numpy as np\n",
    "import scipy as sc"
   ]
  },
  {
   "cell_type": "markdown",
   "id": "03cc4ebc",
   "metadata": {},
   "source": [
    "# Project XXXXX # "
   ]
  },
  {
   "cell_type": "markdown",
   "id": "81ca5914",
   "metadata": {},
   "source": [
    "## Geometric Characteristics ##\n"
   ]
  },
  {
   "cell_type": "markdown",
   "id": "d44eee5e",
   "metadata": {},
   "source": [
    "Area $[m^2]$"
   ]
  },
  {
   "cell_type": "code",
   "execution_count": 2,
   "id": "03cb24fd",
   "metadata": {},
   "outputs": [],
   "source": [
    "A=0.01215 #[m2]"
   ]
  },
  {
   "cell_type": "markdown",
   "id": "e7135878",
   "metadata": {},
   "source": [
    "### Input Parameters ###"
   ]
  },
  {
   "cell_type": "markdown",
   "id": "943cb394",
   "metadata": {},
   "source": [
    "Mass flow"
   ]
  },
  {
   "cell_type": "code",
   "execution_count": 3,
   "id": "3d128107",
   "metadata": {},
   "outputs": [],
   "source": [
    "mdg=15.985\n",
    "mdc=0.730\n",
    "mdAq=3.889"
   ]
  },
  {
   "cell_type": "markdown",
   "id": "7bf26227",
   "metadata": {},
   "source": [
    "Particle size"
   ]
  },
  {
   "cell_type": "code",
   "execution_count": 4,
   "id": "73ded90b",
   "metadata": {},
   "outputs": [],
   "source": [
    "dc=1e-3;daq=1e-3;"
   ]
  },
  {
   "cell_type": "markdown",
   "id": "388817ea",
   "metadata": {},
   "source": [
    "Density"
   ]
  },
  {
   "cell_type": "code",
   "execution_count": 5,
   "id": "35b30dda",
   "metadata": {},
   "outputs": [],
   "source": [
    "rhog=56.577\n",
    "rhoc=747.01\n",
    "rhoAq=997.85\n"
   ]
  },
  {
   "cell_type": "markdown",
   "id": "792d7e50",
   "metadata": {},
   "source": [
    "Viscosity"
   ]
  },
  {
   "cell_type": "code",
   "execution_count": 6,
   "id": "a685799f",
   "metadata": {},
   "outputs": [],
   "source": [
    "mug=0.013e-3\n",
    "muc=1.54e-3\n",
    "muaq=0.744e-3"
   ]
  },
  {
   "cell_type": "markdown",
   "id": "80d6f421",
   "metadata": {},
   "source": [
    "Volumetric flow rate  $[m^3 \\cdot h ]$"
   ]
  },
  {
   "cell_type": "code",
   "execution_count": 7,
   "id": "2778998c",
   "metadata": {},
   "outputs": [],
   "source": [
    "Qg=mdg/rhog*3600\n",
    "Qc=mdc/rhoc*3600\n",
    "QAq=mdAq/rhoAq*3600"
   ]
  },
  {
   "cell_type": "code",
   "execution_count": 8,
   "id": "dfa8bf73",
   "metadata": {},
   "outputs": [
    {
     "name": "stdout",
     "output_type": "stream",
     "text": [
      "1017.1271011188293 3.518025193772506 14.030565716290022\n"
     ]
    }
   ],
   "source": [
    "print(Qg,Qc,QAq)\n"
   ]
  },
  {
   "cell_type": "code",
   "execution_count": 9,
   "id": "a03fa5e2",
   "metadata": {},
   "outputs": [],
   "source": [
    "Qtot=Qg+Qc+QAq"
   ]
  },
  {
   "cell_type": "markdown",
   "id": "67819e31",
   "metadata": {},
   "source": [
    "## Some Dimensionaless number calculations ##"
   ]
  },
  {
   "cell_type": "markdown",
   "id": "fc647621",
   "metadata": {},
   "source": [
    "### Stokes Number ###"
   ]
  },
  {
   "cell_type": "markdown",
   "id": "900dbf32",
   "metadata": {},
   "source": [
    "__Particle Response Time__"
   ]
  },
  {
   "cell_type": "code",
   "execution_count": 10,
   "id": "58ec109f",
   "metadata": {},
   "outputs": [],
   "source": [
    "tau_c=rhoc"
   ]
  },
  {
   "cell_type": "code",
   "execution_count": 11,
   "id": "c70e85fb",
   "metadata": {},
   "outputs": [],
   "source": [
    "VFc=Qc/Qtot\n",
    "VFAq=QAq/Qtot"
   ]
  },
  {
   "cell_type": "code",
   "execution_count": null,
   "id": "4ead1596",
   "metadata": {},
   "outputs": [],
   "source": []
  },
  {
   "cell_type": "code",
   "execution_count": 12,
   "id": "43dd333a",
   "metadata": {},
   "outputs": [
    {
     "name": "stdout",
     "output_type": "stream",
     "text": [
      "0.0034001235564682336 0.013560351155807612\n"
     ]
    }
   ],
   "source": [
    "print(VFc,VFAq)"
   ]
  },
  {
   "cell_type": "code",
   "execution_count": 13,
   "id": "0cd1bf07",
   "metadata": {},
   "outputs": [
    {
     "data": {
      "text/plain": [
       "6274775.0"
      ]
     },
     "execution_count": 13,
     "metadata": {},
     "output_type": "execute_result"
    }
   ],
   "source": [
    "63.761*1e5-101325"
   ]
  },
  {
   "cell_type": "markdown",
   "id": "ae5c0eb3",
   "metadata": {},
   "source": [
    "## Differential pressure results ##"
   ]
  },
  {
   "cell_type": "code",
   "execution_count": 14,
   "id": "cabce32a",
   "metadata": {},
   "outputs": [],
   "source": [
    "p1=6436374\n",
    "p2=6331776.9\n",
    "p3=6430753.7\n",
    "p4=6435706.3\n",
    "p5=6340919.7"
   ]
  },
  {
   "cell_type": "code",
   "execution_count": 15,
   "id": "736088da",
   "metadata": {},
   "outputs": [],
   "source": [
    "DPv=(p1-p2)/100\n",
    "DPt=(p1-p3)/100\n",
    "DPw=(p4-p5)/100"
   ]
  },
  {
   "cell_type": "code",
   "execution_count": 16,
   "id": "0b3f31cc",
   "metadata": {},
   "outputs": [
    {
     "name": "stdout",
     "output_type": "stream",
     "text": [
      " 1045.971   56.203  947.866\n"
     ]
    }
   ],
   "source": [
    "print('% 8.3f' % DPv,'% 8.3f' % DPt, '% 8.3f' %DPw)"
   ]
  },
  {
   "cell_type": "code",
   "execution_count": 17,
   "id": "77195fb9",
   "metadata": {},
   "outputs": [],
   "source": [
    "DPvex=1252.93\n",
    "DPtex=729.81\n",
    "DPwex=1231.50"
   ]
  },
  {
   "cell_type": "code",
   "execution_count": 18,
   "id": "f9cfae3d",
   "metadata": {},
   "outputs": [],
   "source": [
    "errv=abs(DPv-DPvex)/DPvex*100\n",
    "errt=abs(DPt-DPtex)/DPtex*100\n",
    "errw=abs(DPw-DPwex)/DPwex*100"
   ]
  },
  {
   "cell_type": "code",
   "execution_count": 19,
   "id": "42ba30f0",
   "metadata": {},
   "outputs": [
    {
     "name": "stdout",
     "output_type": "stream",
     "text": [
      "Percentage eerror   16.518   92.299   23.032 \n"
     ]
    }
   ],
   "source": [
    "print('Percentage eerror % 8.3f' % (errv), '% 8.3f' % errt, '% 8.3f ' % errw)"
   ]
  },
  {
   "cell_type": "code",
   "execution_count": null,
   "id": "f7296230",
   "metadata": {},
   "outputs": [],
   "source": []
  }
 ],
 "metadata": {
  "kernelspec": {
   "display_name": "Python 3 (ipykernel)",
   "language": "python",
   "name": "python3"
  },
  "language_info": {
   "codemirror_mode": {
    "name": "ipython",
    "version": 3
   },
   "file_extension": ".py",
   "mimetype": "text/x-python",
   "name": "python",
   "nbconvert_exporter": "python",
   "pygments_lexer": "ipython3",
   "version": "3.10.9"
  }
 },
 "nbformat": 4,
 "nbformat_minor": 5
}
