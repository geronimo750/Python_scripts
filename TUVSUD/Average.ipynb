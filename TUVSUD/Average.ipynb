{
 "cells": [
  {
   "cell_type": "markdown",
   "id": "1faa50a5",
   "metadata": {},
   "source": [
    "## Script to ananlyse and plot otput files from fluent ##"
   ]
  },
  {
   "cell_type": "code",
   "execution_count": 1,
   "id": "90a993ab",
   "metadata": {},
   "outputs": [],
   "source": [
    "import pandas as pd\n",
    "import matplotlib.pyplot as plt"
   ]
  },
  {
   "cell_type": "code",
   "execution_count": 14,
   "id": "22c9305d",
   "metadata": {
    "scrolled": true
   },
   "outputs": [],
   "source": [
    "data=pd.read_csv(r\"C:\\Users\\geron-ma\\Documents\\Project\\XXX-solartron\\02_PostProcessing\\TP2\\dpw.out\", sep=' ', skiprows=3, names=['iter','dp'])"
   ]
  },
  {
   "cell_type": "code",
   "execution_count": 15,
   "id": "85853b55",
   "metadata": {},
   "outputs": [
    {
     "data": {
      "text/plain": [
       "1        29.088116\n",
       "2        95.640891\n",
       "3        42.009053\n",
       "4       -35.155465\n",
       "5       -49.555813\n",
       "           ...    \n",
       "7128    667.324024\n",
       "7129    667.611820\n",
       "7130    668.391536\n",
       "7131    668.391204\n",
       "7132    668.337627\n",
       "Name: dp, Length: 7132, dtype: float64"
      ]
     },
     "execution_count": 15,
     "metadata": {},
     "output_type": "execute_result"
    }
   ],
   "source": [
    "data['dp']"
   ]
  },
  {
   "cell_type": "code",
   "execution_count": 16,
   "id": "8e4b8efa",
   "metadata": {},
   "outputs": [
    {
     "data": {
      "text/plain": [
       "626.6200844932565"
      ]
     },
     "execution_count": 16,
     "metadata": {},
     "output_type": "execute_result"
    }
   ],
   "source": [
    "data['dp'].mean()"
   ]
  },
  {
   "cell_type": "code",
   "execution_count": 18,
   "id": "b420eeb9",
   "metadata": {},
   "outputs": [
    {
     "data": {
      "text/plain": [
       "<Axes: >"
      ]
     },
     "execution_count": 18,
     "metadata": {},
     "output_type": "execute_result"
    }
   ],
   "source": [
    "data['dp'].plot()"
   ]
  },
  {
   "cell_type": "markdown",
   "id": "f4e88b82",
   "metadata": {},
   "source": [
    "# Extract sub set #\n",
    "iloc points to location (i) I am not sure why to extract one column you need to put the limit with the next column (no sense to me but there must be a reason"
   ]
  },
  {
   "cell_type": "markdown",
   "id": "2016f0c8",
   "metadata": {},
   "source": [
    "__-1__ is the last row or last column"
   ]
  },
  {
   "cell_type": "code",
   "execution_count": 20,
   "id": "409d4db9",
   "metadata": {},
   "outputs": [],
   "source": [
    " dp=data.iloc[2500:7000, 0:2]"
   ]
  },
  {
   "cell_type": "code",
   "execution_count": 21,
   "id": "09c8f8e4",
   "metadata": {},
   "outputs": [
    {
     "data": {
      "text/plain": [
       "<Axes: >"
      ]
     },
     "execution_count": 21,
     "metadata": {},
     "output_type": "execute_result"
    }
   ],
   "source": [
    "dp['dp'].plot()"
   ]
  },
  {
   "cell_type": "code",
   "execution_count": 23,
   "id": "a873d334",
   "metadata": {},
   "outputs": [
    {
     "data": {
      "text/plain": [
       "664.5824048846016"
      ]
     },
     "execution_count": 23,
     "metadata": {},
     "output_type": "execute_result"
    }
   ],
   "source": [
    "dp['dp'].mean()"
   ]
  },
  {
   "cell_type": "code",
   "execution_count": 10,
   "id": "72153db8",
   "metadata": {},
   "outputs": [
    {
     "data": {
      "text/plain": [
       "<contextlib.ExitStack at 0x23055975ea0>"
      ]
     },
     "execution_count": 10,
     "metadata": {},
     "output_type": "execute_result"
    }
   ],
   "source": [
    "plt.ioff()"
   ]
  },
  {
   "cell_type": "code",
   "execution_count": 11,
   "id": "7bee0419",
   "metadata": {},
   "outputs": [
    {
     "data": {
      "text/plain": [
       "[<matplotlib.lines.Line2D at 0x2305aa74c70>]"
      ]
     },
     "execution_count": 11,
     "metadata": {},
     "output_type": "execute_result"
    }
   ],
   "source": [
    "fig, ax = plt.subplots(2)\n",
    "\n",
    "ax[0].plot(dp['iter'],dp['dp'], '--', label='line plot')\n",
    "\n"
   ]
  },
  {
   "cell_type": "code",
   "execution_count": 12,
   "id": "37da7660",
   "metadata": {},
   "outputs": [
    {
     "data": {
      "text/plain": [
       "{'whiskers': [<matplotlib.lines.Line2D at 0x2305aa76bf0>,\n",
       "  <matplotlib.lines.Line2D at 0x2305aa76e90>],\n",
       " 'caps': [<matplotlib.lines.Line2D at 0x2305aa77130>,\n",
       "  <matplotlib.lines.Line2D at 0x2305aa773d0>],\n",
       " 'boxes': [<matplotlib.lines.Line2D at 0x2305aa76950>],\n",
       " 'medians': [<matplotlib.lines.Line2D at 0x2305aa77550>],\n",
       " 'fliers': [<matplotlib.lines.Line2D at 0x2305aa777f0>],\n",
       " 'means': []}"
      ]
     },
     "execution_count": 12,
     "metadata": {},
     "output_type": "execute_result"
    }
   ],
   "source": [
    "y_avg = [dp['dp'].mean()] * (len(dp))\n",
    "\n",
    "ax[0].plot(dp['iter'], y_avg,  color='red', lw=2, ls='--', label=\"average value\")\n",
    "\n",
    "ax[0].legend(loc=0)\n",
    "\n",
    "ax[1].boxplot(dp['dp'])\n"
   ]
  },
  {
   "cell_type": "code",
   "execution_count": 22,
   "id": "42f1808e",
   "metadata": {},
   "outputs": [
    {
     "data": {
      "image/png": "[encoded data removed]",
      "text/plain": [
       "<Figure size 640x480 with 1 Axes>"
      ]
     },
     "metadata": {},
     "output_type": "display_data"
    }
   ],
   "source": [
    "plt.show()"
   ]
  },
  {
   "cell_type": "code",
   "execution_count": 47,
   "id": "8119a39f",
   "metadata": {},
   "outputs": [
    {
     "ename": "SyntaxError",
     "evalue": "invalid syntax (457645448.py, line 1)",
     "output_type": "error",
     "traceback": [
      "\u001b[1;36m  Cell \u001b[1;32mIn[47], line 1\u001b[1;36m\u001b[0m\n\u001b[1;33m    plt.\u001b[0m\n\u001b[1;37m        ^\u001b[0m\n\u001b[1;31mSyntaxError\u001b[0m\u001b[1;31m:\u001b[0m invalid syntax\n"
     ]
    }
   ],
   "source": [
    "plt."
   ]
  },
  {
   "cell_type": "code",
   "execution_count": null,
   "id": "e2b8416d",
   "metadata": {},
   "outputs": [],
   "source": []
  },
  {
   "cell_type": "code",
   "execution_count": null,
   "id": "e48371cd",
   "metadata": {},
   "outputs": [],
   "source": []
  }
 ],
 "metadata": {
  "kernelspec": {
   "display_name": "Python 3 (ipykernel)",
   "language": "python",
   "name": "python3"
  },
  "language_info": {
   "codemirror_mode": {
    "name": "ipython",
    "version": 3
   },
   "file_extension": ".py",
   "mimetype": "text/x-python",
   "name": "python",
   "nbconvert_exporter": "python",
   "pygments_lexer": "ipython3",
   "version": "3.10.9"
  }
 },
 "nbformat": 4,
 "nbformat_minor": 5
}
