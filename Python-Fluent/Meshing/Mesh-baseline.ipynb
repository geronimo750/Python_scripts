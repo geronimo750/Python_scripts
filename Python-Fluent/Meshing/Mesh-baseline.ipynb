{
 "cells": [
  {
   "cell_type": "code",
   "execution_count": null,
   "id": "87cba681-031c-4897-9606-e86c4ecdb616",
   "metadata": {},
   "outputs": [],
   "source": [
    "try:\n",
    "    import ansys.fluent.core as pyfluent\n",
    "    flglobals = pyfluent.setup_for_fluent(product_version=\"23.1.0\", mode=\"meshing\", version=\"3d\", precision=\"double\", processor_count=8)\n",
    "    globals().update(flglobals)\n",
    "except Exception:\n",
    "    pass\n",
    "workflow.InitializeWorkflow(WorkflowType=r'Watertight Geometry')\n",
    "meshing.GlobalSettings.LengthUnit.set_state(r'mm')\n",
    "meshing.GlobalSettings.AreaUnit.set_state(r'mm^2')\n",
    "meshing.GlobalSettings.VolumeUnit.set_state(r'mm^3')\n",
    "workflow.TaskObject['Import Geometry'].Arguments.set_state({r'FileName': r'C:/Users/geron-ma/Downloads/FW_ DS4 MODEL/New-mixer-No-tapping.scdoc',})\n",
    "workflow.TaskObject['Import Geometry'].Execute()\n",
    "workflow.TaskObject['Add Local Sizing'].Arguments.set_state({r'AddChild': r'yes',r'BOIExecution': r'Body Of Influence',r'BOIFaceLabelList': [r'new-mixer-no-tapping-boi1'],r'BOISize': 2,})\n",
    "workflow.TaskObject['Add Local Sizing'].AddChildAndUpdate()\n",
    "workflow.TaskObject['Generate the Surface Mesh'].Arguments.set_state({r'CFDSurfaceMeshControls': {r'MaxSize': 8,r'MinSize': 1,},})\n",
    "workflow.TaskObject['Generate the Surface Mesh'].Execute()\n",
    "workflow.TaskObject['Describe Geometry'].UpdateChildTasks(SetupTypeChanged=False)\n",
    "workflow.TaskObject['Describe Geometry'].Arguments.set_state({r'SetupType': r'The geometry consists of only fluid regions with no voids',})\n",
    "workflow.TaskObject['Describe Geometry'].UpdateChildTasks(SetupTypeChanged=True)\n",
    "workflow.TaskObject['Describe Geometry'].Execute()\n",
    "workflow.TaskObject['Update Boundaries'].Arguments.set_state({r'BoundaryLabelList': [r'inlet'],r'BoundaryLabelTypeList': [r'mass-flow-inlet'],r'OldBoundaryLabelList': [r'inlet'],r'OldBoundaryLabelTypeList': [r'velocity-inlet'],})\n",
    "workflow.TaskObject['Update Boundaries'].Execute()\n",
    "workflow.TaskObject['Update Regions'].Execute()\n",
    "workflow.TaskObject['Add Boundary Layers'].Arguments.set_state({r'LocalPrismPreferences': {r'Continuous': r'Stair Step',},r'NumberOfLayers': 6,})\n",
    "workflow.TaskObject['Add Boundary Layers'].AddChildAndUpdate()\n",
    "workflow.TaskObject['Generate the Volume Mesh'].Execute()"
   ]
  },
  {
   "cell_type": "markdown",
   "id": "73ee83df-4123-4d50-aaa3-f449ccb08091",
   "metadata": {},
   "source": [
    "# Mesh generation for basic "
   ]
  },
  {
   "cell_type": "code",
   "execution_count": 5,
   "id": "61fe15ee-b04c-4d93-b966-17060251fb07",
   "metadata": {},
   "outputs": [],
   "source": [
    "import ansys.fluent.core as pyfluent\n",
    "import os"
   ]
  },
  {
   "cell_type": "code",
   "execution_count": 6,
   "id": "3b771fd1-e0ca-48be-baa2-fe5065e65b6e",
   "metadata": {},
   "outputs": [],
   "source": [
    "meshing_session=pyfluent.launch_fluent(precision=\"double\", processor_count=16, mode=\"meshing\", show_gui=\"true\")\n",
    "workflow=meshing_session.workflow\n",
    "meshing=meshing_session.meshing\n",
    "#"
   ]
  },
  {
   "cell_type": "code",
   "execution_count": 18,
   "id": "e89c17aa-5766-40d6-a686-08cb7ff5d3d3",
   "metadata": {},
   "outputs": [],
   "source": [
    "dirLoc=r'C:\\Users\\geron-ma\\OneDrive - TUV SUD\\Projects-Files\\A4IR9-Solartron\\WP3-local\\01_Mesh'\n",
    "cadFile='New-mixer-No-tapping.scdoc'\n",
    "case=os.path.join(dirLoc,cadFile)"
   ]
  },
  {
   "cell_type": "code",
   "execution_count": 9,
   "id": "74cdf545-279e-49aa-b295-7d498f13ab43",
   "metadata": {},
   "outputs": [],
   "source": [
    "workflow.InitializeWorkflow(WorkflowType=r'Watertight Geometry')\n",
    "meshing.GlobalSettings.LengthUnit.set_state(r'mm')\n",
    "meshing.GlobalSettings.AreaUnit.set_state(r'mm^2')\n",
    "meshing.GlobalSettings.VolumeUnit.set_state(r'mm^3')"
   ]
  },
  {
   "cell_type": "code",
   "execution_count": 19,
   "id": "846d35a6-fd39-4544-a458-1386e15794ba",
   "metadata": {},
   "outputs": [
    {
     "name": "stdout",
     "output_type": "stream",
     "text": [
      "New-mixer-No-tapping-boi\n"
     ]
    }
   ],
   "source": [
    "sep='.'\n",
    "cadName=cadFile.rpartition(sep)[0]\n",
    "boiName=cadName+r'-boi'\n",
    "print(boiName)"
   ]
  },
  {
   "cell_type": "code",
   "execution_count": 10,
   "id": "3ec7d441-093f-4bb8-a51a-f8f4d311b0f7",
   "metadata": {},
   "outputs": [],
   "source": [
    "workflow.TaskObject['Import Geometry'].Arguments.set_state({r'FileName': case,})\n",
    "workflow.TaskObject['Import Geometry'].Execute()"
   ]
  },
  {
   "cell_type": "code",
   "execution_count": 21,
   "id": "a05557ea-3b54-4d79-8f87-5764fca01fba",
   "metadata": {},
   "outputs": [
    {
     "ename": "RuntimeError",
     "evalue": "Unknown exception",
     "output_type": "error",
     "traceback": [
      "\u001b[1;31m---------------------------------------------------------------------------\u001b[0m",
      "\u001b[1;31mRuntimeError\u001b[0m                              Traceback (most recent call last)",
      "Cell \u001b[1;32mIn[21], line 3\u001b[0m\n\u001b[0;32m      1\u001b[0m workflow\u001b[38;5;241m.\u001b[39mTaskObject[\u001b[38;5;124m'\u001b[39m\u001b[38;5;124mAdd Local Sizing\u001b[39m\u001b[38;5;124m'\u001b[39m]\u001b[38;5;241m.\u001b[39mArguments\u001b[38;5;241m.\u001b[39mset_state({\u001b[38;5;124mr\u001b[39m\u001b[38;5;124m'\u001b[39m\u001b[38;5;124mAddChild\u001b[39m\u001b[38;5;124m'\u001b[39m: \u001b[38;5;124mr\u001b[39m\u001b[38;5;124m'\u001b[39m\u001b[38;5;124myes\u001b[39m\u001b[38;5;124m'\u001b[39m,\u001b[38;5;124mr\u001b[39m\u001b[38;5;124m'\u001b[39m\u001b[38;5;124mBOIExecution\u001b[39m\u001b[38;5;124m'\u001b[39m: \u001b[38;5;124mr\u001b[39m\u001b[38;5;124m'\u001b[39m\u001b[38;5;124mBody Of Influence\u001b[39m\u001b[38;5;124m'\u001b[39m,\u001b[38;5;124mr\u001b[39m\u001b[38;5;124m'\u001b[39m\u001b[38;5;124mBOIFaceLabelList\u001b[39m\u001b[38;5;124m'\u001b[39m: \\\n\u001b[0;32m      2\u001b[0m                                                              [boiName],\u001b[38;5;124mr\u001b[39m\u001b[38;5;124m'\u001b[39m\u001b[38;5;124mBOISize\u001b[39m\u001b[38;5;124m'\u001b[39m: \u001b[38;5;241m2\u001b[39m,})\n\u001b[1;32m----> 3\u001b[0m \u001b[43mworkflow\u001b[49m\u001b[38;5;241;43m.\u001b[39;49m\u001b[43mTaskObject\u001b[49m\u001b[43m[\u001b[49m\u001b[38;5;124;43m'\u001b[39;49m\u001b[38;5;124;43mAdd Local Sizing\u001b[39;49m\u001b[38;5;124;43m'\u001b[39;49m\u001b[43m]\u001b[49m\u001b[38;5;241;43m.\u001b[39;49m\u001b[43mAddChildAndUpdate\u001b[49m\u001b[43m(\u001b[49m\u001b[43m)\u001b[49m\n",
      "File \u001b[1;32m~\\Python-local\\lib\\site-packages\\ansys\\fluent\\core\\services\\datamodel_se.py:1048\u001b[0m, in \u001b[0;36mPyCommand.__call__\u001b[1;34m(self, *args, **kwds)\u001b[0m\n\u001b[0;32m   1046\u001b[0m request\u001b[38;5;241m.\u001b[39mwait \u001b[38;5;241m=\u001b[39m \u001b[38;5;28;01mTrue\u001b[39;00m\n\u001b[0;32m   1047\u001b[0m _convert_value_to_variant(kwds, request\u001b[38;5;241m.\u001b[39margs)\n\u001b[1;32m-> 1048\u001b[0m response \u001b[38;5;241m=\u001b[39m \u001b[38;5;28;43mself\u001b[39;49m\u001b[38;5;241;43m.\u001b[39;49m\u001b[43mservice\u001b[49m\u001b[38;5;241;43m.\u001b[39;49m\u001b[43mexecute_command\u001b[49m\u001b[43m(\u001b[49m\u001b[43mrequest\u001b[49m\u001b[43m)\u001b[49m\n\u001b[0;32m   1049\u001b[0m \u001b[38;5;28;01mreturn\u001b[39;00m _convert_variant_to_value(response\u001b[38;5;241m.\u001b[39mresult)\n",
      "File \u001b[1;32m~\\Python-local\\lib\\site-packages\\ansys\\fluent\\core\\services\\error_handler.py:15\u001b[0m, in \u001b[0;36mcatch_grpc_error.<locals>.func\u001b[1;34m(*args, **kwargs)\u001b[0m\n\u001b[0;32m     13\u001b[0m     \u001b[38;5;28;01mreturn\u001b[39;00m f(\u001b[38;5;241m*\u001b[39margs, \u001b[38;5;241m*\u001b[39m\u001b[38;5;241m*\u001b[39mkwargs)\n\u001b[0;32m     14\u001b[0m \u001b[38;5;28;01mexcept\u001b[39;00m grpc\u001b[38;5;241m.\u001b[39mRpcError \u001b[38;5;28;01mas\u001b[39;00m ex:\n\u001b[1;32m---> 15\u001b[0m     \u001b[38;5;28;01mraise\u001b[39;00m \u001b[38;5;167;01mRuntimeError\u001b[39;00m(ex\u001b[38;5;241m.\u001b[39mdetails()) \u001b[38;5;28;01mfrom\u001b[39;00m \u001b[38;5;28;01mNone\u001b[39;00m\n",
      "\u001b[1;31mRuntimeError\u001b[0m: Unknown exception"
     ]
    }
   ],
   "source": [
    "workflow.TaskObject['Add Local Sizing'].Arguments.set_state({r'AddChild': r'yes',r'BOIExecution': r'Body Of Influence',r'BOIFaceLabelList': \\\n",
    "                                                             [boiName],r'BOISize': 2,})\n",
    "workflow.TaskObject['Add Local Sizing'].AddChildAndUpdate()"
   ]
  },
  {
   "cell_type": "code",
   "execution_count": 22,
   "id": "4c13406c-d690-45b4-a91e-69dfe0ad1691",
   "metadata": {},
   "outputs": [
    {
     "data": {
      "text/plain": [
       "True"
      ]
     },
     "execution_count": 22,
     "metadata": {},
     "output_type": "execute_result"
    }
   ],
   "source": [
    "workflow.TaskObject['Generate the Surface Mesh'].Arguments.set_state({r'CFDSurfaceMeshControls': {r'MaxSize': 8,r'MinSize': 1,},})\n",
    "workflow.TaskObject['Generate the Surface Mesh'].Execute()"
   ]
  },
  {
   "cell_type": "code",
   "execution_count": 23,
   "id": "5a35abfd-d915-408e-b6fa-397cc55e0e31",
   "metadata": {},
   "outputs": [
    {
     "data": {
      "text/plain": [
       "True"
      ]
     },
     "execution_count": 23,
     "metadata": {},
     "output_type": "execute_result"
    }
   ],
   "source": [
    "workflow.TaskObject['Describe Geometry'].UpdateChildTasks(SetupTypeChanged=False)\n",
    "workflow.TaskObject['Describe Geometry'].Arguments.set_state({r'SetupType': r'The geometry consists of only fluid regions with no voids',})\n",
    "workflow.TaskObject['Describe Geometry'].UpdateChildTasks(SetupTypeChanged=True)\n",
    "workflow.TaskObject['Describe Geometry'].Execute()"
   ]
  },
  {
   "cell_type": "code",
   "execution_count": 24,
   "id": "a46798d4-840c-4165-91ea-d9e24cef7453",
   "metadata": {},
   "outputs": [
    {
     "data": {
      "text/plain": [
       "True"
      ]
     },
     "execution_count": 24,
     "metadata": {},
     "output_type": "execute_result"
    }
   ],
   "source": [
    "workflow.TaskObject['Update Boundaries'].Arguments.set_state({r'BoundaryLabelList': [r'inlet'],r'BoundaryLabelTypeList': [r'mass-flow-inlet'],\\\n",
    "                                                              r'OldBoundaryLabelList': [r'inlet'],r'OldBoundaryLabelTypeList': [r'velocity-inlet'],})\n",
    "workflow.TaskObject['Update Boundaries'].Execute()\n",
    "workflow.TaskObject['Update Regions'].Execute()"
   ]
  },
  {
   "cell_type": "code",
   "execution_count": 25,
   "id": "7170c63d-a9c0-487d-80a4-cbff90458e2c",
   "metadata": {},
   "outputs": [
    {
     "data": {
      "text/plain": [
       "True"
      ]
     },
     "execution_count": 25,
     "metadata": {},
     "output_type": "execute_result"
    }
   ],
   "source": [
    "workflow.TaskObject['Add Boundary Layers'].Arguments.set_state({r'LocalPrismPreferences': {r'Continuous': r'Stair Step',},r'NumberOfLayers': 6,})\n",
    "workflow.TaskObject['Add Boundary Layers'].AddChildAndUpdate()"
   ]
  },
  {
   "cell_type": "code",
   "execution_count": 26,
   "id": "248c46f6-7e5b-4210-8bec-a7957c6f5452",
   "metadata": {},
   "outputs": [
    {
     "data": {
      "text/plain": [
       "True"
      ]
     },
     "execution_count": 26,
     "metadata": {},
     "output_type": "execute_result"
    }
   ],
   "source": [
    "workflow.TaskObject['Generate the Volume Mesh'].Execute()"
   ]
  },
  {
   "cell_type": "code",
   "execution_count": null,
   "id": "8265df50-269e-4245-a5a6-cbd4239ffeae",
   "metadata": {},
   "outputs": [],
   "source": [
    "workflow.taskObject['Add Local Sizing'].Ar"
   ]
  }
 ],
 "metadata": {
  "kernelspec": {
   "display_name": "Python 3 (ipykernel)",
   "language": "python",
   "name": "python3"
  },
  "language_info": {
   "codemirror_mode": {
    "name": "ipython",
    "version": 3
   },
   "file_extension": ".py",
   "mimetype": "text/x-python",
   "name": "python",
   "nbconvert_exporter": "python",
   "pygments_lexer": "ipython3",
   "version": "3.10.13"
  }
 },
 "nbformat": 4,
 "nbformat_minor": 5
}
