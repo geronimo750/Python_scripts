{
 "cells": [
  {
   "cell_type": "markdown",
   "id": "947cf180",
   "metadata": {},
   "source": [
    "### Importing packages"
   ]
  },
  {
   "cell_type": "code",
   "execution_count": 1,
   "id": "703ff879",
   "metadata": {},
   "outputs": [],
   "source": [
    "import ansys.fluent.core as pyfluent\n",
    "meshing_session = pyfluent.launch_fluent(precision=\"double\", processor_count=2, mode=\"meshing\", show_gui=True)\n",
    "workflow = meshing_session.workflow\n",
    "meshing = meshing_session.meshing"
   ]
  },
  {
   "cell_type": "markdown",
   "id": "15b21820",
   "metadata": {},
   "source": [
    "### Initializing workflow for meshing"
   ]
  },
  {
   "cell_type": "code",
   "execution_count": 2,
   "id": "8f50bd5f",
   "metadata": {},
   "outputs": [],
   "source": [
    "workflow.InitializeWorkflow(WorkflowType=r'Watertight Geometry')\n",
    "meshing.GlobalSettings.LengthUnit.set_state(r'mm')\n",
    "meshing.GlobalSettings.AreaUnit.set_state(r'mm^2')\n",
    "meshing.GlobalSettings.VolumeUnit.set_state(r'mm^3')"
   ]
  },
  {
   "cell_type": "markdown",
   "id": "08f3dd8a",
   "metadata": {},
   "source": [
    "### Import geometry\n",
    "\n",
    "Replace file_location with the actual address of the Static Mixer geometry file.\n",
    "###### Eg: workflow.TaskObject['Import Geometry'].Arguments.set_state({r'FileName': r'D:/PyFluent/Static Mixer geometry.dsco',})\n"
   ]
  },
  {
   "cell_type": "code",
   "execution_count": 3,
   "id": "77d6ce2a",
   "metadata": {},
   "outputs": [
    {
     "name": "stdout",
     "output_type": "stream",
     "text": [
      "\n",
      "Error: File \"C:/Users/geron-ma/Downloads/PyF_L3_WF/Workshop_files/PyFluent Scripts/file_location\" not found.\n",
      "Error Object: #f\n",
      "\n",
      "Error: Error occurred during import.\n",
      "Error Object: #f\n",
      "\n",
      "Error: Importing the selected file(s) could not be completed. Check to make sure that the selected file format is supported. In addition, check to make sure the CAD Readers are properly configured for the format using the CAD Configuration Manager utility.\n",
      "Error Object: #f\n"
     ]
    }
   ],
   "source": [
    "workflow.TaskObject['Import Geometry'].Arguments.set_state({r'FileName': r'file_location',})\n",
    "workflow.TaskObject['Import Geometry'].Execute()"
   ]
  },
  {
   "cell_type": "markdown",
   "id": "a90267fd",
   "metadata": {},
   "source": [
    "### Add local sizing"
   ]
  },
  {
   "cell_type": "code",
   "execution_count": 4,
   "id": "a5253943",
   "metadata": {},
   "outputs": [
    {
     "name": "stdout",
     "output_type": "stream",
     "text": [
      "\"Add Local Sizing task cannot be completed until the following tasks have been updated: \n",
      " \n",
      "Import Geometry\n",
      "\"\n"
     ]
    },
    {
     "data": {
      "text/plain": [
       "False"
      ]
     },
     "execution_count": 4,
     "metadata": {},
     "output_type": "execute_result"
    }
   ],
   "source": [
    "workflow.TaskObject['Add Local Sizing'].AddChildAndUpdate()"
   ]
  },
  {
   "cell_type": "markdown",
   "id": "a0618183",
   "metadata": {},
   "source": [
    "### Generate the Surface Mesh"
   ]
  },
  {
   "cell_type": "code",
   "execution_count": 5,
   "id": "2775042d",
   "metadata": {},
   "outputs": [
    {
     "name": "stdout",
     "output_type": "stream",
     "text": [
      "\"Generate the Surface Mesh task cannot be completed until the following tasks have been updated: \n",
      " \n",
      "Import Geometry\n",
      "\"\n"
     ]
    },
    {
     "data": {
      "text/plain": [
       "False"
      ]
     },
     "execution_count": 5,
     "metadata": {},
     "output_type": "execute_result"
    }
   ],
   "source": [
    "workflow.TaskObject['Generate the Surface Mesh'].Execute()"
   ]
  },
  {
   "cell_type": "markdown",
   "id": "4a0c53ec",
   "metadata": {},
   "source": [
    "### Describe geometry"
   ]
  },
  {
   "cell_type": "code",
   "execution_count": 6,
   "id": "ac0f40cf",
   "metadata": {},
   "outputs": [
    {
     "name": "stdout",
     "output_type": "stream",
     "text": [
      "\"Describe Geometry task cannot be completed until the following tasks have been updated: \n",
      " \n",
      "Import Geometry\n",
      "\"\n"
     ]
    },
    {
     "data": {
      "text/plain": [
       "False"
      ]
     },
     "execution_count": 6,
     "metadata": {},
     "output_type": "execute_result"
    }
   ],
   "source": [
    "workflow.TaskObject['Describe Geometry'].UpdateChildTasks(SetupTypeChanged=False)\n",
    "workflow.TaskObject['Describe Geometry'].Arguments.set_state({r'SetupType': r'The geometry consists of only fluid regions with no voids',})\n",
    "workflow.TaskObject['Describe Geometry'].UpdateChildTasks(SetupTypeChanged=True)\n",
    "workflow.TaskObject['Describe Geometry'].Execute()"
   ]
  },
  {
   "cell_type": "markdown",
   "id": "93ec33fc",
   "metadata": {},
   "source": [
    "### Updating boundaries"
   ]
  },
  {
   "cell_type": "code",
   "execution_count": 7,
   "id": "ad6d7275",
   "metadata": {},
   "outputs": [
    {
     "name": "stdout",
     "output_type": "stream",
     "text": [
      "\"Update Boundaries task cannot be completed until the following tasks have been updated: \n",
      " \n",
      "Import Geometry\n",
      "\"\n"
     ]
    },
    {
     "data": {
      "text/plain": [
       "False"
      ]
     },
     "execution_count": 7,
     "metadata": {},
     "output_type": "execute_result"
    }
   ],
   "source": [
    "workflow.TaskObject['Update Boundaries'].Execute()"
   ]
  },
  {
   "cell_type": "markdown",
   "id": "b03d6c23",
   "metadata": {},
   "source": [
    "### Updating regions"
   ]
  },
  {
   "cell_type": "code",
   "execution_count": 8,
   "id": "02b9b0c1",
   "metadata": {},
   "outputs": [
    {
     "name": "stdout",
     "output_type": "stream",
     "text": [
      "\"Update Regions task cannot be completed until the following tasks have been updated: \n",
      " \n",
      "Import Geometry\n",
      "\"\n"
     ]
    },
    {
     "data": {
      "text/plain": [
       "False"
      ]
     },
     "execution_count": 8,
     "metadata": {},
     "output_type": "execute_result"
    }
   ],
   "source": [
    "workflow.TaskObject['Update Regions'].Execute()"
   ]
  },
  {
   "cell_type": "markdown",
   "id": "efc5fa6d",
   "metadata": {},
   "source": [
    "### Add boundary layers"
   ]
  },
  {
   "cell_type": "code",
   "execution_count": 9,
   "id": "9e5ace1f",
   "metadata": {},
   "outputs": [
    {
     "data": {
      "text/plain": [
       "True"
      ]
     },
     "execution_count": 9,
     "metadata": {},
     "output_type": "execute_result"
    }
   ],
   "source": [
    "workflow.TaskObject['Add Boundary Layers'].Arguments.set_state({r'LocalPrismPreferences': {r'Continuous': r'Stair Step',},})\n",
    "workflow.TaskObject['Add Boundary Layers'].AddChildAndUpdate()"
   ]
  },
  {
   "cell_type": "markdown",
   "id": "9af01942",
   "metadata": {},
   "source": [
    "### Generate the volume Mesh"
   ]
  },
  {
   "cell_type": "code",
   "execution_count": 10,
   "id": "33041579",
   "metadata": {},
   "outputs": [
    {
     "name": "stdout",
     "output_type": "stream",
     "text": [
      "\"Generate the Volume Mesh task cannot be completed until the following tasks have been updated: \n",
      " \n"
     ]
    },
    {
     "data": {
      "text/plain": [
       "False"
      ]
     },
     "execution_count": 10,
     "metadata": {},
     "output_type": "execute_result"
    },
    {
     "name": "stdout",
     "output_type": "stream",
     "text": [
      "Import Geometry\n",
      "\"\n"
     ]
    }
   ],
   "source": [
    "workflow.TaskObject['Generate the Volume Mesh'].Execute()"
   ]
  },
  {
   "cell_type": "markdown",
   "id": "3e968ebf",
   "metadata": {},
   "source": [
    "### Switch to solution"
   ]
  },
  {
   "cell_type": "code",
   "execution_count": 11,
   "id": "07ae87fe",
   "metadata": {},
   "outputs": [
    {
     "name": "stdout",
     "output_type": "stream",
     "text": [
      "\n",
      "*********************************************\n",
      "Info: Your license enables 4-way parallel execution.\n",
      "For faster simulations, please start the application with the appropriate parallel options.\n",
      "*********************************************\n",
      "\n",
      "\n",
      "*********************************************\n",
      "Info: Your license enables 4-way parallel execution.\n",
      "For faster simulations, please start the application with the appropriate parallel options.\n",
      "*********************************************\n",
      "\n",
      "\n",
      "*********************************************\n",
      "Info: Your license enables 4-way parallel execution.\n",
      "For faster simulations, please start the application with the appropriate parallel options.\n",
      "*********************************************\n",
      "\n",
      "\n",
      "*********************************************\n",
      "Info: Your license enables 4-way parallel execution.\n",
      "For faster simulations, please start the application with the appropriate parallel options.\n",
      "*********************************************\n",
      "\n"
     ]
    }
   ],
   "source": [
    "solver = meshing_session.switch_to_solver()"
   ]
  },
  {
   "cell_type": "markdown",
   "id": "ae387ffb",
   "metadata": {},
   "source": [
    "### Enabling energy"
   ]
  },
  {
   "cell_type": "code",
   "execution_count": 12,
   "id": "75baf02a",
   "metadata": {},
   "outputs": [
    {
     "name": "stdout",
     "output_type": "stream",
     "text": [
      "No volume mesh in TGrid to transfer\n",
      "\n"
     ]
    }
   ],
   "source": [
    "solver.setup.models.energy = {\"enabled\" : True}"
   ]
  },
  {
   "cell_type": "markdown",
   "id": "e7b2353e",
   "metadata": {},
   "source": [
    "### Copying Water_liquid to materials panel"
   ]
  },
  {
   "cell_type": "code",
   "execution_count": 13,
   "id": "a167e5e0",
   "metadata": {},
   "outputs": [
    {
     "ename": "_InactiveRpcError",
     "evalue": "<_InactiveRpcError of RPC that terminated with:\n\tstatus = StatusCode.UNIMPLEMENTED\n\tdetails = \"\"\n\tdebug_error_string = \"UNKNOWN:Error received from peer  {created_time:\"2023-06-22T12:44:48.547134566+00:00\", grpc_status:12, grpc_message:\"\"}\"\n>",
     "output_type": "error",
     "traceback": [
      "\u001b[1;31m---------------------------------------------------------------------------\u001b[0m",
      "\u001b[1;31m_InactiveRpcError\u001b[0m                         Traceback (most recent call last)",
      "Cell \u001b[1;32mIn[13], line 1\u001b[0m\n\u001b[1;32m----> 1\u001b[0m \u001b[43msolver\u001b[49m\u001b[38;5;241;43m.\u001b[39;49m\u001b[43mexecute_tui\u001b[49m\u001b[43m(\u001b[49m\u001b[38;5;124;43mr\u001b[39;49m\u001b[38;5;124;43m'''\u001b[39;49m\u001b[38;5;124;43m/define/materials/copy fluid water-liquid \u001b[39;49m\u001b[38;5;124;43m'''\u001b[39;49m\u001b[43m)\u001b[49m\n",
      "File \u001b[1;32m~\\Python-local\\lib\\site-packages\\ansys\\fluent\\core\\session.py:133\u001b[0m, in \u001b[0;36mBaseSession.execute_tui\u001b[1;34m(self, command)\u001b[0m\n\u001b[0;32m    131\u001b[0m \u001b[38;5;28;01mdef\u001b[39;00m \u001b[38;5;21mexecute_tui\u001b[39m(\u001b[38;5;28mself\u001b[39m, command: \u001b[38;5;28mstr\u001b[39m) \u001b[38;5;241m-\u001b[39m\u001b[38;5;241m>\u001b[39m \u001b[38;5;28;01mNone\u001b[39;00m:\n\u001b[0;32m    132\u001b[0m     \u001b[38;5;124;03m\"\"\"Executes a tui command.\"\"\"\u001b[39;00m\n\u001b[1;32m--> 133\u001b[0m     \u001b[38;5;28;43mself\u001b[39;49m\u001b[38;5;241;43m.\u001b[39;49m\u001b[43mfluent_connection\u001b[49m\u001b[38;5;241;43m.\u001b[39;49m\u001b[43mscheme_eval\u001b[49m\u001b[38;5;241;43m.\u001b[39;49m\u001b[43mscheme_eval\u001b[49m\u001b[43m(\u001b[49m\n\u001b[0;32m    134\u001b[0m \u001b[43m        \u001b[49m\u001b[38;5;124;43mf\u001b[39;49m\u001b[38;5;124;43m'\u001b[39;49m\u001b[38;5;124;43m(tui-menu-execute \u001b[39;49m\u001b[38;5;132;43;01m{\u001b[39;49;00m\u001b[43mjson\u001b[49m\u001b[38;5;241;43m.\u001b[39;49m\u001b[43mdumps\u001b[49m\u001b[43m(\u001b[49m\u001b[43mcommand\u001b[49m\u001b[43m)\u001b[49m\u001b[38;5;132;43;01m}\u001b[39;49;00m\u001b[38;5;124;43m \u001b[39;49m\u001b[38;5;124;43m\"\u001b[39;49m\u001b[38;5;124;43m\"\u001b[39;49m\u001b[38;5;124;43m)\u001b[39;49m\u001b[38;5;124;43m'\u001b[39;49m\n\u001b[0;32m    135\u001b[0m \u001b[43m    \u001b[49m\u001b[43m)\u001b[49m\n",
      "File \u001b[1;32m~\\Python-local\\lib\\site-packages\\ansys\\fluent\\core\\services\\scheme_eval.py:326\u001b[0m, in \u001b[0;36mSchemeEval.scheme_eval\u001b[1;34m(self, input)\u001b[0m\n\u001b[0;32m    320\u001b[0m S \u001b[38;5;241m=\u001b[39m Symbol  \u001b[38;5;66;03m# noqa N806\u001b[39;00m\n\u001b[0;32m    321\u001b[0m val \u001b[38;5;241m=\u001b[39m (\n\u001b[0;32m    322\u001b[0m     S(\u001b[38;5;124m\"\u001b[39m\u001b[38;5;124meval\u001b[39m\u001b[38;5;124m\"\u001b[39m),\n\u001b[0;32m    323\u001b[0m     (S(\u001b[38;5;124m\"\u001b[39m\u001b[38;5;124mwith-input-from-string\u001b[39m\u001b[38;5;124m\"\u001b[39m), \u001b[38;5;28minput\u001b[39m, S(\u001b[38;5;124m\"\u001b[39m\u001b[38;5;124mread\u001b[39m\u001b[38;5;124m\"\u001b[39m)),\n\u001b[0;32m    324\u001b[0m     S(\u001b[38;5;124m\"\u001b[39m\u001b[38;5;124muser-initial-environment\u001b[39m\u001b[38;5;124m\"\u001b[39m),\n\u001b[0;32m    325\u001b[0m )\n\u001b[1;32m--> 326\u001b[0m \u001b[38;5;28;01mreturn\u001b[39;00m \u001b[38;5;28;43mself\u001b[39;49m\u001b[38;5;241;43m.\u001b[39;49m\u001b[43meval\u001b[49m\u001b[43m(\u001b[49m\u001b[43mval\u001b[49m\u001b[43m)\u001b[49m\n",
      "File \u001b[1;32m~\\Python-local\\lib\\site-packages\\ansys\\fluent\\core\\services\\scheme_eval.py:259\u001b[0m, in \u001b[0;36mSchemeEval.eval\u001b[1;34m(self, val)\u001b[0m\n\u001b[0;32m    257\u001b[0m request \u001b[38;5;241m=\u001b[39m SchemeEvalProtoModule\u001b[38;5;241m.\u001b[39mSchemeEvalRequest()\n\u001b[0;32m    258\u001b[0m _convert_py_value_to_scheme_pointer(val, request\u001b[38;5;241m.\u001b[39minput, \u001b[38;5;28mself\u001b[39m\u001b[38;5;241m.\u001b[39mversion)\n\u001b[1;32m--> 259\u001b[0m response \u001b[38;5;241m=\u001b[39m \u001b[38;5;28;43mself\u001b[39;49m\u001b[38;5;241;43m.\u001b[39;49m\u001b[43mservice\u001b[49m\u001b[38;5;241;43m.\u001b[39;49m\u001b[43mscheme_eval\u001b[49m\u001b[43m(\u001b[49m\u001b[43mrequest\u001b[49m\u001b[43m)\u001b[49m\n\u001b[0;32m    260\u001b[0m \u001b[38;5;28;01mreturn\u001b[39;00m _convert_scheme_pointer_to_py_value(response\u001b[38;5;241m.\u001b[39moutput, \u001b[38;5;28mself\u001b[39m\u001b[38;5;241m.\u001b[39mversion)\n",
      "File \u001b[1;32m~\\Python-local\\lib\\site-packages\\ansys\\fluent\\core\\services\\scheme_eval.py:66\u001b[0m, in \u001b[0;36mSchemeEvalService.scheme_eval\u001b[1;34m(self, request)\u001b[0m\n\u001b[0;32m     62\u001b[0m \u001b[38;5;28;01mdef\u001b[39;00m \u001b[38;5;21mscheme_eval\u001b[39m(\n\u001b[0;32m     63\u001b[0m     \u001b[38;5;28mself\u001b[39m, request: SchemeEvalProtoModule\u001b[38;5;241m.\u001b[39mSchemeEvalRequest\n\u001b[0;32m     64\u001b[0m ) \u001b[38;5;241m-\u001b[39m\u001b[38;5;241m>\u001b[39m SchemeEvalProtoModule\u001b[38;5;241m.\u001b[39mSchemeEvalResponse:\n\u001b[0;32m     65\u001b[0m     \u001b[38;5;124;03m\"\"\"SchemeEval rpc of SchemeEval service.\"\"\"\u001b[39;00m\n\u001b[1;32m---> 66\u001b[0m     \u001b[38;5;28;01mreturn\u001b[39;00m \u001b[38;5;28;43mself\u001b[39;49m\u001b[38;5;241;43m.\u001b[39;49m\u001b[43m__stub\u001b[49m\u001b[38;5;241;43m.\u001b[39;49m\u001b[43mSchemeEval\u001b[49m\u001b[43m(\u001b[49m\u001b[43mrequest\u001b[49m\u001b[43m,\u001b[49m\u001b[43m \u001b[49m\u001b[43mmetadata\u001b[49m\u001b[38;5;241;43m=\u001b[39;49m\u001b[38;5;28;43mself\u001b[39;49m\u001b[38;5;241;43m.\u001b[39;49m\u001b[43m__metadata\u001b[49m\u001b[43m)\u001b[49m\n",
      "File \u001b[1;32m~\\Python-local\\lib\\site-packages\\grpc\\_interceptor.py:247\u001b[0m, in \u001b[0;36m_UnaryUnaryMultiCallable.__call__\u001b[1;34m(self, request, timeout, metadata, credentials, wait_for_ready, compression)\u001b[0m\n\u001b[0;32m    240\u001b[0m \u001b[38;5;28;01mdef\u001b[39;00m \u001b[38;5;21m__call__\u001b[39m(\u001b[38;5;28mself\u001b[39m,\n\u001b[0;32m    241\u001b[0m              request: Any,\n\u001b[0;32m    242\u001b[0m              timeout: Optional[\u001b[38;5;28mfloat\u001b[39m] \u001b[38;5;241m=\u001b[39m \u001b[38;5;28;01mNone\u001b[39;00m,\n\u001b[1;32m   (...)\u001b[0m\n\u001b[0;32m    245\u001b[0m              wait_for_ready: Optional[\u001b[38;5;28mbool\u001b[39m] \u001b[38;5;241m=\u001b[39m \u001b[38;5;28;01mNone\u001b[39;00m,\n\u001b[0;32m    246\u001b[0m              compression: Optional[grpc\u001b[38;5;241m.\u001b[39mCompression] \u001b[38;5;241m=\u001b[39m \u001b[38;5;28;01mNone\u001b[39;00m) \u001b[38;5;241m-\u001b[39m\u001b[38;5;241m>\u001b[39m Any:\n\u001b[1;32m--> 247\u001b[0m     response, ignored_call \u001b[38;5;241m=\u001b[39m \u001b[38;5;28;43mself\u001b[39;49m\u001b[38;5;241;43m.\u001b[39;49m\u001b[43m_with_call\u001b[49m\u001b[43m(\u001b[49m\u001b[43mrequest\u001b[49m\u001b[43m,\u001b[49m\n\u001b[0;32m    248\u001b[0m \u001b[43m                                             \u001b[49m\u001b[43mtimeout\u001b[49m\u001b[38;5;241;43m=\u001b[39;49m\u001b[43mtimeout\u001b[49m\u001b[43m,\u001b[49m\n\u001b[0;32m    249\u001b[0m \u001b[43m                                             \u001b[49m\u001b[43mmetadata\u001b[49m\u001b[38;5;241;43m=\u001b[39;49m\u001b[43mmetadata\u001b[49m\u001b[43m,\u001b[49m\n\u001b[0;32m    250\u001b[0m \u001b[43m                                             \u001b[49m\u001b[43mcredentials\u001b[49m\u001b[38;5;241;43m=\u001b[39;49m\u001b[43mcredentials\u001b[49m\u001b[43m,\u001b[49m\n\u001b[0;32m    251\u001b[0m \u001b[43m                                             \u001b[49m\u001b[43mwait_for_ready\u001b[49m\u001b[38;5;241;43m=\u001b[39;49m\u001b[43mwait_for_ready\u001b[49m\u001b[43m,\u001b[49m\n\u001b[0;32m    252\u001b[0m \u001b[43m                                             \u001b[49m\u001b[43mcompression\u001b[49m\u001b[38;5;241;43m=\u001b[39;49m\u001b[43mcompression\u001b[49m\u001b[43m)\u001b[49m\n\u001b[0;32m    253\u001b[0m     \u001b[38;5;28;01mreturn\u001b[39;00m response\n",
      "File \u001b[1;32m~\\Python-local\\lib\\site-packages\\grpc\\_interceptor.py:290\u001b[0m, in \u001b[0;36m_UnaryUnaryMultiCallable._with_call\u001b[1;34m(self, request, timeout, metadata, credentials, wait_for_ready, compression)\u001b[0m\n\u001b[0;32m    285\u001b[0m         \u001b[38;5;28;01mreturn\u001b[39;00m _FailureOutcome(exception, sys\u001b[38;5;241m.\u001b[39mexc_info()[\u001b[38;5;241m2\u001b[39m])\n\u001b[0;32m    287\u001b[0m call \u001b[38;5;241m=\u001b[39m \u001b[38;5;28mself\u001b[39m\u001b[38;5;241m.\u001b[39m_interceptor\u001b[38;5;241m.\u001b[39mintercept_unary_unary(continuation,\n\u001b[0;32m    288\u001b[0m                                                client_call_details,\n\u001b[0;32m    289\u001b[0m                                                request)\n\u001b[1;32m--> 290\u001b[0m \u001b[38;5;28;01mreturn\u001b[39;00m \u001b[43mcall\u001b[49m\u001b[38;5;241;43m.\u001b[39;49m\u001b[43mresult\u001b[49m\u001b[43m(\u001b[49m\u001b[43m)\u001b[49m, call\n",
      "File \u001b[1;32m~\\Python-local\\lib\\site-packages\\grpc\\_channel.py:379\u001b[0m, in \u001b[0;36m_InactiveRpcError.result\u001b[1;34m(self, timeout)\u001b[0m\n\u001b[0;32m    377\u001b[0m \u001b[38;5;28;01mdef\u001b[39;00m \u001b[38;5;21mresult\u001b[39m(\u001b[38;5;28mself\u001b[39m, timeout: Optional[\u001b[38;5;28mfloat\u001b[39m] \u001b[38;5;241m=\u001b[39m \u001b[38;5;28;01mNone\u001b[39;00m) \u001b[38;5;241m-\u001b[39m\u001b[38;5;241m>\u001b[39m Any:  \u001b[38;5;66;03m# pylint: disable=unused-argument\u001b[39;00m\n\u001b[0;32m    378\u001b[0m     \u001b[38;5;124;03m\"\"\"See grpc.Future.result.\"\"\"\u001b[39;00m\n\u001b[1;32m--> 379\u001b[0m     \u001b[38;5;28;01mraise\u001b[39;00m \u001b[38;5;28mself\u001b[39m\n",
      "File \u001b[1;32m~\\Python-local\\lib\\site-packages\\grpc\\_interceptor.py:274\u001b[0m, in \u001b[0;36m_UnaryUnaryMultiCallable._with_call.<locals>.continuation\u001b[1;34m(new_details, request)\u001b[0m\n\u001b[0;32m    269\u001b[0m (new_method, new_timeout, new_metadata, new_credentials,\n\u001b[0;32m    270\u001b[0m  new_wait_for_ready,\n\u001b[0;32m    271\u001b[0m  new_compression) \u001b[38;5;241m=\u001b[39m (_unwrap_client_call_details(\n\u001b[0;32m    272\u001b[0m      new_details, client_call_details))\n\u001b[0;32m    273\u001b[0m \u001b[38;5;28;01mtry\u001b[39;00m:\n\u001b[1;32m--> 274\u001b[0m     response, call \u001b[38;5;241m=\u001b[39m \u001b[38;5;28;43mself\u001b[39;49m\u001b[38;5;241;43m.\u001b[39;49m\u001b[43m_thunk\u001b[49m\u001b[43m(\u001b[49m\u001b[43mnew_method\u001b[49m\u001b[43m)\u001b[49m\u001b[38;5;241;43m.\u001b[39;49m\u001b[43mwith_call\u001b[49m\u001b[43m(\u001b[49m\n\u001b[0;32m    275\u001b[0m \u001b[43m        \u001b[49m\u001b[43mrequest\u001b[49m\u001b[43m,\u001b[49m\n\u001b[0;32m    276\u001b[0m \u001b[43m        \u001b[49m\u001b[43mtimeout\u001b[49m\u001b[38;5;241;43m=\u001b[39;49m\u001b[43mnew_timeout\u001b[49m\u001b[43m,\u001b[49m\n\u001b[0;32m    277\u001b[0m \u001b[43m        \u001b[49m\u001b[43mmetadata\u001b[49m\u001b[38;5;241;43m=\u001b[39;49m\u001b[43mnew_metadata\u001b[49m\u001b[43m,\u001b[49m\n\u001b[0;32m    278\u001b[0m \u001b[43m        \u001b[49m\u001b[43mcredentials\u001b[49m\u001b[38;5;241;43m=\u001b[39;49m\u001b[43mnew_credentials\u001b[49m\u001b[43m,\u001b[49m\n\u001b[0;32m    279\u001b[0m \u001b[43m        \u001b[49m\u001b[43mwait_for_ready\u001b[49m\u001b[38;5;241;43m=\u001b[39;49m\u001b[43mnew_wait_for_ready\u001b[49m\u001b[43m,\u001b[49m\n\u001b[0;32m    280\u001b[0m \u001b[43m        \u001b[49m\u001b[43mcompression\u001b[49m\u001b[38;5;241;43m=\u001b[39;49m\u001b[43mnew_compression\u001b[49m\u001b[43m)\u001b[49m\n\u001b[0;32m    281\u001b[0m     \u001b[38;5;28;01mreturn\u001b[39;00m _UnaryOutcome(response, call)\n\u001b[0;32m    282\u001b[0m \u001b[38;5;28;01mexcept\u001b[39;00m grpc\u001b[38;5;241m.\u001b[39mRpcError \u001b[38;5;28;01mas\u001b[39;00m rpc_error:\n",
      "File \u001b[1;32m~\\Python-local\\lib\\site-packages\\grpc\\_interceptor.py:301\u001b[0m, in \u001b[0;36m_UnaryUnaryMultiCallable.with_call\u001b[1;34m(self, request, timeout, metadata, credentials, wait_for_ready, compression)\u001b[0m\n\u001b[0;32m    292\u001b[0m \u001b[38;5;28;01mdef\u001b[39;00m \u001b[38;5;21mwith_call\u001b[39m(\n\u001b[0;32m    293\u001b[0m     \u001b[38;5;28mself\u001b[39m,\n\u001b[0;32m    294\u001b[0m     request: Any,\n\u001b[1;32m   (...)\u001b[0m\n\u001b[0;32m    299\u001b[0m     compression: Optional[grpc\u001b[38;5;241m.\u001b[39mCompression] \u001b[38;5;241m=\u001b[39m \u001b[38;5;28;01mNone\u001b[39;00m\n\u001b[0;32m    300\u001b[0m ) \u001b[38;5;241m-\u001b[39m\u001b[38;5;241m>\u001b[39m Tuple[Any, grpc\u001b[38;5;241m.\u001b[39mCall]:\n\u001b[1;32m--> 301\u001b[0m     \u001b[38;5;28;01mreturn\u001b[39;00m \u001b[38;5;28;43mself\u001b[39;49m\u001b[38;5;241;43m.\u001b[39;49m\u001b[43m_with_call\u001b[49m\u001b[43m(\u001b[49m\u001b[43mrequest\u001b[49m\u001b[43m,\u001b[49m\n\u001b[0;32m    302\u001b[0m \u001b[43m                           \u001b[49m\u001b[43mtimeout\u001b[49m\u001b[38;5;241;43m=\u001b[39;49m\u001b[43mtimeout\u001b[49m\u001b[43m,\u001b[49m\n\u001b[0;32m    303\u001b[0m \u001b[43m                           \u001b[49m\u001b[43mmetadata\u001b[49m\u001b[38;5;241;43m=\u001b[39;49m\u001b[43mmetadata\u001b[49m\u001b[43m,\u001b[49m\n\u001b[0;32m    304\u001b[0m \u001b[43m                           \u001b[49m\u001b[43mcredentials\u001b[49m\u001b[38;5;241;43m=\u001b[39;49m\u001b[43mcredentials\u001b[49m\u001b[43m,\u001b[49m\n\u001b[0;32m    305\u001b[0m \u001b[43m                           \u001b[49m\u001b[43mwait_for_ready\u001b[49m\u001b[38;5;241;43m=\u001b[39;49m\u001b[43mwait_for_ready\u001b[49m\u001b[43m,\u001b[49m\n\u001b[0;32m    306\u001b[0m \u001b[43m                           \u001b[49m\u001b[43mcompression\u001b[49m\u001b[38;5;241;43m=\u001b[39;49m\u001b[43mcompression\u001b[49m\u001b[43m)\u001b[49m\n",
      "File \u001b[1;32m~\\Python-local\\lib\\site-packages\\grpc\\_interceptor.py:290\u001b[0m, in \u001b[0;36m_UnaryUnaryMultiCallable._with_call\u001b[1;34m(self, request, timeout, metadata, credentials, wait_for_ready, compression)\u001b[0m\n\u001b[0;32m    285\u001b[0m         \u001b[38;5;28;01mreturn\u001b[39;00m _FailureOutcome(exception, sys\u001b[38;5;241m.\u001b[39mexc_info()[\u001b[38;5;241m2\u001b[39m])\n\u001b[0;32m    287\u001b[0m call \u001b[38;5;241m=\u001b[39m \u001b[38;5;28mself\u001b[39m\u001b[38;5;241m.\u001b[39m_interceptor\u001b[38;5;241m.\u001b[39mintercept_unary_unary(continuation,\n\u001b[0;32m    288\u001b[0m                                                client_call_details,\n\u001b[0;32m    289\u001b[0m                                                request)\n\u001b[1;32m--> 290\u001b[0m \u001b[38;5;28;01mreturn\u001b[39;00m \u001b[43mcall\u001b[49m\u001b[38;5;241;43m.\u001b[39;49m\u001b[43mresult\u001b[49m\u001b[43m(\u001b[49m\u001b[43m)\u001b[49m, call\n",
      "File \u001b[1;32m~\\Python-local\\lib\\site-packages\\grpc\\_channel.py:379\u001b[0m, in \u001b[0;36m_InactiveRpcError.result\u001b[1;34m(self, timeout)\u001b[0m\n\u001b[0;32m    377\u001b[0m \u001b[38;5;28;01mdef\u001b[39;00m \u001b[38;5;21mresult\u001b[39m(\u001b[38;5;28mself\u001b[39m, timeout: Optional[\u001b[38;5;28mfloat\u001b[39m] \u001b[38;5;241m=\u001b[39m \u001b[38;5;28;01mNone\u001b[39;00m) \u001b[38;5;241m-\u001b[39m\u001b[38;5;241m>\u001b[39m Any:  \u001b[38;5;66;03m# pylint: disable=unused-argument\u001b[39;00m\n\u001b[0;32m    378\u001b[0m     \u001b[38;5;124;03m\"\"\"See grpc.Future.result.\"\"\"\u001b[39;00m\n\u001b[1;32m--> 379\u001b[0m     \u001b[38;5;28;01mraise\u001b[39;00m \u001b[38;5;28mself\u001b[39m\n",
      "File \u001b[1;32m~\\Python-local\\lib\\site-packages\\grpc\\_interceptor.py:274\u001b[0m, in \u001b[0;36m_UnaryUnaryMultiCallable._with_call.<locals>.continuation\u001b[1;34m(new_details, request)\u001b[0m\n\u001b[0;32m    269\u001b[0m (new_method, new_timeout, new_metadata, new_credentials,\n\u001b[0;32m    270\u001b[0m  new_wait_for_ready,\n\u001b[0;32m    271\u001b[0m  new_compression) \u001b[38;5;241m=\u001b[39m (_unwrap_client_call_details(\n\u001b[0;32m    272\u001b[0m      new_details, client_call_details))\n\u001b[0;32m    273\u001b[0m \u001b[38;5;28;01mtry\u001b[39;00m:\n\u001b[1;32m--> 274\u001b[0m     response, call \u001b[38;5;241m=\u001b[39m \u001b[38;5;28;43mself\u001b[39;49m\u001b[38;5;241;43m.\u001b[39;49m\u001b[43m_thunk\u001b[49m\u001b[43m(\u001b[49m\u001b[43mnew_method\u001b[49m\u001b[43m)\u001b[49m\u001b[38;5;241;43m.\u001b[39;49m\u001b[43mwith_call\u001b[49m\u001b[43m(\u001b[49m\n\u001b[0;32m    275\u001b[0m \u001b[43m        \u001b[49m\u001b[43mrequest\u001b[49m\u001b[43m,\u001b[49m\n\u001b[0;32m    276\u001b[0m \u001b[43m        \u001b[49m\u001b[43mtimeout\u001b[49m\u001b[38;5;241;43m=\u001b[39;49m\u001b[43mnew_timeout\u001b[49m\u001b[43m,\u001b[49m\n\u001b[0;32m    277\u001b[0m \u001b[43m        \u001b[49m\u001b[43mmetadata\u001b[49m\u001b[38;5;241;43m=\u001b[39;49m\u001b[43mnew_metadata\u001b[49m\u001b[43m,\u001b[49m\n\u001b[0;32m    278\u001b[0m \u001b[43m        \u001b[49m\u001b[43mcredentials\u001b[49m\u001b[38;5;241;43m=\u001b[39;49m\u001b[43mnew_credentials\u001b[49m\u001b[43m,\u001b[49m\n\u001b[0;32m    279\u001b[0m \u001b[43m        \u001b[49m\u001b[43mwait_for_ready\u001b[49m\u001b[38;5;241;43m=\u001b[39;49m\u001b[43mnew_wait_for_ready\u001b[49m\u001b[43m,\u001b[49m\n\u001b[0;32m    280\u001b[0m \u001b[43m        \u001b[49m\u001b[43mcompression\u001b[49m\u001b[38;5;241;43m=\u001b[39;49m\u001b[43mnew_compression\u001b[49m\u001b[43m)\u001b[49m\n\u001b[0;32m    281\u001b[0m     \u001b[38;5;28;01mreturn\u001b[39;00m _UnaryOutcome(response, call)\n\u001b[0;32m    282\u001b[0m \u001b[38;5;28;01mexcept\u001b[39;00m grpc\u001b[38;5;241m.\u001b[39mRpcError \u001b[38;5;28;01mas\u001b[39;00m rpc_error:\n",
      "File \u001b[1;32m~\\Python-local\\lib\\site-packages\\grpc\\_channel.py:1043\u001b[0m, in \u001b[0;36m_UnaryUnaryMultiCallable.with_call\u001b[1;34m(self, request, timeout, metadata, credentials, wait_for_ready, compression)\u001b[0m\n\u001b[0;32m   1032\u001b[0m \u001b[38;5;28;01mdef\u001b[39;00m \u001b[38;5;21mwith_call\u001b[39m(\n\u001b[0;32m   1033\u001b[0m     \u001b[38;5;28mself\u001b[39m,\n\u001b[0;32m   1034\u001b[0m     request: Any,\n\u001b[1;32m   (...)\u001b[0m\n\u001b[0;32m   1039\u001b[0m     compression: Optional[grpc\u001b[38;5;241m.\u001b[39mCompression] \u001b[38;5;241m=\u001b[39m \u001b[38;5;28;01mNone\u001b[39;00m\n\u001b[0;32m   1040\u001b[0m ) \u001b[38;5;241m-\u001b[39m\u001b[38;5;241m>\u001b[39m Tuple[Any, grpc\u001b[38;5;241m.\u001b[39mCall]:\n\u001b[0;32m   1041\u001b[0m     state, call, \u001b[38;5;241m=\u001b[39m \u001b[38;5;28mself\u001b[39m\u001b[38;5;241m.\u001b[39m_blocking(request, timeout, metadata, credentials,\n\u001b[0;32m   1042\u001b[0m                                   wait_for_ready, compression)\n\u001b[1;32m-> 1043\u001b[0m     \u001b[38;5;28;01mreturn\u001b[39;00m \u001b[43m_end_unary_response_blocking\u001b[49m\u001b[43m(\u001b[49m\u001b[43mstate\u001b[49m\u001b[43m,\u001b[49m\u001b[43m \u001b[49m\u001b[43mcall\u001b[49m\u001b[43m,\u001b[49m\u001b[43m \u001b[49m\u001b[38;5;28;43;01mTrue\u001b[39;49;00m\u001b[43m,\u001b[49m\u001b[43m \u001b[49m\u001b[38;5;28;43;01mNone\u001b[39;49;00m\u001b[43m)\u001b[49m\n",
      "File \u001b[1;32m~\\Python-local\\lib\\site-packages\\grpc\\_channel.py:910\u001b[0m, in \u001b[0;36m_end_unary_response_blocking\u001b[1;34m(state, call, with_call, deadline)\u001b[0m\n\u001b[0;32m    908\u001b[0m         \u001b[38;5;28;01mreturn\u001b[39;00m state\u001b[38;5;241m.\u001b[39mresponse\n\u001b[0;32m    909\u001b[0m \u001b[38;5;28;01melse\u001b[39;00m:\n\u001b[1;32m--> 910\u001b[0m     \u001b[38;5;28;01mraise\u001b[39;00m _InactiveRpcError(state)\n",
      "\u001b[1;31m_InactiveRpcError\u001b[0m: <_InactiveRpcError of RPC that terminated with:\n\tstatus = StatusCode.UNIMPLEMENTED\n\tdetails = \"\"\n\tdebug_error_string = \"UNKNOWN:Error received from peer  {created_time:\"2023-06-22T12:44:48.547134566+00:00\", grpc_status:12, grpc_message:\"\"}\"\n>"
     ]
    }
   ],
   "source": [
    "solver.execute_tui(r'''/define/materials/copy fluid water-liquid ''')"
   ]
  },
  {
   "cell_type": "markdown",
   "id": "c64b4ef3",
   "metadata": {},
   "source": [
    "### Assigning water_liquid to fluid domain"
   ]
  },
  {
   "cell_type": "code",
   "execution_count": null,
   "id": "7b11c3ee",
   "metadata": {},
   "outputs": [],
   "source": [
    "solver.setup.cell_zone_conditions.fluid['fluid'] = {\"material\" : \"water-liquid\"}"
   ]
  },
  {
   "cell_type": "markdown",
   "id": "9f893c08",
   "metadata": {},
   "source": [
    "### Assigning boudary conditons"
   ]
  },
  {
   "cell_type": "code",
   "execution_count": null,
   "id": "c77950d0",
   "metadata": {},
   "outputs": [],
   "source": [
    "solver.setup.boundary_conditions.velocity_inlet['velocity-inlet-1'].vmag = 1.\n",
    "solver.setup.boundary_conditions.velocity_inlet['velocity-inlet-2'].vmag = 1."
   ]
  },
  {
   "cell_type": "markdown",
   "id": "a2d319e7",
   "metadata": {},
   "source": [
    "### Hybrid Initialization"
   ]
  },
  {
   "cell_type": "code",
   "execution_count": null,
   "id": "fcd27b09",
   "metadata": {},
   "outputs": [],
   "source": [
    "solver.solution.initialization.hybrid_initialize()"
   ]
  },
  {
   "cell_type": "markdown",
   "id": "06244637",
   "metadata": {},
   "source": [
    "### Setting 20 iterations"
   ]
  },
  {
   "cell_type": "code",
   "execution_count": null,
   "id": "61157309",
   "metadata": {},
   "outputs": [],
   "source": [
    "solver.solution.run_calculation.iterate(iter_count = 20)"
   ]
  },
  {
   "cell_type": "markdown",
   "id": "b8256bbf",
   "metadata": {},
   "source": [
    "### Exiting solver"
   ]
  },
  {
   "cell_type": "code",
   "execution_count": null,
   "id": "81e62170",
   "metadata": {},
   "outputs": [],
   "source": [
    "solver.exit()"
   ]
  }
 ],
 "metadata": {
  "kernelspec": {
   "display_name": "Python 3 (ipykernel)",
   "language": "python",
   "name": "python3"
  },
  "language_info": {
   "codemirror_mode": {
    "name": "ipython",
    "version": 3
   },
   "file_extension": ".py",
   "mimetype": "text/x-python",
   "name": "python",
   "nbconvert_exporter": "python",
   "pygments_lexer": "ipython3",
   "version": "3.10.9"
  }
 },
 "nbformat": 4,
 "nbformat_minor": 5
}
