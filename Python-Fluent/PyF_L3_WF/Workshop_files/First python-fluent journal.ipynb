{
 "cells": [
  {
   "cell_type": "code",
   "execution_count": 1,
   "id": "f816065b",
   "metadata": {},
   "outputs": [],
   "source": [
    "import ansys.fluent.core as pyfluent"
   ]
  },
  {
   "cell_type": "markdown",
   "id": "4b64650b",
   "metadata": {},
   "source": [
    "*Start fluent session withouth gui mode*"
   ]
  },
  {
   "cell_type": "code",
   "execution_count": 2,
   "id": "010364cd",
   "metadata": {},
   "outputs": [],
   "source": [
    "session = pyfluent.launch_fluent()"
   ]
  },
  {
   "cell_type": "markdown",
   "id": "708c2e2d",
   "metadata": {},
   "source": [
    "**Ends session**"
   ]
  },
  {
   "cell_type": "code",
   "execution_count": null,
   "id": "7aaef4f6",
   "metadata": {},
   "outputs": [],
   "source": [
    "session.exit()"
   ]
  },
  {
   "cell_type": "markdown",
   "id": "6cf17692",
   "metadata": {},
   "source": [
    "**Start fluent session with gui**"
   ]
  },
  {
   "cell_type": "code",
   "execution_count": 5,
   "id": "5fb135b7",
   "metadata": {},
   "outputs": [],
   "source": [
    "session = pyfluent.launch_fluent (show_gui=True)"
   ]
  },
  {
   "cell_type": "code",
   "execution_count": 6,
   "id": "5fdd5d15",
   "metadata": {},
   "outputs": [],
   "source": [
    "session.exit()"
   ]
  },
  {
   "cell_type": "code",
   "execution_count": 8,
   "id": "543c99ea",
   "metadata": {},
   "outputs": [],
   "source": [
    "session = pyfluent.launch_fluent (show_gui=True, mode='meshing', precision='double', processor_count=32)"
   ]
  },
  {
   "cell_type": "code",
   "execution_count": 9,
   "id": "7c809970",
   "metadata": {},
   "outputs": [],
   "source": [
    "session.exit()"
   ]
  },
  {
   "cell_type": "code",
   "execution_count": null,
   "id": "00638b03",
   "metadata": {},
   "outputs": [],
   "source": []
  }
 ],
 "metadata": {
  "kernelspec": {
   "display_name": "Python 3 (ipykernel)",
   "language": "python",
   "name": "python3"
  },
  "language_info": {
   "codemirror_mode": {
    "name": "ipython",
    "version": 3
   },
   "file_extension": ".py",
   "mimetype": "text/x-python",
   "name": "python",
   "nbconvert_exporter": "python",
   "pygments_lexer": "ipython3",
   "version": "3.10.9"
  }
 },
 "nbformat": 4,
 "nbformat_minor": 5
}
