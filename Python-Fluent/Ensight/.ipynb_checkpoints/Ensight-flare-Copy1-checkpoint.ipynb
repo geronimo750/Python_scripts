{
 "cells": [
  {
   "cell_type": "markdown",
   "id": "9f71894f-ea1d-4eaa-9b27-c82d7fee6d57",
   "metadata": {},
   "source": [
    "Purpose of this sript is to generate a python api script which allows to control session.ensight directly from the script\n",
    "The script needs to be modified for the different flares an evolution will be to define function to carry on similar steps"
   ]
  },
  {
   "cell_type": "markdown",
   "id": "2b929bd8-eb3c-4657-87a3-a9386a68eaaf",
   "metadata": {},
   "source": [
    "# Starting of session.ensight session #"
   ]
  },
  {
   "cell_type": "code",
   "execution_count": 1,
   "id": "c040243c-1364-4cbe-a6be-f40b9eec83b1",
   "metadata": {},
   "outputs": [],
   "source": [
    "import os"
   ]
  },
  {
   "cell_type": "code",
   "execution_count": 2,
   "id": "8c40af35-3f21-4d25-9411-edc80e971295",
   "metadata": {},
   "outputs": [],
   "source": [
    "from ansys.pysession.ensight.core import LocalLauncher"
   ]
  },
  {
   "cell_type": "markdown",
   "id": "42318a55-15e7-4d9c-9d81-5eafcaf82feb",
   "metadata": {},
   "source": [
    "Define were is the ansys installation. This also allow to change the desired version"
   ]
  },
  {
   "cell_type": "code",
   "execution_count": 3,
   "id": "e32b5aa4-faec-4f63-829f-fbc2de61f60c",
   "metadata": {},
   "outputs": [],
   "source": [
    "pwdAnsys=r\"\"\"C:\\Program Files\\ANSYS Inc\\v231\"\"\""
   ]
  },
  {
   "cell_type": "code",
   "execution_count": 4,
   "id": "eb35ff4c-3754-40a2-b3c7-450c67f28c52",
   "metadata": {},
   "outputs": [],
   "source": [
    "session = LocalLauncher(batch=False,ansys_installation=pwdAnsys).start()"
   ]
  },
  {
   "cell_type": "markdown",
   "id": "04e4f796-19b7-47a8-89ef-30563ffdd3ab",
   "metadata": {},
   "source": [
    "# File Loading #"
   ]
  },
  {
   "cell_type": "markdown",
   "id": "a765a189-78bc-4544-96b0-582506279771",
   "metadata": {},
   "source": [
    "**It is important to remember that with batch=False the session is interactive, therefore certain tasks could be carried out directly in Ensight (e.g. loading of the case file)**"
   ]
  },
  {
   "cell_type": "code",
   "execution_count": 5,
   "id": "ae75413b-9ca6-4af1-bdc0-0e506585241a",
   "metadata": {},
   "outputs": [],
   "source": [
    "caseLoc=r'C:\\Users\\geron-ma\\OneDrive - TUV SUD\\Projects-Files\\BPE079\\M&S\\FLNG\\05_PostProcessing\\03_Cold_Flare\\smallerGapFine\\3-old'"
   ]
  },
  {
   "cell_type": "code",
   "execution_count": 6,
   "id": "30df0416-4e0d-4837-acf3-86cbb2f2f9d1",
   "metadata": {},
   "outputs": [],
   "source": [
    "windVel=\"3ms\"\n",
    "caseName=r\"comb_\"+windVel+\"_simple.encas\"\n",
    "case=os.path.join(caseLoc,caseName)"
   ]
  },
  {
   "cell_type": "code",
   "execution_count": 7,
   "id": "2d82a154-0343-4867-922b-16ce1b75678d",
   "metadata": {},
   "outputs": [],
   "source": [
    "session.load_data(case)"
   ]
  },
  {
   "cell_type": "markdown",
   "id": "d3f1a86b-d0c1-4d30-beb5-069c55a321f0",
   "metadata": {},
   "source": [
    "# Post Processing #"
   ]
  },
  {
   "cell_type": "markdown",
   "id": "37ef36fe-c910-4c76-87d9-92211897e479",
   "metadata": {},
   "source": [
    "Prepare session.ensight view <br>\n",
    "*the difference between the python used in the session.ensight command and here is to put session in front of every command*"
   ]
  },
  {
   "cell_type": "code",
   "execution_count": 10,
   "id": "9bbeb88e-46b9-4e73-8789-5c39cf6a76f6",
   "metadata": {},
   "outputs": [
    {
     "data": {
      "text/plain": [
       "0"
      ]
     },
     "execution_count": 10,
     "metadata": {},
     "output_type": "execute_result"
    }
   ],
   "source": [
    "#watermark off\n",
    "session.ensight.view.watermark(\"OFF\")\n",
    "#hide components that are not the flare\n",
    "session.ensight.part.select_begin(1,7,8,9,10,11,12,13,14,15,16,17,18,19)\n",
    "session.ensight.part.visible(\"OFF\")\n",
    "session.ensight.part.select_begin(2,3,4,5,6)\n",
    "session.ensight.part.colorby_palette(\"none\")\n",
    "session.ensight.part.colorby_rgb(0.8,0.8,0.8)"
   ]
  },
  {
   "cell_type": "markdown",
   "id": "48c385f7-ca42-4aea-abbe-a91ed220b3c3",
   "metadata": {},
   "source": [
    "**In the below text the native cmd has been translated into python ... in the pyenshight there also is a different approach** <br>\n",
    "<a href=\"https://session.ensight.docs.pyansys.com/version/stable/class_documentation.html\"> **API reference** </a> <br>\n",
    "<a href=\"https://session.ensight.docs.pyansys.com/version/stable/_examples/00-basic/index.html\"> examples </a>"
   ]
  },
  {
   "cell_type": "markdown",
   "id": "5f2683c1-67d4-4e7d-a7a2-9ffe357433d5",
   "metadata": {},
   "source": [
    "## Slide extraction ##\n",
    "*from the API manual it looks like this can be done more efficiently with the new ensight python proxy ... but it does work fine! ;-)*"
   ]
  },
  {
   "cell_type": "code",
   "execution_count": 11,
   "id": "ef82ecf2-348d-44e6-8ce0-f512f4ea561e",
   "metadata": {},
   "outputs": [
    {
     "ename": "NameError",
     "evalue": "name 'ensight' is not defined",
     "output_type": "error",
     "traceback": [
      "\u001b[1;31m---------------------------------------------------------------------------\u001b[0m",
      "\u001b[1;31mNameError\u001b[0m                                 Traceback (most recent call last)",
      "Cell \u001b[1;32mIn[11], line 18\u001b[0m\n\u001b[0;32m     15\u001b[0m session\u001b[38;5;241m.\u001b[39mensight\u001b[38;5;241m.\u001b[39mpart\u001b[38;5;241m.\u001b[39mselect_begin(\u001b[38;5;241m20\u001b[39m)\n\u001b[0;32m     17\u001b[0m \u001b[38;5;66;03m# turn view perpendicular to x axis\u001b[39;00m\n\u001b[1;32m---> 18\u001b[0m \u001b[43mensight\u001b[49m\u001b[38;5;241m.\u001b[39mview_transf\u001b[38;5;241m.\u001b[39mview_from_triad_axis(\u001b[38;5;124m\"\u001b[39m\u001b[38;5;124m+x\u001b[39m\u001b[38;5;124m\"\u001b[39m)\n",
      "\u001b[1;31mNameError\u001b[0m: name 'ensight' is not defined"
     ]
    }
   ],
   "source": [
    "#Part starting extracting results\n",
    "session.ensight.part.select_begin(1)\n",
    "session.ensight.clip.begin()\n",
    "session.ensight.clip.mesh_plane(\"X\")\n",
    "session.ensight.clip.value(\"MID-RANGE\")\n",
    "#session.ensight.clip.tool(\"xyz\")\n",
    "#session.ensight.clip.slider_x(-50,50)\n",
    "#session.ensight.clip.slider_y(-50,200)\n",
    "#session.ensight.clip.slider_z(-50.9399986,199.059998)\n",
    "#session.ensight.clip.slider_step(5)\n",
    "session.ensight.part.description(\"Mid-x\")\n",
    "session.ensight.clip.end()\n",
    "session.ensight.clip.create()\n",
    "#select the clip\n",
    "session.ensight.part.select_begin(20)\n",
    "\n",
    "# turn view perpendicular to x axis\n",
    "session.ensight.view_transf.view_from_triad_axis(\"+x\")"
   ]
  },
  {
   "cell_type": "markdown",
   "id": "47e14ce0-204f-4d77-9398-82b7d33114bd",
   "metadata": {},
   "source": [
    "## Zooming ##\n",
    "So far zooming has been done using the *view_transf.look_at(p0,p1,p2)* and *view_transf.look_from(p0,p1,p2)* function. A very rough explanation of how they work is the first is a point on the slice the second a point where to look from. for a YZ plane (x-slice) the first two coordinates must be the same to keep the slice perpendicular, while the third one gives you a zooming effect (again the x-slice)"
   ]
  },
  {
   "cell_type": "code",
   "execution_count": 12,
   "id": "51e6bfb4-1814-4533-8da6-a9ab7f336f07",
   "metadata": {},
   "outputs": [
    {
     "data": {
      "text/plain": [
       "0"
      ]
     },
     "execution_count": 12,
     "metadata": {},
     "output_type": "execute_result"
    }
   ],
   "source": [
    "#view\n",
    "session.session.ensight.part.select_begin(20)\n",
    "session.session.ensight.part.visible(\"ON\")\n",
    "#this needs to be adjusted according to the domain and the zoom required\n",
    "#Cold  flare\n",
    "session.session.ensight.view_transf.look_at(0,65,75)\n",
    "session.session.ensight.view_transf.look_from(0,65,360)\n",
    "#Sandy warm flare\n",
    "#session.ensight.view_transf.look_at(128,38,174)\n",
    "#session.ensight.view_transf.look_from(128,38,348)\n",
    "#LP flare\n",
    "#session.ensight.view_transf.look_at(66,7,74)\n",
    "#session.ensight.view_transf.look_from(66,7,113)\n",
    "#\n",
    "#session.ensight.view_transf.center_of_transform(0,75,75)\n",
    "#session.ensight.view_transf.zclip_front(34.8149109)\n",
    "session.ensight.tools.select_tool(\"OFF\")\n",
    "session.ensight.annotation.axis_model(\"OFF\")"
   ]
  },
  {
   "cell_type": "markdown",
   "id": "2cf64e01-a2b4-4974-a5be-c5e0f11d2c90",
   "metadata": {},
   "source": [
    "## Annotations in the figure ##"
   ]
  },
  {
   "cell_type": "markdown",
   "id": "ea4572ce-9824-4ef3-b9c6-cb6828ecbe74",
   "metadata": {},
   "source": [
    "*  Writing part. It is possible to add words and positin them in the frame. The Frame foes from (0,0) - bottom left to (1,1) top right <br>\n",
    "*  Postion could be given as x-y-x location but then when zoomed in could disappear\n",
    "*  A valid approac could be to set the wind with viewport coordinates and arrow for the tip with x,y,z coordinate"
   ]
  },
  {
   "cell_type": "code",
   "execution_count": null,
   "id": "bc412743-6824-486b-999c-7fa4d3d96add",
   "metadata": {},
   "outputs": [],
   "source": [
    "# writing part\n",
    "session.ensight.text.rgb(1,1,1)\n",
    "session.ensight.text.new_text(\"Wind\")\n",
    "session.ensight.text.select_begin(0)\n",
    "session.ensight.text.visible(\"OFF\")\n",
    "session.ensight.text.size(50)\n",
    "#session.ensigh.text.location_x(0.9)\n",
    "#session.ensigh.text.location_y(0.9)"
   ]
  },
  {
   "cell_type": "code",
   "execution_count": 44,
   "id": "3e2adafc-a49d-4c12-ac8b-44cf7393249f",
   "metadata": {},
   "outputs": [
    {
     "data": {
      "text/plain": [
       "0"
      ]
     },
     "execution_count": 44,
     "metadata": {},
     "output_type": "execute_result"
    }
   ],
   "source": [
    "#\n",
    "session.ensight.line.select_default()\n",
    "session.ensight.line.label_text_id(0)\n",
    "session.ensight.line.new_line()\n",
    "session.ensight.line.select_begin(0)\n",
    "session.ensight.line.rgb(1,1,1)\n",
    "session.ensight.line.width(3)\n",
    "session.ensight.line.arrowhead(\"on_second_end\")\n",
    "session.ensight.line.location_x_1(0.95)\n",
    "session.ensight.line.location_y_1(0.9)\n",
    "session.ensight.line.location_x_2(0.8)\n",
    "session.ensight.line.location_y_2(0.9)"
   ]
  },
  {
   "cell_type": "code",
   "execution_count": 48,
   "id": "df0a9ae5-5e27-406f-8768-a9d36b6291b2",
   "metadata": {},
   "outputs": [
    {
     "data": {
      "text/plain": [
       "0"
      ]
     },
     "execution_count": 48,
     "metadata": {},
     "output_type": "execute_result"
    }
   ],
   "source": [
    "session.ensight.line.select_begin(0)\n",
    "session.ensight.line.origin_by_1(\"Screen_coords\")\n",
    "session.ensight.line.location_x_1(0.95)\n",
    "session.ensight.line.location_y_1(0.9)\n",
    "session.ensight.line.origin_by_2(\"Screen_coords\")\n",
    "session.ensight.line.location_x_2(0.8)\n",
    "session.ensight.line.location_y_2(0.9)"
   ]
  },
  {
   "cell_type": "code",
   "execution_count": null,
   "id": "05120d41-4be1-419c-9e99-fe6582cc37e5",
   "metadata": {},
   "outputs": [],
   "source": [
    "session.ensight.text.new_text(\"HP tip\")\n",
    "session.ensight.text.select_begin(1)\n",
    "session.ensight.text.size(40)\n",
    "session.ensight.text.visible(\"OFF\")"
   ]
  },
  {
   "cell_type": "code",
   "execution_count": 13,
   "id": "d44f62a5-0b5d-4f3a-bbe2-346a238332d0",
   "metadata": {},
   "outputs": [
    {
     "data": {
      "text/plain": [
       "0"
      ]
     },
     "execution_count": 13,
     "metadata": {},
     "output_type": "execute_result"
    }
   ],
   "source": [
    "session.ensight.line.select_default()\n",
    "session.ensight.line.label_text_id(1)\n",
    "session.ensight.line.new_line()\n",
    "session.ensight.line.select_begin(1)\n",
    "session.ensight.line.rgb(1,1,1)\n",
    "session.ensight.line.arrowhead(\"on_second_end\")\n",
    "session.ensight.line.width(3)"
   ]
  },
  {
   "cell_type": "code",
   "execution_count": 50,
   "id": "17b495c4-0a4f-4a13-bf1c-66c22d3887bf",
   "metadata": {},
   "outputs": [
    {
     "data": {
      "text/plain": [
       "0"
      ]
     },
     "execution_count": 50,
     "metadata": {},
     "output_type": "execute_result"
    }
   ],
   "source": [
    "session.ensight.line.select_begin(1)\n",
    "session.ensight.line.origin_by_1(\"3d_coords\")\n",
    "session.ensight.line.origin_1(0,0,-20)\n",
    "session.ensight.line.origin_by_2(\"3d_coords\")\n",
    "session.ensight.line.origin_2(0,0,-1)"
   ]
  },
  {
   "cell_type": "markdown",
   "id": "23285b09-4bf3-4a19-a73a-c5b89617f085",
   "metadata": {},
   "source": [
    "Temperature definition"
   ]
  },
  {
   "cell_type": "markdown",
   "id": "bb001a6f-e9f6-49fe-9465-713e89be3445",
   "metadata": {},
   "source": [
    "## Define function for plot contours ## \n",
    "\n",
    "*) part = part where apply the settings <br>\n",
    "*) variable ... for flares usually **temperature** or **o2** <br>\n",
    "*) leveles min and max <br>\n",
    "*) palette ... for flares **2hot** or **BD_spectral_11** <br>"
   ]
  },
  {
   "cell_type": "code",
   "execution_count": 24,
   "id": "7081124a-10f5-44b9-a2fe-b3d3274bae37",
   "metadata": {},
   "outputs": [],
   "source": [
    "def var_plot (part, variable, minlev,maxlev,palette):\n",
    "    session.ensight.legend.select_palette_begin(variable)\n",
    "    session.ensight.legend.visible(\"ON\")\n",
    "    session.ensight.part.select_begin(part)\n",
    "    session.ensight.variables.activate(variable)\n",
    "    session.ensight.part.modify_begin()\n",
    "    session.ensight.part.colorby_palette(variable)\n",
    "    session.ensight.part.modify_end()\n",
    "    session.ensight.legend.select_palette_begin(variable)\n",
    "    session.ensight.legend.visible(\"OFF\")\n",
    "# #define range and change palette\n",
    "    session.ensight.function.palette(variable)\n",
    "    session.ensight.function.range(minlev,maxlev)\n",
    "    session.ensight.function.modify_begin()\n",
    "    session.ensight.function.restore_predefinedpal(\"use_new_levels\",palette)\n",
    "    session.ensight.function.modify_end()"
   ]
  },
  {
   "cell_type": "markdown",
   "id": "8ac169ea-6313-4bc0-b97c-5e90639cb5a8",
   "metadata": {
    "jp-MarkdownHeadingCollapsed": true
   },
   "source": [
    "## Define function for saving image ##\n",
    "**The resolution 1435x1016 is the resolution of the screen at maximise <br>\n",
    "if different resolutions from the view resolution are chosen at the moment the writing moves with the resolution of the screen and not the geometry**"
   ]
  },
  {
   "cell_type": "code",
   "execution_count": 38,
   "id": "0dfc9198-2ea7-4559-b15e-841987bff557",
   "metadata": {
    "editable": true,
    "slideshow": {
     "slide_type": ""
    },
    "tags": []
   },
   "outputs": [],
   "source": [
    "def saving_img (location,wind,var):\n",
    "    image_name=\"fig-\"+var+\"-\"+wind\n",
    "    image_file=os.path.join(location,image_name)\n",
    "    session.ensight.file.image_rend_offscreen(\"ON\")\n",
    "    session.ensight.file.image_numpasses(4)\n",
    "    session.ensight.file.image_stereo(\"current\")\n",
    "    session.ensight.file.image_screen_tiling(1,1)\n",
    "    session.ensight.file.image_format_options(\"Compression Default\")\n",
    "    \n",
    "    session.ensight.file.image_file(image_file)\n",
    "    session.ensight.file.image_window_size(\"user_defined\")\n",
    "    session.ensight.file.image_window_xy(1435,1016)\n",
    "    session.ensight.file.image_raytrace_it(\"ON\")\n",
    "    session.ensight.file.save_image()\n"
   ]
  },
  {
   "cell_type": "markdown",
   "id": "8c529faa-e2f2-4399-a5fa-828dd74c1b79",
   "metadata": {},
   "source": [
    "# Define Plot required #"
   ]
  },
  {
   "cell_type": "code",
   "execution_count": 61,
   "id": "a9e0b8eb-9238-4f7f-96e2-63bd823a5016",
   "metadata": {},
   "outputs": [],
   "source": [
    "var_plot(part=20,variable=\"temperature\",minlev=300,maxlev=2200,palette=\"2hot\")"
   ]
  },
  {
   "cell_type": "code",
   "execution_count": 54,
   "id": "e3246e5b-4a6d-487d-8cae-3d779c94a11d",
   "metadata": {},
   "outputs": [],
   "source": [
    "saving_img(location=caseLoc,wind=\"100ms\",var=\"temp\")"
   ]
  },
  {
   "cell_type": "code",
   "execution_count": 62,
   "id": "0807bfd4-071f-4152-b813-b9d24a077dec",
   "metadata": {},
   "outputs": [
    {
     "data": {
      "text/html": [
       "\n",
       "        <iframe\n",
       "            width=\"800\"\n",
       "            height=\"600\"\n",
       "            src=\"http://127.0.0.1:16750/cfa0e701-9513-11ee-970e-001b21c10d52_5ab11fe395ae11eebc14001b21c10d52_0_image.html\"\n",
       "            frameborder=\"0\"\n",
       "            allowfullscreen\n",
       "            \n",
       "        ></iframe>\n",
       "        "
      ],
      "text/plain": [
       "<IPython.lib.display.IFrame at 0x24ad8340e20>"
      ]
     },
     "metadata": {},
     "output_type": "display_data"
    },
    {
     "data": {
      "text/plain": [
       "RenderableImage( url='http://127.0.0.1:16750/cfa0e701-9513-11ee-970e-001b21c10d52_5ab11fe395ae11eebc14001b21c10d52_0_image.html' )"
      ]
     },
     "execution_count": 62,
     "metadata": {},
     "output_type": "execute_result"
    }
   ],
   "source": [
    "session.show(\"image\", width=800, height=600)"
   ]
  },
  {
   "cell_type": "code",
   "execution_count": 66,
   "id": "69e87f46-cd2e-44ca-a064-2ee216a42fb7",
   "metadata": {},
   "outputs": [
    {
     "data": {
      "text/plain": [
       "0"
      ]
     },
     "execution_count": 66,
     "metadata": {},
     "output_type": "execute_result"
    }
   ],
   "source": [
    "session.ensight.part.select_begin(2,3,4,5,6)\n",
    "session.ensight.part.visible(\"OFF\")"
   ]
  },
  {
   "cell_type": "code",
   "execution_count": 67,
   "id": "2bd2c3f7-1137-4e2a-924f-5994395cb01c",
   "metadata": {},
   "outputs": [],
   "source": [
    "var_plot(part=20,variable=\"o2\",minlev=0,maxlev=0.23,palette=\"BD_Spectral_11\")"
   ]
  },
  {
   "cell_type": "code",
   "execution_count": 57,
   "id": "5de7152d-27d2-4ce9-86f8-3b5b586c2bd8",
   "metadata": {},
   "outputs": [],
   "source": [
    "saving_img(location=caseLoc,wind=\"100ms\",var=\"o2\")"
   ]
  },
  {
   "cell_type": "code",
   "execution_count": 68,
   "id": "4bd06244-0283-4152-85a2-5de71bc80be8",
   "metadata": {},
   "outputs": [
    {
     "data": {
      "text/html": [
       "\n",
       "        <iframe\n",
       "            width=\"800\"\n",
       "            height=\"600\"\n",
       "            src=\"http://127.0.0.1:16750/cfa0e701-9513-11ee-970e-001b21c10d52_988f190295ae11eeaa58001b21c10d52_0_image.html\"\n",
       "            frameborder=\"0\"\n",
       "            allowfullscreen\n",
       "            \n",
       "        ></iframe>\n",
       "        "
      ],
      "text/plain": [
       "<IPython.lib.display.IFrame at 0x24ad4f968f0>"
      ]
     },
     "metadata": {},
     "output_type": "display_data"
    },
    {
     "data": {
      "text/plain": [
       "RenderableImage( url='http://127.0.0.1:16750/cfa0e701-9513-11ee-970e-001b21c10d52_988f190295ae11eeaa58001b21c10d52_0_image.html' )"
      ]
     },
     "execution_count": 68,
     "metadata": {},
     "output_type": "execute_result"
    }
   ],
   "source": [
    "session.show(\"image\", width=800, height=600)"
   ]
  },
  {
   "cell_type": "code",
   "execution_count": 69,
   "id": "c9f85566-06d0-4a7b-b34a-894e1d842e83",
   "metadata": {},
   "outputs": [
    {
     "data": {
      "text/plain": [
       "ensobjlist([Class: ENS_PART_MODEL, desc: 'farfield_wall', CvfObjID: 1105, cached:no,\n",
       "            Class: ENS_PART_MODEL, desc: 'pilots:pilots-pilota', CvfObjID: 1108, cached:no,\n",
       "            Class: ENS_PART_MODEL, desc: 'pilots:pilots-pilotc', CvfObjID: 1111, cached:no,\n",
       "            Class: ENS_PART_MODEL, desc: 'pilots:pilots-pilotb', CvfObjID: 1114, cached:no,\n",
       "            Class: ENS_PART_MODEL, desc: 'tower28-sg:tower28-sg-solid', CvfObjID: 1117, cached:no,\n",
       "            Class: ENS_PART_MODEL, desc: 'windbrake28-sg:windbrake28-sg-cirpattern6', CvfObjID: 1120, cached:no,\n",
       "            Class: ENS_PART_MODEL, desc: 'inlet_pilotc2', CvfObjID: 1123, cached:no,\n",
       "            Class: ENS_PART_MODEL, desc: 'inlet_pilotc1', CvfObjID: 1126, cached:no,\n",
       "            Class: ENS_PART_MODEL, desc: 'inlet_pilotb2', CvfObjID: 1129, cached:no,\n",
       "            Class: ENS_PART_MODEL, desc: 'inlet_pilotb1', CvfObjID: 1132, cached:no,\n",
       "            Class: ENS_PART_MODEL, desc: 'inlet_pilota2', CvfObjID: 1135, cached:no,\n",
       "            Class: ENS_PART_MODEL, desc: 'inlet_pilota1', CvfObjID: 1138, cached:no,\n",
       "            Class: ENS_PART_MODEL, desc: 'inlet_hp', CvfObjID: 1141, cached:no,\n",
       "            Class: ENS_PART_MODEL, desc: 'farfield_wall:fluid:surface.2', CvfObjID: 1144, cached:no,\n",
       "            Class: ENS_PART_MODEL, desc: 'farfield_wall:fluid:surface.1', CvfObjID: 1147, cached:no,\n",
       "            Class: ENS_PART_MODEL, desc: 'farfield_wall:fluid:solid1', CvfObjID: 1150, cached:no,\n",
       "            Class: ENS_PART_MODEL, desc: 'farfield_wall:fluid:surface', CvfObjID: 1153, cached:no,\n",
       "            Class: ENS_PART_MODEL, desc: 'farfield_outlet', CvfObjID: 1156, cached:no,\n",
       "            Class: ENS_PART_MODEL, desc: 'farfield_inlet', CvfObjID: 1159, cached:no,\n",
       "            Class: ENS_PART_CLIP, desc: 'Mid-x', CvfObjID: 1387, cached:no])"
      ]
     },
     "execution_count": 69,
     "metadata": {},
     "output_type": "execute_result"
    }
   ],
   "source": [
    "session.ensight.objs.core.PARTS"
   ]
  },
  {
   "cell_type": "code",
   "execution_count": 72,
   "id": "bb2c49bc-1cf2-4d78-8c2b-3360e247640a",
   "metadata": {},
   "outputs": [],
   "source": [
    "core = session.ensight.objs.core"
   ]
  },
  {
   "cell_type": "code",
   "execution_count": 80,
   "id": "bf8a9d8c-fdda-47d1-b969-2ca751223bb3",
   "metadata": {},
   "outputs": [],
   "source": [
    "clip_default = core.objid"
   ]
  },
  {
   "cell_type": "code",
   "execution_count": 74,
   "id": "22ccedfe-8d49-451c-8b96-a73b015f6d6f",
   "metadata": {},
   "outputs": [],
   "source": [
    "parent_parts = core.PARTS"
   ]
  },
  {
   "cell_type": "code",
   "execution_count": 75,
   "id": "344cc8d2-927f-457c-9933-cb6f45f97b57",
   "metadata": {},
   "outputs": [],
   "source": [
    "clip = clip_default.createpart(name=\"Clip\", sources=parent_parts)[0]"
   ]
  },
  {
   "cell_type": "code",
   "execution_count": 76,
   "id": "7fc73837-4e83-4e21-b0a0-d8622f947f2f",
   "metadata": {},
   "outputs": [
    {
     "data": {
      "text/html": [
       "\n",
       "        <iframe\n",
       "            width=\"800\"\n",
       "            height=\"600\"\n",
       "            src=\"http://127.0.0.1:16750/cfa0e701-9513-11ee-970e-001b21c10d52_d4cede8a95c411ee932d001b21c10d52_0_image.html\"\n",
       "            frameborder=\"0\"\n",
       "            allowfullscreen\n",
       "            \n",
       "        ></iframe>\n",
       "        "
      ],
      "text/plain": [
       "<IPython.lib.display.IFrame at 0x24ad4ff4190>"
      ]
     },
     "metadata": {},
     "output_type": "display_data"
    },
    {
     "data": {
      "text/plain": [
       "RenderableImage( url='http://127.0.0.1:16750/cfa0e701-9513-11ee-970e-001b21c10d52_d4cede8a95c411ee932d001b21c10d52_0_image.html' )"
      ]
     },
     "execution_count": 76,
     "metadata": {},
     "output_type": "execute_result"
    }
   ],
   "source": [
    "session.show(\"image\", width=800, height=600)"
   ]
  },
  {
   "cell_type": "code",
   "execution_count": 77,
   "id": "7526beb2-a530-4625-8944-62a1ab53c5d7",
   "metadata": {},
   "outputs": [
    {
     "name": "stdout",
     "output_type": "stream",
     "text": [
      "Parts: [Class: ENS_PART_MODEL, desc: 'farfield_wall', CvfObjID: 1105, cached:no, Class: ENS_PART_MODEL, desc: 'pilots:pilots-pilota', CvfObjID: 1108, cached:no, Class: ENS_PART_MODEL, desc: 'pilots:pilots-pilotc', CvfObjID: 1111, cached:no, Class: ENS_PART_MODEL, desc: 'pilots:pilots-pilotb', CvfObjID: 1114, cached:no, Class: ENS_PART_MODEL, desc: 'tower28-sg:tower28-sg-solid', CvfObjID: 1117, cached:no, Class: ENS_PART_MODEL, desc: 'windbrake28-sg:windbrake28-sg-cirpattern6', CvfObjID: 1120, cached:no, Class: ENS_PART_MODEL, desc: 'inlet_pilotc2', CvfObjID: 1123, cached:no, Class: ENS_PART_MODEL, desc: 'inlet_pilotc1', CvfObjID: 1126, cached:no, Class: ENS_PART_MODEL, desc: 'inlet_pilotb2', CvfObjID: 1129, cached:no, Class: ENS_PART_MODEL, desc: 'inlet_pilotb1', CvfObjID: 1132, cached:no, Class: ENS_PART_MODEL, desc: 'inlet_pilota2', CvfObjID: 1135, cached:no, Class: ENS_PART_MODEL, desc: 'inlet_pilota1', CvfObjID: 1138, cached:no, Class: ENS_PART_MODEL, desc: 'inlet_hp', CvfObjID: 1141, cached:no, Class: ENS_PART_MODEL, desc: 'farfield_wall:fluid:surface.2', CvfObjID: 1144, cached:no, Class: ENS_PART_MODEL, desc: 'farfield_wall:fluid:surface.1', CvfObjID: 1147, cached:no, Class: ENS_PART_MODEL, desc: 'farfield_wall:fluid:solid1', CvfObjID: 1150, cached:no, Class: ENS_PART_MODEL, desc: 'farfield_wall:fluid:surface', CvfObjID: 1153, cached:no, Class: ENS_PART_MODEL, desc: 'farfield_outlet', CvfObjID: 1156, cached:no, Class: ENS_PART_MODEL, desc: 'farfield_inlet', CvfObjID: 1159, cached:no, Class: ENS_PART_CLIP, desc: 'Mid-x', CvfObjID: 1387, cached:no, Class: ENS_PART_CLIP, desc: 'Clip', CvfObjID: 4660, cached:no]\n"
     ]
    }
   ],
   "source": [
    "print(\"Parts:\", core.PARTS)"
   ]
  },
  {
   "cell_type": "code",
   "execution_count": null,
   "id": "3e08efc0-6a2e-4767-8c7a-5bb21dd61345",
   "metadata": {},
   "outputs": [],
   "source": []
  }
 ],
 "metadata": {
  "kernelspec": {
   "display_name": "Python 3 (ipykernel)",
   "language": "python",
   "name": "python3"
  },
  "language_info": {
   "codemirror_mode": {
    "name": "ipython",
    "version": 3
   },
   "file_extension": ".py",
   "mimetype": "text/x-python",
   "name": "python",
   "nbconvert_exporter": "python",
   "pygments_lexer": "ipython3",
   "version": "3.10.13"
  }
 },
 "nbformat": 4,
 "nbformat_minor": 5
}
