{
 "cells": [
  {
   "cell_type": "code",
   "execution_count": 4,
   "id": "2d7e81e9",
   "metadata": {},
   "outputs": [],
   "source": [
    "from ansys.pyensight.core import LocalLauncher"
   ]
  },
  {
   "cell_type": "code",
   "execution_count": 2,
   "id": "5ddc0543-e375-449d-8108-7ec396efb28d",
   "metadata": {},
   "outputs": [
    {
     "name": "stderr",
     "output_type": "stream",
     "text": [
      "C:\\Users\\geron-ma\\Portable-software\\Anaconda3\\Lib\\site-packages\\paramiko\\transport.py:219: CryptographyDeprecationWarning: Blowfish has been deprecated\n",
      "  \"class\": algorithms.Blowfish,\n"
     ]
    }
   ],
   "source": [
    "import ansys.fluent.core as pyfluent"
   ]
  },
  {
   "cell_type": "code",
   "execution_count": 3,
   "id": "a72bcb0f-5147-40b0-bec5-e32c631378da",
   "metadata": {},
   "outputs": [],
   "source": [
    "solver = pyfluent.launch_fluent(mode=\"solver\")"
   ]
  },
  {
   "cell_type": "code",
   "execution_count": 14,
   "id": "52f7bece-1ee7-4452-ad0c-94bc5fac999e",
   "metadata": {},
   "outputs": [],
   "source": [
    "pwd=\"C:\\Program Files\\ANSYS Inc\\\\v231\""
   ]
  },
  {
   "cell_type": "code",
   "execution_count": 17,
   "id": "1de4c824-d852-4c99-beae-c2e9ff747dc1",
   "metadata": {},
   "outputs": [],
   "source": [
    "session = LocalLauncher(batch=False,ansys_installation='C:\\Program Files\\Ansys Inc\\\\v231').start()"
   ]
  },
  {
   "cell_type": "code",
   "execution_count": 17,
   "id": "16ee9972-4e7b-471a-8e5e-d4f7c8a82a7d",
   "metadata": {},
   "outputs": [],
   "source": [
    "session = LocalLauncher(batch=False,ansys_installation='C:\\Program Files\\Ansys Inc\\\\v231').start()"
   ]
  },
  {
   "cell_type": "code",
   "execution_count": 20,
   "id": "8a0f1c90-f580-4da0-a95c-91f8fe94f897",
   "metadata": {},
   "outputs": [],
   "source": [
    "caseLoc=r\"\"\"C:\\Users\\geron-ma\\OneDrive - TUV SUD\\Ansys-Trainingmaterial\\Baseline-config\"\"\""
   ]
  },
  {
   "cell_type": "code",
   "execution_count": 21,
   "id": "38dfc5cc-9c2d-477a-beba-dcb4e45ecfe3",
   "metadata": {},
   "outputs": [],
   "source": [
    "session.load_data(caseLoc+\"\\mannaggia.encas\")"
   ]
  },
  {
   "cell_type": "code",
   "execution_count": 22,
   "id": "ead9e422-4e84-4995-bec7-ed395733ad17",
   "metadata": {},
   "outputs": [
    {
     "ename": "AttributeError",
     "evalue": "'Session' object has no attribute 'get_part'",
     "output_type": "error",
     "traceback": [
      "\u001b[1;31m---------------------------------------------------------------------------\u001b[0m",
      "\u001b[1;31mAttributeError\u001b[0m                            Traceback (most recent call last)",
      "Cell \u001b[1;32mIn[22], line 1\u001b[0m\n\u001b[1;32m----> 1\u001b[0m \u001b[43msession\u001b[49m\u001b[38;5;241;43m.\u001b[39;49m\u001b[43mget_part\u001b[49m(\u001b[38;5;241m1\u001b[39m)\n",
      "\u001b[1;31mAttributeError\u001b[0m: 'Session' object has no attribute 'get_part'"
     ]
    }
   ],
   "source": []
  },
  {
   "cell_type": "code",
   "execution_count": 24,
   "id": "6a253f09-65b0-4225-90ed-2c35bcd13eb7",
   "metadata": {},
   "outputs": [
    {
     "data": {
      "text/plain": [
       "0"
      ]
     },
     "execution_count": 24,
     "metadata": {},
     "output_type": "execute_result"
    }
   ],
   "source": [
    "session.ensight.part.select_begin(2,3,4)\n",
    "session.ensight.part.visible(\"OFF\")"
   ]
  },
  {
   "cell_type": "code",
   "execution_count": 27,
   "id": "4a31efca-c39f-44ac-886b-2f016a771f2e",
   "metadata": {},
   "outputs": [
    {
     "data": {
      "text/plain": [
       "0"
      ]
     },
     "execution_count": 27,
     "metadata": {},
     "output_type": "execute_result"
    }
   ],
   "source": [
    "#Part starting extracting results\n",
    "session.ensight.part.select_begin(1)\n",
    "session.ensight.clip.begin()\n",
    "session.ensight.clip.mesh_plane(\"X\")\n",
    "session.ensight.clip.value(\"MID-RANGE\")\n",
    "session.ensight.part.description(\"Cazzo\")\n",
    "session.ensight.clip.create()\n"
   ]
  },
  {
   "cell_type": "code",
   "execution_count": null,
   "id": "8f796659-a320-4803-8706-b11355e7a213",
   "metadata": {},
   "outputs": [],
   "source": []
  }
 ],
 "metadata": {
  "kernelspec": {
   "display_name": "Python 3 (ipykernel)",
   "language": "python",
   "name": "python3"
  },
  "language_info": {
   "codemirror_mode": {
    "name": "ipython",
    "version": 3
   },
   "file_extension": ".py",
   "mimetype": "text/x-python",
   "name": "python",
   "nbconvert_exporter": "python",
   "pygments_lexer": "ipython3",
   "version": "3.11.5"
  }
 },
 "nbformat": 4,
 "nbformat_minor": 5
}
